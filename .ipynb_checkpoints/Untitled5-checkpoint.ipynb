{
 "cells": [
  {
   "cell_type": "code",
   "execution_count": 3,
   "metadata": {},
   "outputs": [
    {
     "name": "stderr",
     "output_type": "stream",
     "text": [
      "Using TensorFlow backend.\n"
     ]
    },
    {
     "name": "stdout",
     "output_type": "stream",
     "text": [
      "height has been deprecated.\n",
      "\n"
     ]
    }
   ],
   "source": [
    "from __future__ import print_function\n",
    "from airflow.operators.python_operator import PythonOperator\n",
    "from airflow.operators.email_operator import EmailOperator\n",
    "from airflow.operators.dummy_operator import DummyOperator\n",
    "from airflow.operators.mysql_operator import MySqlOperator\n",
    "from airflow.models import DAG\n",
    "from datetime import datetime, timedelta\n",
    "from airflow.hooks.mysql_hook import MySqlHook\n",
    "import time\n",
    "from util import *\n",
    "from time import gmtime, strftime\n",
    "from pytz import timezone\n",
    "from datetime import datetime\n",
    "from sqlalchemy import ForeignKey, Table, Column, String, Integer, Float, Boolean, MetaData, select\n",
    "from joblib import Parallel, delayed\n",
    "from impala.dbapi import connect\n",
    "from impala.util import as_pandas\n"
   ]
  },
  {
   "cell_type": "code",
   "execution_count": 192,
   "metadata": {},
   "outputs": [],
   "source": [
    "epopcon_db = Epopcon_db()\n",
    "\n",
    "wspider_engine = epopcon_db.get_engine(production=True)\n",
    "wspider_temp_engine = epopcon_db.get_engine(production=False)"
   ]
  },
  {
   "cell_type": "code",
   "execution_count": 209,
   "metadata": {},
   "outputs": [],
   "source": [
    "not_clean = pd.read_sql_query(\"SELECT item_id FROM MWS_COLT_ITEM_EXTRACTED_FEATURE WHERE condition_clean = 0 LIMIT 3\", wspider_temp_engine)"
   ]
  },
  {
   "cell_type": "code",
   "execution_count": 210,
   "metadata": {},
   "outputs": [
    {
     "data": {
      "text/plain": [
       "array([425, 428, 434])"
      ]
     },
     "execution_count": 210,
     "metadata": {},
     "output_type": "execute_result"
    }
   ],
   "source": [
    "not_clean.item_id.values"
   ]
  },
  {
   "cell_type": "code",
   "execution_count": 212,
   "metadata": {},
   "outputs": [],
   "source": [
    "result = pd.read_sql_query(\"SELECT ID, SITE_NAME FROM MWS_COLT_ITEM WHERE RELEASE_DT > '2018-03-01' LIMIT 30000\", wspider_engine)\n",
    "\n",
    "\n",
    "result_dict = {a: b.ID.values for (a, b) in list(result.groupby('SITE_NAME'))}\n",
    "BATCH_SIZE = 100"
   ]
  },
  {
   "cell_type": "code",
   "execution_count": null,
   "metadata": {},
   "outputs": [],
   "source": [
    "result2 = pd.read_sql_query(\"SELECT * FROM MWS_COLT_ITEM_IVT\", wspider_engine)"
   ]
  },
  {
   "cell_type": "code",
   "execution_count": 213,
   "metadata": {},
   "outputs": [
    {
     "data": {
      "text/html": [
       "<div>\n",
       "<style>\n",
       "    .dataframe thead tr:only-child th {\n",
       "        text-align: right;\n",
       "    }\n",
       "\n",
       "    .dataframe thead th {\n",
       "        text-align: left;\n",
       "    }\n",
       "\n",
       "    .dataframe tbody tr th {\n",
       "        vertical-align: top;\n",
       "    }\n",
       "</style>\n",
       "<table border=\"1\" class=\"dataframe\">\n",
       "  <thead>\n",
       "    <tr style=\"text-align: right;\">\n",
       "      <th></th>\n",
       "      <th>ID</th>\n",
       "      <th>SITE_NAME</th>\n",
       "    </tr>\n",
       "  </thead>\n",
       "  <tbody>\n",
       "    <tr>\n",
       "      <th>0</th>\n",
       "      <td>8225669</td>\n",
       "      <td>HMALL</td>\n",
       "    </tr>\n",
       "    <tr>\n",
       "      <th>1</th>\n",
       "      <td>8225670</td>\n",
       "      <td>HMALL</td>\n",
       "    </tr>\n",
       "    <tr>\n",
       "      <th>2</th>\n",
       "      <td>8225671</td>\n",
       "      <td>lotte.com</td>\n",
       "    </tr>\n",
       "    <tr>\n",
       "      <th>3</th>\n",
       "      <td>8225672</td>\n",
       "      <td>lotte.com</td>\n",
       "    </tr>\n",
       "    <tr>\n",
       "      <th>4</th>\n",
       "      <td>8225673</td>\n",
       "      <td>lotte.com</td>\n",
       "    </tr>\n",
       "    <tr>\n",
       "      <th>...</th>\n",
       "      <td>...</td>\n",
       "      <td>...</td>\n",
       "    </tr>\n",
       "    <tr>\n",
       "      <th>29995</th>\n",
       "      <td>8255664</td>\n",
       "      <td>HMALL</td>\n",
       "    </tr>\n",
       "    <tr>\n",
       "      <th>29996</th>\n",
       "      <td>8255665</td>\n",
       "      <td>HMALL</td>\n",
       "    </tr>\n",
       "    <tr>\n",
       "      <th>29997</th>\n",
       "      <td>8255666</td>\n",
       "      <td>HMALL</td>\n",
       "    </tr>\n",
       "    <tr>\n",
       "      <th>29998</th>\n",
       "      <td>8255667</td>\n",
       "      <td>HMALL</td>\n",
       "    </tr>\n",
       "    <tr>\n",
       "      <th>29999</th>\n",
       "      <td>8255668</td>\n",
       "      <td>HMALL</td>\n",
       "    </tr>\n",
       "  </tbody>\n",
       "</table>\n",
       "<p>30000 rows × 2 columns</p>\n",
       "</div>"
      ],
      "text/plain": [
       "            ID  SITE_NAME\n",
       "0      8225669      HMALL\n",
       "1      8225670      HMALL\n",
       "2      8225671  lotte.com\n",
       "3      8225672  lotte.com\n",
       "4      8225673  lotte.com\n",
       "...        ...        ...\n",
       "29995  8255664      HMALL\n",
       "29996  8255665      HMALL\n",
       "29997  8255666      HMALL\n",
       "29998  8255667      HMALL\n",
       "29999  8255668      HMALL\n",
       "\n",
       "[30000 rows x 2 columns]"
      ]
     },
     "execution_count": 213,
     "metadata": {},
     "output_type": "execute_result"
    }
   ],
   "source": [
    "result2"
   ]
  },
  {
   "cell_type": "code",
   "execution_count": 182,
   "metadata": {},
   "outputs": [
    {
     "data": {
      "text/plain": [
       "True"
      ]
     },
     "execution_count": 182,
     "metadata": {},
     "output_type": "execute_result"
    }
   ],
   "source": [
    "'a' in ['a', 'b']"
   ]
  },
  {
   "cell_type": "code",
   "execution_count": 181,
   "metadata": {},
   "outputs": [
    {
     "data": {
      "text/plain": [
       "array(['HMALL', 'lotte.com', 'DESCENTE', 'GSSHOP', 'nbkorea', 'NIKE'], dtype=object)"
      ]
     },
     "execution_count": 181,
     "metadata": {},
     "output_type": "execute_result"
    }
   ],
   "source": [
    "result.SITE_NAME.unique()"
   ]
  },
  {
   "cell_type": "code",
   "execution_count": 115,
   "metadata": {},
   "outputs": [],
   "source": [
    "splitted_input = []\n",
    "for key, value in result_dict.iteritems():\n",
    "    n_split = math.ceil(len(value) / float(BATCH_SIZE))\n",
    "    splitted_lsts = np.array_split(value, n_split)\n",
    "    for splitted_lst in splitted_lsts:\n",
    "        splitted_input.append({'SIZE_NAME': key, 'ITEM_IDS': splitted_lst})"
   ]
  },
  {
   "cell_type": "code",
   "execution_count": 120,
   "metadata": {},
   "outputs": [],
   "source": [
    "dataset = splitted_input[0]"
   ]
  },
  {
   "cell_type": "code",
   "execution_count": 172,
   "metadata": {},
   "outputs": [],
   "source": [
    "\n",
    "item_ids = str(tuple([item_id for item_id in dataset['ITEM_IDS']]))\n",
    "sql = \"SELECT ITEM_ID, STOCK_ID, STOCK_AMOUNT, COLLECT_DAY, REG_ID, REG_DT FROM MWS_COLT_ITEM_IVT WHERE ITEM_ID IN %s\" % item_ids"
   ]
  },
  {
   "cell_type": "code",
   "execution_count": 173,
   "metadata": {},
   "outputs": [],
   "source": [
    "results = pd.read_sql_query(sql, wspider_engine)"
   ]
  },
  {
   "cell_type": "code",
   "execution_count": 184,
   "metadata": {},
   "outputs": [],
   "source": [
    "tmp = results.head(10)"
   ]
  },
  {
   "cell_type": "code",
   "execution_count": 189,
   "metadata": {},
   "outputs": [],
   "source": [
    "tuples = tuple([tuple(x) for x in tmp.values])"
   ]
  },
  {
   "cell_type": "code",
   "execution_count": 191,
   "metadata": {},
   "outputs": [],
   "source": [
    "import MySQLdb\n",
    "import MySQLdb.cursors\n"
   ]
  },
  {
   "cell_type": "code",
   "execution_count": 186,
   "metadata": {},
   "outputs": [
    {
     "data": {
      "text/plain": [
       "[Pandas(ITEM_ID=6739976, STOCK_ID='5509409554175882274', STOCK_AMOUNT=300, COLLECT_DAY='20180102', REG_ID='SERVER', REG_DT=Timestamp('2018-01-02 11:02:42')),\n",
       " Pandas(ITEM_ID=6739976, STOCK_ID='5509409554175882274', STOCK_AMOUNT=299, COLLECT_DAY='20180103', REG_ID='SERVER', REG_DT=Timestamp('2018-01-03 03:10:05')),\n",
       " Pandas(ITEM_ID=6739976, STOCK_ID='5509409554175882274', STOCK_AMOUNT=299, COLLECT_DAY='20180103', REG_ID='SERVER', REG_DT=Timestamp('2018-01-03 10:53:39')),\n",
       " Pandas(ITEM_ID=6739976, STOCK_ID='5509409554175882274', STOCK_AMOUNT=299, COLLECT_DAY='20180103', REG_ID='SERVER', REG_DT=Timestamp('2018-01-03 18:29:23')),\n",
       " Pandas(ITEM_ID=6739976, STOCK_ID='5509409554175882274', STOCK_AMOUNT=299, COLLECT_DAY='20180104', REG_ID='SERVER', REG_DT=Timestamp('2018-01-04 10:36:26')),\n",
       " Pandas(ITEM_ID=6739976, STOCK_ID='5509409554175882274', STOCK_AMOUNT=299, COLLECT_DAY='20180105', REG_ID='SERVER', REG_DT=Timestamp('2018-01-05 13:39:20')),\n",
       " Pandas(ITEM_ID=6739976, STOCK_ID='5509409554175882274', STOCK_AMOUNT=299, COLLECT_DAY='20180106', REG_ID='SERVER', REG_DT=Timestamp('2018-01-06 13:07:52')),\n",
       " Pandas(ITEM_ID=6739976, STOCK_ID='5509409554175882274', STOCK_AMOUNT=299, COLLECT_DAY='20180107', REG_ID='SERVER', REG_DT=Timestamp('2018-01-07 12:37:34')),\n",
       " Pandas(ITEM_ID=6739976, STOCK_ID='5509409554175882274', STOCK_AMOUNT=299, COLLECT_DAY='20180108', REG_ID='SERVER', REG_DT=Timestamp('2018-01-08 12:14:12')),\n",
       " Pandas(ITEM_ID=6739976, STOCK_ID='5509409554175882274', STOCK_AMOUNT=299, COLLECT_DAY='20180109', REG_ID='SERVER', REG_DT=Timestamp('2018-01-09 11:32:34'))]"
      ]
     },
     "execution_count": 186,
     "metadata": {},
     "output_type": "execute_result"
    }
   ],
   "source": [
    "list(tmp.itertuples(index=False))"
   ]
  },
  {
   "cell_type": "code",
   "execution_count": 174,
   "metadata": {},
   "outputs": [
    {
     "data": {
      "text/html": [
       "<div>\n",
       "<style>\n",
       "    .dataframe thead tr:only-child th {\n",
       "        text-align: right;\n",
       "    }\n",
       "\n",
       "    .dataframe thead th {\n",
       "        text-align: left;\n",
       "    }\n",
       "\n",
       "    .dataframe tbody tr th {\n",
       "        vertical-align: top;\n",
       "    }\n",
       "</style>\n",
       "<table border=\"1\" class=\"dataframe\">\n",
       "  <thead>\n",
       "    <tr style=\"text-align: right;\">\n",
       "      <th></th>\n",
       "      <th>ITEM_ID</th>\n",
       "      <th>STOCK_ID</th>\n",
       "      <th>STOCK_AMOUNT</th>\n",
       "      <th>COLLECT_DAY</th>\n",
       "      <th>REG_ID</th>\n",
       "      <th>REG_DT</th>\n",
       "    </tr>\n",
       "  </thead>\n",
       "  <tbody>\n",
       "    <tr>\n",
       "      <th>0</th>\n",
       "      <td>6739976</td>\n",
       "      <td>5509409554175882274</td>\n",
       "      <td>300</td>\n",
       "      <td>20180102</td>\n",
       "      <td>SERVER</td>\n",
       "      <td>2018-01-02 11:02:42</td>\n",
       "    </tr>\n",
       "    <tr>\n",
       "      <th>1</th>\n",
       "      <td>6739976</td>\n",
       "      <td>5509409554175882274</td>\n",
       "      <td>299</td>\n",
       "      <td>20180103</td>\n",
       "      <td>SERVER</td>\n",
       "      <td>2018-01-03 03:10:05</td>\n",
       "    </tr>\n",
       "    <tr>\n",
       "      <th>2</th>\n",
       "      <td>6739976</td>\n",
       "      <td>5509409554175882274</td>\n",
       "      <td>299</td>\n",
       "      <td>20180103</td>\n",
       "      <td>SERVER</td>\n",
       "      <td>2018-01-03 10:53:39</td>\n",
       "    </tr>\n",
       "    <tr>\n",
       "      <th>3</th>\n",
       "      <td>6739976</td>\n",
       "      <td>5509409554175882274</td>\n",
       "      <td>299</td>\n",
       "      <td>20180103</td>\n",
       "      <td>SERVER</td>\n",
       "      <td>2018-01-03 18:29:23</td>\n",
       "    </tr>\n",
       "    <tr>\n",
       "      <th>4</th>\n",
       "      <td>6739976</td>\n",
       "      <td>5509409554175882274</td>\n",
       "      <td>299</td>\n",
       "      <td>20180104</td>\n",
       "      <td>SERVER</td>\n",
       "      <td>2018-01-04 10:36:26</td>\n",
       "    </tr>\n",
       "    <tr>\n",
       "      <th>...</th>\n",
       "      <td>...</td>\n",
       "      <td>...</td>\n",
       "      <td>...</td>\n",
       "      <td>...</td>\n",
       "      <td>...</td>\n",
       "      <td>...</td>\n",
       "    </tr>\n",
       "    <tr>\n",
       "      <th>8180</th>\n",
       "      <td>6749576</td>\n",
       "      <td>4755077369539950068</td>\n",
       "      <td>438</td>\n",
       "      <td>20180104</td>\n",
       "      <td>SERVER</td>\n",
       "      <td>2018-01-04 18:33:33</td>\n",
       "    </tr>\n",
       "    <tr>\n",
       "      <th>8181</th>\n",
       "      <td>6749576</td>\n",
       "      <td>4755077369539950068</td>\n",
       "      <td>437</td>\n",
       "      <td>20180106</td>\n",
       "      <td>SERVER</td>\n",
       "      <td>2018-01-06 12:57:28</td>\n",
       "    </tr>\n",
       "    <tr>\n",
       "      <th>8182</th>\n",
       "      <td>6749576</td>\n",
       "      <td>4755077369539950068</td>\n",
       "      <td>437</td>\n",
       "      <td>20180107</td>\n",
       "      <td>SERVER</td>\n",
       "      <td>2018-01-07 12:03:49</td>\n",
       "    </tr>\n",
       "    <tr>\n",
       "      <th>8183</th>\n",
       "      <td>6749576</td>\n",
       "      <td>4755077369539950068</td>\n",
       "      <td>435</td>\n",
       "      <td>20180108</td>\n",
       "      <td>SERVER</td>\n",
       "      <td>2018-01-08 12:00:26</td>\n",
       "    </tr>\n",
       "    <tr>\n",
       "      <th>8184</th>\n",
       "      <td>6749576</td>\n",
       "      <td>4755077369539950068</td>\n",
       "      <td>434</td>\n",
       "      <td>20180110</td>\n",
       "      <td>SERVER</td>\n",
       "      <td>2018-01-10 10:55:00</td>\n",
       "    </tr>\n",
       "  </tbody>\n",
       "</table>\n",
       "<p>8185 rows × 6 columns</p>\n",
       "</div>"
      ],
      "text/plain": [
       "      ITEM_ID             STOCK_ID  STOCK_AMOUNT COLLECT_DAY  REG_ID              REG_DT\n",
       "0     6739976  5509409554175882274           300    20180102  SERVER 2018-01-02 11:02:42\n",
       "1     6739976  5509409554175882274           299    20180103  SERVER 2018-01-03 03:10:05\n",
       "2     6739976  5509409554175882274           299    20180103  SERVER 2018-01-03 10:53:39\n",
       "3     6739976  5509409554175882274           299    20180103  SERVER 2018-01-03 18:29:23\n",
       "4     6739976  5509409554175882274           299    20180104  SERVER 2018-01-04 10:36:26\n",
       "...       ...                  ...           ...         ...     ...                 ...\n",
       "8180  6749576  4755077369539950068           438    20180104  SERVER 2018-01-04 18:33:33\n",
       "8181  6749576  4755077369539950068           437    20180106  SERVER 2018-01-06 12:57:28\n",
       "8182  6749576  4755077369539950068           437    20180107  SERVER 2018-01-07 12:03:49\n",
       "8183  6749576  4755077369539950068           435    20180108  SERVER 2018-01-08 12:00:26\n",
       "8184  6749576  4755077369539950068           434    20180110  SERVER 2018-01-10 10:55:00\n",
       "\n",
       "[8185 rows x 6 columns]"
      ]
     },
     "execution_count": 174,
     "metadata": {},
     "output_type": "execute_result"
    }
   ],
   "source": [
    "results"
   ]
  },
  {
   "cell_type": "code",
   "execution_count": 128,
   "metadata": {},
   "outputs": [
    {
     "data": {
      "text/plain": [
       "(6739976,\n",
       " 6739977,\n",
       " 6739978,\n",
       " 6739979,\n",
       " 6739980,\n",
       " 6739981,\n",
       " 6739982,\n",
       " 6739983,\n",
       " 6739984,\n",
       " 6739985,\n",
       " 6739986,\n",
       " 6739987,\n",
       " 6739988,\n",
       " 6739989,\n",
       " 6739990,\n",
       " 6739991,\n",
       " 6739992,\n",
       " 6739993,\n",
       " 6740377,\n",
       " 6740378,\n",
       " 6740379,\n",
       " 6740380,\n",
       " 6740381,\n",
       " 6740382,\n",
       " 6740383,\n",
       " 6740384,\n",
       " 6740385,\n",
       " 6740386,\n",
       " 6740387,\n",
       " 6740388,\n",
       " 6740389,\n",
       " 6740390,\n",
       " 6740391,\n",
       " 6740392,\n",
       " 6740393,\n",
       " 6740394,\n",
       " 6740395,\n",
       " 6740396,\n",
       " 6740397,\n",
       " 6740398,\n",
       " 6740399,\n",
       " 6740400,\n",
       " 6740401,\n",
       " 6740402,\n",
       " 6740403,\n",
       " 6740404,\n",
       " 6740405,\n",
       " 6740406,\n",
       " 6740407,\n",
       " 6740408,\n",
       " 6740409,\n",
       " 6740410,\n",
       " 6740411,\n",
       " 6740412,\n",
       " 6740413,\n",
       " 6740414,\n",
       " 6740415,\n",
       " 6740416,\n",
       " 6740417,\n",
       " 6740418,\n",
       " 6740419,\n",
       " 6740420,\n",
       " 6740421,\n",
       " 6740929,\n",
       " 6740930,\n",
       " 6740931,\n",
       " 6740932,\n",
       " 6740933,\n",
       " 6740934,\n",
       " 6740935,\n",
       " 6740936,\n",
       " 6740937,\n",
       " 6740938,\n",
       " 6740939,\n",
       " 6740940,\n",
       " 6740941,\n",
       " 6740942,\n",
       " 6740943,\n",
       " 6748414,\n",
       " 6748415,\n",
       " 6748416,\n",
       " 6748417,\n",
       " 6748418,\n",
       " 6748422,\n",
       " 6748423,\n",
       " 6748424,\n",
       " 6748425,\n",
       " 6748426,\n",
       " 6749569,\n",
       " 6749570,\n",
       " 6749571,\n",
       " 6749572,\n",
       " 6749573,\n",
       " 6749574,\n",
       " 6749575,\n",
       " 6749576)"
      ]
     },
     "execution_count": 128,
     "metadata": {},
     "output_type": "execute_result"
    }
   ],
   "source": [
    "tuple([item_id for item_id in item_ids])"
   ]
  },
  {
   "cell_type": "code",
   "execution_count": null,
   "metadata": {},
   "outputs": [],
   "source": []
  },
  {
   "cell_type": "code",
   "execution_count": null,
   "metadata": {},
   "outputs": [],
   "source": []
  },
  {
   "cell_type": "code",
   "execution_count": null,
   "metadata": {},
   "outputs": [],
   "source": []
  },
  {
   "cell_type": "code",
   "execution_count": null,
   "metadata": {},
   "outputs": [],
   "source": []
  },
  {
   "cell_type": "raw",
   "metadata": {},
   "source": [
    "hook = MySqlHook(mysql_conn_id='mysql_wspider')\n",
    "result = hook.get_pandas_df(sql='SELECT ID, SITE_NAME FROM wspider.MWS_COLT_ITEM_IVT LIMIT 10')\n",
    "item_ids = result.ID.values\n",
    "print(item_ids)"
   ]
  },
  {
   "cell_type": "code",
   "execution_count": null,
   "metadata": {},
   "outputs": [],
   "source": []
  }
 ],
 "metadata": {
  "kernelspec": {
   "display_name": "Python 2",
   "language": "python",
   "name": "python2"
  },
  "language_info": {
   "codemirror_mode": {
    "name": "ipython",
    "version": 2
   },
   "file_extension": ".py",
   "mimetype": "text/x-python",
   "name": "python",
   "nbconvert_exporter": "python",
   "pygments_lexer": "ipython2",
   "version": "2.7.14"
  }
 },
 "nbformat": 4,
 "nbformat_minor": 2
}
