{
 "cells": [
  {
   "cell_type": "code",
   "execution_count": 1,
   "metadata": {},
   "outputs": [
    {
     "name": "stderr",
     "output_type": "stream",
     "text": [
      "Using TensorFlow backend.\n"
     ]
    }
   ],
   "source": [
    "from util import *\n",
    "%load_ext autoreload\n",
    "# # from ggplot import *\n",
    "%autoreload 2"
   ]
  },
  {
   "cell_type": "code",
   "execution_count": 47,
   "metadata": {},
   "outputs": [],
   "source": [
    "def process_batch(file):\n",
    "    \n",
    "    batch = pd.read_pickle(file)[['ITEM_ID', 'STOCK_ID', 'STOCK_AMOUNT', 'REG_DT']]\n",
    "    \n",
    "    result_lst = []\n",
    "    for idx, group_by_item_id in batch.groupby('ITEM_ID'):\n",
    "        tmp = list(group_by_item_id.groupby('STOCK_ID'))[0][1]    \n",
    "        result_lst.append(get_feature_engineered_bundle(tmp))\n",
    "\n",
    "\n",
    "    results = [result for result in result_lst if result != None]\n",
    "    result_df = pd.DataFrame(results)\n",
    "    filtered_df = get_filtered_fg_df(result_df)\n",
    "    result_df.to_pickle('data/pickle/ivt_item_feature_engineered/%s' % str(file.split('/')[-1]))\n",
    "\n",
    "    # filter dataframe\n",
    "#     filtered_df = get_filtered_fg_df(result_df)\n",
    "    "
   ]
  },
  {
   "cell_type": "code",
   "execution_count": 50,
   "metadata": {},
   "outputs": [],
   "source": [
    "files = glob.glob(\"data/pickle/ivt_item/*.pkl\")"
   ]
  },
  {
   "cell_type": "code",
   "execution_count": 173,
   "metadata": {},
   "outputs": [],
   "source": [
    "file = files[0]"
   ]
  },
  {
   "cell_type": "code",
   "execution_count": 172,
   "metadata": {},
   "outputs": [],
   "source": [
    "batch = pd.read_pickle(file)[['ID', 'ITEM_ID', 'STOCK_ID', 'STOCK_AMOUNT', 'REG_DT']]\n",
    "batch = batch.set_index('REG_DT')\n"
   ]
  },
  {
   "cell_type": "code",
   "execution_count": 56,
   "metadata": {},
   "outputs": [],
   "source": [
    "result_lst = []\n",
    "for idx, group in batch.groupby('STOCK_ID'):\n",
    "    result_lst.append(get_feature_engineered_bundle(group))\n"
   ]
  },
  {
   "cell_type": "code",
   "execution_count": 168,
   "metadata": {},
   "outputs": [],
   "source": [
    "# batch.Y.info()"
   ]
  },
  {
   "cell_type": "code",
   "execution_count": 171,
   "metadata": {},
   "outputs": [
    {
     "ename": "KeyboardInterrupt",
     "evalue": "",
     "output_type": "error",
     "traceback": [
      "\u001b[0;31m---------------------------------------------------------------------------\u001b[0m",
      "\u001b[0;31mKeyboardInterrupt\u001b[0m                         Traceback (most recent call last)",
      "\u001b[0;32m<ipython-input-171-a5c90a08b863>\u001b[0m in \u001b[0;36m<module>\u001b[0;34m()\u001b[0m\n\u001b[1;32m     12\u001b[0m \u001b[0;32mfor\u001b[0m \u001b[0mstock_id\u001b[0m\u001b[0;34m,\u001b[0m \u001b[0mdf\u001b[0m \u001b[0;32min\u001b[0m \u001b[0mbatch\u001b[0m\u001b[0;34m.\u001b[0m\u001b[0mgroupby\u001b[0m\u001b[0;34m(\u001b[0m\u001b[0;34m'STOCK_ID'\u001b[0m\u001b[0;34m)\u001b[0m\u001b[0;34m:\u001b[0m\u001b[0;34m\u001b[0m\u001b[0m\n\u001b[1;32m     13\u001b[0m     \u001b[0mfig\u001b[0m \u001b[0;34m=\u001b[0m \u001b[0mplt\u001b[0m\u001b[0;34m.\u001b[0m\u001b[0mfigure\u001b[0m\u001b[0;34m(\u001b[0m\u001b[0;34m)\u001b[0m\u001b[0;34m\u001b[0m\u001b[0m\n\u001b[0;32m---> 14\u001b[0;31m     \u001b[0mplt\u001b[0m\u001b[0;34m.\u001b[0m\u001b[0mplot\u001b[0m\u001b[0;34m(\u001b[0m\u001b[0mdf\u001b[0m\u001b[0;34m.\u001b[0m\u001b[0mindex\u001b[0m\u001b[0;34m,\u001b[0m \u001b[0mdf\u001b[0m\u001b[0;34m.\u001b[0m\u001b[0mSTOCK_AMOUNT\u001b[0m\u001b[0;34m,\u001b[0m \u001b[0;34m'.'\u001b[0m\u001b[0;34m)\u001b[0m\u001b[0;34m\u001b[0m\u001b[0m\n\u001b[0m\u001b[1;32m     15\u001b[0m     \u001b[0mplt\u001b[0m\u001b[0;34m.\u001b[0m\u001b[0maxis\u001b[0m\u001b[0;34m(\u001b[0m\u001b[0;34m'off'\u001b[0m\u001b[0;34m)\u001b[0m\u001b[0;34m\u001b[0m\u001b[0m\n\u001b[1;32m     16\u001b[0m \u001b[0;34m\u001b[0m\u001b[0m\n",
      "\u001b[0;32m/Users/Daniel/anaconda3/envs/carnegie/lib/python2.7/site-packages/matplotlib/pyplot.pyc\u001b[0m in \u001b[0;36mplot\u001b[0;34m(*args, **kwargs)\u001b[0m\n\u001b[1;32m   3248\u001b[0m \u001b[0;34m@\u001b[0m\u001b[0m_autogen_docstring\u001b[0m\u001b[0;34m(\u001b[0m\u001b[0mAxes\u001b[0m\u001b[0;34m.\u001b[0m\u001b[0mplot\u001b[0m\u001b[0;34m)\u001b[0m\u001b[0;34m\u001b[0m\u001b[0m\n\u001b[1;32m   3249\u001b[0m \u001b[0;32mdef\u001b[0m \u001b[0mplot\u001b[0m\u001b[0;34m(\u001b[0m\u001b[0;34m*\u001b[0m\u001b[0margs\u001b[0m\u001b[0;34m,\u001b[0m \u001b[0;34m**\u001b[0m\u001b[0mkwargs\u001b[0m\u001b[0;34m)\u001b[0m\u001b[0;34m:\u001b[0m\u001b[0;34m\u001b[0m\u001b[0m\n\u001b[0;32m-> 3250\u001b[0;31m     \u001b[0max\u001b[0m \u001b[0;34m=\u001b[0m \u001b[0mgca\u001b[0m\u001b[0;34m(\u001b[0m\u001b[0;34m)\u001b[0m\u001b[0;34m\u001b[0m\u001b[0m\n\u001b[0m\u001b[1;32m   3251\u001b[0m     \u001b[0;31m# Deprecated: allow callers to override the hold state\u001b[0m\u001b[0;34m\u001b[0m\u001b[0;34m\u001b[0m\u001b[0m\n\u001b[1;32m   3252\u001b[0m     \u001b[0;31m# by passing hold=True|False\u001b[0m\u001b[0;34m\u001b[0m\u001b[0;34m\u001b[0m\u001b[0m\n",
      "\u001b[0;32m/Users/Daniel/anaconda3/envs/carnegie/lib/python2.7/site-packages/matplotlib/pyplot.pyc\u001b[0m in \u001b[0;36mgca\u001b[0;34m(**kwargs)\u001b[0m\n\u001b[1;32m    960\u001b[0m     \u001b[0mmatplotlib\u001b[0m\u001b[0;34m.\u001b[0m\u001b[0mfigure\u001b[0m\u001b[0;34m.\u001b[0m\u001b[0mFigure\u001b[0m\u001b[0;34m.\u001b[0m\u001b[0mgca\u001b[0m \u001b[0;34m:\u001b[0m \u001b[0mThe\u001b[0m \u001b[0mfigure\u001b[0m\u001b[0;31m'\u001b[0m\u001b[0ms\u001b[0m \u001b[0mgca\u001b[0m \u001b[0mmethod\u001b[0m\u001b[0;34m.\u001b[0m\u001b[0;34m\u001b[0m\u001b[0m\n\u001b[1;32m    961\u001b[0m     \"\"\"\n\u001b[0;32m--> 962\u001b[0;31m     \u001b[0;32mreturn\u001b[0m \u001b[0mgcf\u001b[0m\u001b[0;34m(\u001b[0m\u001b[0;34m)\u001b[0m\u001b[0;34m.\u001b[0m\u001b[0mgca\u001b[0m\u001b[0;34m(\u001b[0m\u001b[0;34m**\u001b[0m\u001b[0mkwargs\u001b[0m\u001b[0;34m)\u001b[0m\u001b[0;34m\u001b[0m\u001b[0m\n\u001b[0m\u001b[1;32m    963\u001b[0m \u001b[0;34m\u001b[0m\u001b[0m\n\u001b[1;32m    964\u001b[0m \u001b[0;31m# More ways of creating axes:\u001b[0m\u001b[0;34m\u001b[0m\u001b[0;34m\u001b[0m\u001b[0m\n",
      "\u001b[0;32m/Users/Daniel/anaconda3/envs/carnegie/lib/python2.7/site-packages/matplotlib/figure.pyc\u001b[0m in \u001b[0;36mgca\u001b[0;34m(self, **kwargs)\u001b[0m\n\u001b[1;32m   1624\u001b[0m \u001b[0;34m\u001b[0m\u001b[0m\n\u001b[1;32m   1625\u001b[0m         \u001b[0;31m# no axes found, so create one which spans the figure\u001b[0m\u001b[0;34m\u001b[0m\u001b[0;34m\u001b[0m\u001b[0m\n\u001b[0;32m-> 1626\u001b[0;31m         \u001b[0;32mreturn\u001b[0m \u001b[0mself\u001b[0m\u001b[0;34m.\u001b[0m\u001b[0madd_subplot\u001b[0m\u001b[0;34m(\u001b[0m\u001b[0;36m1\u001b[0m\u001b[0;34m,\u001b[0m \u001b[0;36m1\u001b[0m\u001b[0;34m,\u001b[0m \u001b[0;36m1\u001b[0m\u001b[0;34m,\u001b[0m \u001b[0;34m**\u001b[0m\u001b[0mkwargs\u001b[0m\u001b[0;34m)\u001b[0m\u001b[0;34m\u001b[0m\u001b[0m\n\u001b[0m\u001b[1;32m   1627\u001b[0m \u001b[0;34m\u001b[0m\u001b[0m\n\u001b[1;32m   1628\u001b[0m     \u001b[0;32mdef\u001b[0m \u001b[0msca\u001b[0m\u001b[0;34m(\u001b[0m\u001b[0mself\u001b[0m\u001b[0;34m,\u001b[0m \u001b[0ma\u001b[0m\u001b[0;34m)\u001b[0m\u001b[0;34m:\u001b[0m\u001b[0;34m\u001b[0m\u001b[0m\n",
      "\u001b[0;32m/Users/Daniel/anaconda3/envs/carnegie/lib/python2.7/site-packages/matplotlib/figure.pyc\u001b[0m in \u001b[0;36madd_subplot\u001b[0;34m(self, *args, **kwargs)\u001b[0m\n\u001b[1;32m   1072\u001b[0m                     \u001b[0mself\u001b[0m\u001b[0;34m.\u001b[0m\u001b[0m_axstack\u001b[0m\u001b[0;34m.\u001b[0m\u001b[0mremove\u001b[0m\u001b[0;34m(\u001b[0m\u001b[0max\u001b[0m\u001b[0;34m)\u001b[0m\u001b[0;34m\u001b[0m\u001b[0m\n\u001b[1;32m   1073\u001b[0m \u001b[0;34m\u001b[0m\u001b[0m\n\u001b[0;32m-> 1074\u001b[0;31m             \u001b[0ma\u001b[0m \u001b[0;34m=\u001b[0m \u001b[0msubplot_class_factory\u001b[0m\u001b[0;34m(\u001b[0m\u001b[0mprojection_class\u001b[0m\u001b[0;34m)\u001b[0m\u001b[0;34m(\u001b[0m\u001b[0mself\u001b[0m\u001b[0;34m,\u001b[0m \u001b[0;34m*\u001b[0m\u001b[0margs\u001b[0m\u001b[0;34m,\u001b[0m \u001b[0;34m**\u001b[0m\u001b[0mkwargs\u001b[0m\u001b[0;34m)\u001b[0m\u001b[0;34m\u001b[0m\u001b[0m\n\u001b[0m\u001b[1;32m   1075\u001b[0m \u001b[0;34m\u001b[0m\u001b[0m\n\u001b[1;32m   1076\u001b[0m         \u001b[0mself\u001b[0m\u001b[0;34m.\u001b[0m\u001b[0m_axstack\u001b[0m\u001b[0;34m.\u001b[0m\u001b[0madd\u001b[0m\u001b[0;34m(\u001b[0m\u001b[0mkey\u001b[0m\u001b[0;34m,\u001b[0m \u001b[0ma\u001b[0m\u001b[0;34m)\u001b[0m\u001b[0;34m\u001b[0m\u001b[0m\n",
      "\u001b[0;32m/Users/Daniel/anaconda3/envs/carnegie/lib/python2.7/site-packages/matplotlib/axes/_subplots.pyc\u001b[0m in \u001b[0;36m__init__\u001b[0;34m(self, fig, *args, **kwargs)\u001b[0m\n\u001b[1;32m     71\u001b[0m \u001b[0;34m\u001b[0m\u001b[0m\n\u001b[1;32m     72\u001b[0m         \u001b[0;31m# _axes_class is set in the subplot_class_factory\u001b[0m\u001b[0;34m\u001b[0m\u001b[0;34m\u001b[0m\u001b[0m\n\u001b[0;32m---> 73\u001b[0;31m         \u001b[0mself\u001b[0m\u001b[0;34m.\u001b[0m\u001b[0m_axes_class\u001b[0m\u001b[0;34m.\u001b[0m\u001b[0m__init__\u001b[0m\u001b[0;34m(\u001b[0m\u001b[0mself\u001b[0m\u001b[0;34m,\u001b[0m \u001b[0mfig\u001b[0m\u001b[0;34m,\u001b[0m \u001b[0mself\u001b[0m\u001b[0;34m.\u001b[0m\u001b[0mfigbox\u001b[0m\u001b[0;34m,\u001b[0m \u001b[0;34m**\u001b[0m\u001b[0mkwargs\u001b[0m\u001b[0;34m)\u001b[0m\u001b[0;34m\u001b[0m\u001b[0m\n\u001b[0m\u001b[1;32m     74\u001b[0m \u001b[0;34m\u001b[0m\u001b[0m\n\u001b[1;32m     75\u001b[0m     \u001b[0;32mdef\u001b[0m \u001b[0m__reduce__\u001b[0m\u001b[0;34m(\u001b[0m\u001b[0mself\u001b[0m\u001b[0;34m)\u001b[0m\u001b[0;34m:\u001b[0m\u001b[0;34m\u001b[0m\u001b[0m\n",
      "\u001b[0;32m/Users/Daniel/anaconda3/envs/carnegie/lib/python2.7/site-packages/matplotlib/axes/_base.pyc\u001b[0m in \u001b[0;36m__init__\u001b[0;34m(self, fig, rect, facecolor, frameon, sharex, sharey, label, xscale, yscale, axisbg, **kwargs)\u001b[0m\n\u001b[1;32m    569\u001b[0m             \u001b[0mleft\u001b[0m\u001b[0;34m=\u001b[0m\u001b[0mrcParams\u001b[0m\u001b[0;34m[\u001b[0m\u001b[0;34m'ytick.left'\u001b[0m\u001b[0;34m]\u001b[0m \u001b[0;32mand\u001b[0m \u001b[0mrcParams\u001b[0m\u001b[0;34m[\u001b[0m\u001b[0;34m'ytick.minor.left'\u001b[0m\u001b[0;34m]\u001b[0m\u001b[0;34m,\u001b[0m\u001b[0;34m\u001b[0m\u001b[0m\n\u001b[1;32m    570\u001b[0m             \u001b[0mright\u001b[0m\u001b[0;34m=\u001b[0m\u001b[0mrcParams\u001b[0m\u001b[0;34m[\u001b[0m\u001b[0;34m'ytick.right'\u001b[0m\u001b[0;34m]\u001b[0m \u001b[0;32mand\u001b[0m \u001b[0mrcParams\u001b[0m\u001b[0;34m[\u001b[0m\u001b[0;34m'ytick.minor.right'\u001b[0m\u001b[0;34m]\u001b[0m\u001b[0;34m,\u001b[0m\u001b[0;34m\u001b[0m\u001b[0m\n\u001b[0;32m--> 571\u001b[0;31m             which='minor')\n\u001b[0m\u001b[1;32m    572\u001b[0m \u001b[0;34m\u001b[0m\u001b[0m\n\u001b[1;32m    573\u001b[0m         self.tick_params(\n",
      "\u001b[0;32m/Users/Daniel/anaconda3/envs/carnegie/lib/python2.7/site-packages/matplotlib/axes/_base.pyc\u001b[0m in \u001b[0;36mtick_params\u001b[0;34m(self, axis, **kwargs)\u001b[0m\n\u001b[1;32m   2757\u001b[0m             \u001b[0mxkw\u001b[0m\u001b[0;34m.\u001b[0m\u001b[0mpop\u001b[0m\u001b[0;34m(\u001b[0m\u001b[0;34m'labelleft'\u001b[0m\u001b[0;34m,\u001b[0m \u001b[0mNone\u001b[0m\u001b[0;34m)\u001b[0m\u001b[0;34m\u001b[0m\u001b[0m\n\u001b[1;32m   2758\u001b[0m             \u001b[0mxkw\u001b[0m\u001b[0;34m.\u001b[0m\u001b[0mpop\u001b[0m\u001b[0;34m(\u001b[0m\u001b[0;34m'labelright'\u001b[0m\u001b[0;34m,\u001b[0m \u001b[0mNone\u001b[0m\u001b[0;34m)\u001b[0m\u001b[0;34m\u001b[0m\u001b[0m\n\u001b[0;32m-> 2759\u001b[0;31m             \u001b[0mself\u001b[0m\u001b[0;34m.\u001b[0m\u001b[0mxaxis\u001b[0m\u001b[0;34m.\u001b[0m\u001b[0mset_tick_params\u001b[0m\u001b[0;34m(\u001b[0m\u001b[0;34m**\u001b[0m\u001b[0mxkw\u001b[0m\u001b[0;34m)\u001b[0m\u001b[0;34m\u001b[0m\u001b[0m\n\u001b[0m\u001b[1;32m   2760\u001b[0m         \u001b[0;32mif\u001b[0m \u001b[0maxis\u001b[0m \u001b[0;32min\u001b[0m \u001b[0;34m[\u001b[0m\u001b[0;34m'y'\u001b[0m\u001b[0;34m,\u001b[0m \u001b[0;34m'both'\u001b[0m\u001b[0;34m]\u001b[0m\u001b[0;34m:\u001b[0m\u001b[0;34m\u001b[0m\u001b[0m\n\u001b[1;32m   2761\u001b[0m             \u001b[0mykw\u001b[0m \u001b[0;34m=\u001b[0m \u001b[0mdict\u001b[0m\u001b[0;34m(\u001b[0m\u001b[0mkwargs\u001b[0m\u001b[0;34m)\u001b[0m\u001b[0;34m\u001b[0m\u001b[0m\n",
      "\u001b[0;32m/Users/Daniel/anaconda3/envs/carnegie/lib/python2.7/site-packages/matplotlib/axis.pyc\u001b[0m in \u001b[0;36mset_tick_params\u001b[0;34m(self, which, reset, **kw)\u001b[0m\n\u001b[1;32m    802\u001b[0m         \u001b[0;32mif\u001b[0m \u001b[0mwhich\u001b[0m \u001b[0;34m==\u001b[0m \u001b[0;34m'minor'\u001b[0m \u001b[0;32mor\u001b[0m \u001b[0mwhich\u001b[0m \u001b[0;34m==\u001b[0m \u001b[0;34m'both'\u001b[0m\u001b[0;34m:\u001b[0m\u001b[0;34m\u001b[0m\u001b[0m\n\u001b[1;32m    803\u001b[0m             \u001b[0mdicts\u001b[0m\u001b[0;34m.\u001b[0m\u001b[0mappend\u001b[0m\u001b[0;34m(\u001b[0m\u001b[0mself\u001b[0m\u001b[0;34m.\u001b[0m\u001b[0m_minor_tick_kw\u001b[0m\u001b[0;34m)\u001b[0m\u001b[0;34m\u001b[0m\u001b[0m\n\u001b[0;32m--> 804\u001b[0;31m         \u001b[0mkwtrans\u001b[0m \u001b[0;34m=\u001b[0m \u001b[0mself\u001b[0m\u001b[0;34m.\u001b[0m\u001b[0m_translate_tick_kw\u001b[0m\u001b[0;34m(\u001b[0m\u001b[0mkw\u001b[0m\u001b[0;34m,\u001b[0m \u001b[0mto_init_kw\u001b[0m\u001b[0;34m=\u001b[0m\u001b[0mTrue\u001b[0m\u001b[0;34m)\u001b[0m\u001b[0;34m\u001b[0m\u001b[0m\n\u001b[0m\u001b[1;32m    805\u001b[0m         \u001b[0;32mfor\u001b[0m \u001b[0md\u001b[0m \u001b[0;32min\u001b[0m \u001b[0mdicts\u001b[0m\u001b[0;34m:\u001b[0m\u001b[0;34m\u001b[0m\u001b[0m\n\u001b[1;32m    806\u001b[0m             \u001b[0;32mif\u001b[0m \u001b[0mreset\u001b[0m\u001b[0;34m:\u001b[0m\u001b[0;34m\u001b[0m\u001b[0m\n",
      "\u001b[0;32m/Users/Daniel/anaconda3/envs/carnegie/lib/python2.7/site-packages/matplotlib/axis.pyc\u001b[0m in \u001b[0;36m_translate_tick_kw\u001b[0;34m(kw, to_init_kw)\u001b[0m\n\u001b[1;32m    829\u001b[0m         kwkeys1 = ['length', 'direction', 'left', 'bottom', 'right', 'top',\n\u001b[1;32m    830\u001b[0m                    \u001b[0;34m'labelleft'\u001b[0m\u001b[0;34m,\u001b[0m \u001b[0;34m'labelbottom'\u001b[0m\u001b[0;34m,\u001b[0m \u001b[0;34m'labelright'\u001b[0m\u001b[0;34m,\u001b[0m \u001b[0;34m'labeltop'\u001b[0m\u001b[0;34m,\u001b[0m\u001b[0;34m\u001b[0m\u001b[0m\n\u001b[0;32m--> 831\u001b[0;31m                    'labelrotation']\n\u001b[0m\u001b[1;32m    832\u001b[0m         \u001b[0mkwkeys\u001b[0m \u001b[0;34m=\u001b[0m \u001b[0mkwkeys0\u001b[0m \u001b[0;34m+\u001b[0m \u001b[0mkwkeys1\u001b[0m\u001b[0;34m\u001b[0m\u001b[0m\n\u001b[1;32m    833\u001b[0m         \u001b[0mkwtrans\u001b[0m \u001b[0;34m=\u001b[0m \u001b[0mdict\u001b[0m\u001b[0;34m(\u001b[0m\u001b[0;34m)\u001b[0m\u001b[0;34m\u001b[0m\u001b[0m\n",
      "\u001b[0;31mKeyboardInterrupt\u001b[0m: "
     ]
    },
    {
     "data": {
      "text/plain": [
       "<matplotlib.figure.Figure at 0x160e28110>"
      ]
     },
     "metadata": {},
     "output_type": "display_data"
    }
   ],
   "source": [
    "\n",
    "\n",
    "results = [result for result in result_lst if result != None]\n",
    "result_df = pd.DataFrame(results)\n",
    "static_ids, filtered_df = get_filtered_fg_df2(result_df)\n",
    "batch['Y'] = batch.STOCK_ID.isin(filtered_df.stock_id)\n",
    "batch.loc[batch.STOCK_ID.isin(static_ids), 'Y'] = 'static'\n",
    "# result_df.to_pickle('data/pickle/ivt_item_feature_engineered/%s' % str(file.split('/')[-1]))\n",
    "\n",
    "\n",
    "\n",
    "for stock_id, df in batch.groupby('STOCK_ID'):\n",
    "    fig = plt.figure()\n",
    "    plt.plot(df.index, df.STOCK_AMOUNT, '.')\n",
    "    plt.axis('off')\n",
    "\n",
    "    if df.Y[0] == True:\n",
    "        plt.savefig('images/dataset/correct/%s' % stock_id)\n",
    "#     elif df.Y[0] == 'static':\n",
    "#         plt.savefig('images/dataset/incorrect_static/%s' % stock_id)\n",
    "#     else:\n",
    "#         plt.savefig('images/dataset/incorrect/%s' % stock_id)\n",
    "    plt.close(fig)"
   ]
  },
  {
   "cell_type": "code",
   "execution_count": 178,
   "metadata": {},
   "outputs": [],
   "source": [
    "batch = pd.read_pickle(file)\n",
    "# batch = batch.set_index('REG_DT')\n",
    "result_lst = []\n",
    "for idx, group_by_item_id in batch.groupby('ITEM_ID'):\n",
    "    tmp = list(group_by_item_id.groupby('STOCK_ID'))[0][1]    \n",
    "    result_lst.append(get_feature_engineered_bundle(tmp))\n",
    "\n",
    "\n",
    "results = [result for result in result_lst if result != None]\n",
    "result_df = pd.DataFrame(results)\n",
    "\n",
    "# filter dataframe\n",
    "filtered_df = get_filtered_fg_df(result_df)\n",
    "\n",
    "cleaned_item_ids = filtered_df.item_id.values\n",
    "cleaned_df = batch[batch['ITEM_ID'].isin(cleaned_item_ids)]\n",
    "df_lst =[]"
   ]
  },
  {
   "cell_type": "code",
   "execution_count": 179,
   "metadata": {},
   "outputs": [],
   "source": [
    "cleaned_df = cleaned_df.set_index('REG_DT')\n"
   ]
  },
  {
   "cell_type": "code",
   "execution_count": 180,
   "metadata": {},
   "outputs": [
    {
     "data": {
      "text/html": [
       "<div>\n",
       "<table border=\"1\" class=\"dataframe\">\n",
       "  <thead>\n",
       "    <tr style=\"text-align: right;\">\n",
       "      <th></th>\n",
       "      <th>ID</th>\n",
       "      <th>ITEM_ID</th>\n",
       "      <th>STOCK_ID</th>\n",
       "      <th>COLOR_OPTION</th>\n",
       "      <th>SIZE_OPTION</th>\n",
       "      <th>STYLE_OPTION</th>\n",
       "      <th>GIFT_OPTION</th>\n",
       "      <th>OPTION</th>\n",
       "      <th>STOCK_AMOUNT</th>\n",
       "      <th>ADD_PRICE</th>\n",
       "      <th>COLLECT_DAY</th>\n",
       "      <th>REG_ID</th>\n",
       "    </tr>\n",
       "    <tr>\n",
       "      <th>REG_DT</th>\n",
       "      <th></th>\n",
       "      <th></th>\n",
       "      <th></th>\n",
       "      <th></th>\n",
       "      <th></th>\n",
       "      <th></th>\n",
       "      <th></th>\n",
       "      <th></th>\n",
       "      <th></th>\n",
       "      <th></th>\n",
       "      <th></th>\n",
       "      <th></th>\n",
       "    </tr>\n",
       "  </thead>\n",
       "  <tbody>\n",
       "    <tr>\n",
       "      <th>2017-11-04 15:03:49</th>\n",
       "      <td>1482210203</td>\n",
       "      <td>5621257</td>\n",
       "      <td>-5303229960599649138</td>\n",
       "      <td>노란색</td>\n",
       "      <td>095</td>\n",
       "      <td>None</td>\n",
       "      <td>None</td>\n",
       "      <td></td>\n",
       "      <td>18</td>\n",
       "      <td>0</td>\n",
       "      <td>20171104</td>\n",
       "      <td>SERVER</td>\n",
       "    </tr>\n",
       "    <tr>\n",
       "      <th>2017-11-04 15:03:49</th>\n",
       "      <td>1482210204</td>\n",
       "      <td>5621257</td>\n",
       "      <td>-5303229960599585407</td>\n",
       "      <td>노란색</td>\n",
       "      <td>100</td>\n",
       "      <td>None</td>\n",
       "      <td>None</td>\n",
       "      <td></td>\n",
       "      <td>26</td>\n",
       "      <td>0</td>\n",
       "      <td>20171104</td>\n",
       "      <td>SERVER</td>\n",
       "    </tr>\n",
       "    <tr>\n",
       "      <th>2017-11-04 15:03:49</th>\n",
       "      <td>1482210205</td>\n",
       "      <td>5621257</td>\n",
       "      <td>-5303229960599585402</td>\n",
       "      <td>노란색</td>\n",
       "      <td>105</td>\n",
       "      <td>None</td>\n",
       "      <td>None</td>\n",
       "      <td></td>\n",
       "      <td>14</td>\n",
       "      <td>0</td>\n",
       "      <td>20171104</td>\n",
       "      <td>SERVER</td>\n",
       "    </tr>\n",
       "    <tr>\n",
       "      <th>2017-11-04 15:03:49</th>\n",
       "      <td>1482210206</td>\n",
       "      <td>5621257</td>\n",
       "      <td>-5303229960599585150</td>\n",
       "      <td>노란색</td>\n",
       "      <td>110</td>\n",
       "      <td>None</td>\n",
       "      <td>None</td>\n",
       "      <td></td>\n",
       "      <td>7</td>\n",
       "      <td>0</td>\n",
       "      <td>20171104</td>\n",
       "      <td>SERVER</td>\n",
       "    </tr>\n",
       "    <tr>\n",
       "      <th>2017-11-05 17:51:16</th>\n",
       "      <td>1500768962</td>\n",
       "      <td>5621257</td>\n",
       "      <td>-5303229960599649138</td>\n",
       "      <td>노란색</td>\n",
       "      <td>095</td>\n",
       "      <td>None</td>\n",
       "      <td>None</td>\n",
       "      <td></td>\n",
       "      <td>18</td>\n",
       "      <td>0</td>\n",
       "      <td>20171105</td>\n",
       "      <td>SERVER</td>\n",
       "    </tr>\n",
       "    <tr>\n",
       "      <th>...</th>\n",
       "      <td>...</td>\n",
       "      <td>...</td>\n",
       "      <td>...</td>\n",
       "      <td>...</td>\n",
       "      <td>...</td>\n",
       "      <td>...</td>\n",
       "      <td>...</td>\n",
       "      <td>...</td>\n",
       "      <td>...</td>\n",
       "      <td>...</td>\n",
       "      <td>...</td>\n",
       "      <td>...</td>\n",
       "    </tr>\n",
       "    <tr>\n",
       "      <th>2018-01-21 21:03:33</th>\n",
       "      <td>2654485836</td>\n",
       "      <td>5621257</td>\n",
       "      <td>-5303229960599585150</td>\n",
       "      <td>노란색</td>\n",
       "      <td>110</td>\n",
       "      <td>None</td>\n",
       "      <td>None</td>\n",
       "      <td></td>\n",
       "      <td>5</td>\n",
       "      <td>0</td>\n",
       "      <td>20180121</td>\n",
       "      <td>SERVER</td>\n",
       "    </tr>\n",
       "    <tr>\n",
       "      <th>2018-01-22 21:13:23</th>\n",
       "      <td>2670023342</td>\n",
       "      <td>5621257</td>\n",
       "      <td>-5303229960599649138</td>\n",
       "      <td>노란색</td>\n",
       "      <td>095</td>\n",
       "      <td>None</td>\n",
       "      <td>None</td>\n",
       "      <td></td>\n",
       "      <td>10</td>\n",
       "      <td>0</td>\n",
       "      <td>20180122</td>\n",
       "      <td>SERVER</td>\n",
       "    </tr>\n",
       "    <tr>\n",
       "      <th>2018-01-22 21:13:23</th>\n",
       "      <td>2670023343</td>\n",
       "      <td>5621257</td>\n",
       "      <td>-5303229960599585407</td>\n",
       "      <td>노란색</td>\n",
       "      <td>100</td>\n",
       "      <td>None</td>\n",
       "      <td>None</td>\n",
       "      <td></td>\n",
       "      <td>12</td>\n",
       "      <td>0</td>\n",
       "      <td>20180122</td>\n",
       "      <td>SERVER</td>\n",
       "    </tr>\n",
       "    <tr>\n",
       "      <th>2018-01-22 21:13:23</th>\n",
       "      <td>2670023344</td>\n",
       "      <td>5621257</td>\n",
       "      <td>-5303229960599585402</td>\n",
       "      <td>노란색</td>\n",
       "      <td>105</td>\n",
       "      <td>None</td>\n",
       "      <td>None</td>\n",
       "      <td></td>\n",
       "      <td>6</td>\n",
       "      <td>0</td>\n",
       "      <td>20180122</td>\n",
       "      <td>SERVER</td>\n",
       "    </tr>\n",
       "    <tr>\n",
       "      <th>2018-01-22 21:13:23</th>\n",
       "      <td>2670023345</td>\n",
       "      <td>5621257</td>\n",
       "      <td>-5303229960599585150</td>\n",
       "      <td>노란색</td>\n",
       "      <td>110</td>\n",
       "      <td>None</td>\n",
       "      <td>None</td>\n",
       "      <td></td>\n",
       "      <td>5</td>\n",
       "      <td>0</td>\n",
       "      <td>20180122</td>\n",
       "      <td>SERVER</td>\n",
       "    </tr>\n",
       "  </tbody>\n",
       "</table>\n",
       "<p>256 rows × 12 columns</p>\n",
       "</div>"
      ],
      "text/plain": [
       "                             ID  ITEM_ID              STOCK_ID COLOR_OPTION SIZE_OPTION STYLE_OPTION GIFT_OPTION OPTION  STOCK_AMOUNT  ADD_PRICE COLLECT_DAY  REG_ID\n",
       "REG_DT                                                                                                                                                              \n",
       "2017-11-04 15:03:49  1482210203  5621257  -5303229960599649138          노란색         095         None        None                   18          0    20171104  SERVER\n",
       "2017-11-04 15:03:49  1482210204  5621257  -5303229960599585407          노란색         100         None        None                   26          0    20171104  SERVER\n",
       "2017-11-04 15:03:49  1482210205  5621257  -5303229960599585402          노란색         105         None        None                   14          0    20171104  SERVER\n",
       "2017-11-04 15:03:49  1482210206  5621257  -5303229960599585150          노란색         110         None        None                    7          0    20171104  SERVER\n",
       "2017-11-05 17:51:16  1500768962  5621257  -5303229960599649138          노란색         095         None        None                   18          0    20171105  SERVER\n",
       "...                         ...      ...                   ...          ...         ...          ...         ...    ...           ...        ...         ...     ...\n",
       "2018-01-21 21:03:33  2654485836  5621257  -5303229960599585150          노란색         110         None        None                    5          0    20180121  SERVER\n",
       "2018-01-22 21:13:23  2670023342  5621257  -5303229960599649138          노란색         095         None        None                   10          0    20180122  SERVER\n",
       "2018-01-22 21:13:23  2670023343  5621257  -5303229960599585407          노란색         100         None        None                   12          0    20180122  SERVER\n",
       "2018-01-22 21:13:23  2670023344  5621257  -5303229960599585402          노란색         105         None        None                    6          0    20180122  SERVER\n",
       "2018-01-22 21:13:23  2670023345  5621257  -5303229960599585150          노란색         110         None        None                    5          0    20180122  SERVER\n",
       "\n",
       "[256 rows x 12 columns]"
      ]
     },
     "execution_count": 180,
     "metadata": {},
     "output_type": "execute_result"
    }
   ],
   "source": [
    "cleaned_df"
   ]
  },
  {
   "cell_type": "code",
   "execution_count": null,
   "metadata": {},
   "outputs": [],
   "source": []
  },
  {
   "cell_type": "code",
   "execution_count": 152,
   "metadata": {},
   "outputs": [
    {
     "data": {
      "text/html": [
       "<div>\n",
       "<table border=\"1\" class=\"dataframe\">\n",
       "  <thead>\n",
       "    <tr style=\"text-align: right;\">\n",
       "      <th></th>\n",
       "      <th>item_id</th>\n",
       "      <th>max_consecutive_na</th>\n",
       "      <th>max_drop</th>\n",
       "      <th>max_v</th>\n",
       "      <th>mean_in_cluster</th>\n",
       "      <th>median_v</th>\n",
       "      <th>min_v</th>\n",
       "      <th>n_cluster</th>\n",
       "      <th>n_consecutive_na</th>\n",
       "      <th>n_days</th>\n",
       "      <th>n_jumps</th>\n",
       "      <th>n_unique_stock_id</th>\n",
       "      <th>range_v</th>\n",
       "      <th>ratio_drop</th>\n",
       "      <th>ratio_of_na</th>\n",
       "      <th>ratio_same_value</th>\n",
       "      <th>std_in_cluster</th>\n",
       "      <th>std_v</th>\n",
       "      <th>stock_id</th>\n",
       "    </tr>\n",
       "  </thead>\n",
       "  <tbody>\n",
       "    <tr>\n",
       "      <th>263</th>\n",
       "      <td>5621272</td>\n",
       "      <td>10</td>\n",
       "      <td>1.0</td>\n",
       "      <td>7.0</td>\n",
       "      <td>6.142857</td>\n",
       "      <td>6.0</td>\n",
       "      <td>5.0</td>\n",
       "      <td>1</td>\n",
       "      <td>14</td>\n",
       "      <td>80</td>\n",
       "      <td>1</td>\n",
       "      <td>1</td>\n",
       "      <td>2.0</td>\n",
       "      <td>0.142857</td>\n",
       "      <td>0.387500</td>\n",
       "      <td>0.212500</td>\n",
       "      <td>1.505093</td>\n",
       "      <td>0.709899</td>\n",
       "      <td>-2826405963195130335</td>\n",
       "    </tr>\n",
       "    <tr>\n",
       "      <th>686</th>\n",
       "      <td>5621257</td>\n",
       "      <td>10</td>\n",
       "      <td>1.0</td>\n",
       "      <td>7.0</td>\n",
       "      <td>7.416667</td>\n",
       "      <td>6.0</td>\n",
       "      <td>5.0</td>\n",
       "      <td>1</td>\n",
       "      <td>13</td>\n",
       "      <td>80</td>\n",
       "      <td>1</td>\n",
       "      <td>1</td>\n",
       "      <td>2.0</td>\n",
       "      <td>0.142857</td>\n",
       "      <td>0.375000</td>\n",
       "      <td>0.262500</td>\n",
       "      <td>0.759203</td>\n",
       "      <td>0.721110</td>\n",
       "      <td>-5303229960599585150</td>\n",
       "    </tr>\n",
       "    <tr>\n",
       "      <th>687</th>\n",
       "      <td>5621257</td>\n",
       "      <td>10</td>\n",
       "      <td>2.0</td>\n",
       "      <td>14.0</td>\n",
       "      <td>2.500000</td>\n",
       "      <td>10.0</td>\n",
       "      <td>6.0</td>\n",
       "      <td>3</td>\n",
       "      <td>13</td>\n",
       "      <td>80</td>\n",
       "      <td>0</td>\n",
       "      <td>1</td>\n",
       "      <td>8.0</td>\n",
       "      <td>0.142857</td>\n",
       "      <td>0.375000</td>\n",
       "      <td>0.175000</td>\n",
       "      <td>2.929733</td>\n",
       "      <td>2.336151</td>\n",
       "      <td>-5303229960599585402</td>\n",
       "    </tr>\n",
       "    <tr>\n",
       "      <th>1561</th>\n",
       "      <td>5621794</td>\n",
       "      <td>2</td>\n",
       "      <td>2.0</td>\n",
       "      <td>99.0</td>\n",
       "      <td>1.090909</td>\n",
       "      <td>86.0</td>\n",
       "      <td>74.0</td>\n",
       "      <td>2</td>\n",
       "      <td>6</td>\n",
       "      <td>76</td>\n",
       "      <td>1</td>\n",
       "      <td>1</td>\n",
       "      <td>25.0</td>\n",
       "      <td>0.020202</td>\n",
       "      <td>0.092105</td>\n",
       "      <td>0.131579</td>\n",
       "      <td>0.287480</td>\n",
       "      <td>7.157865</td>\n",
       "      <td>2658512032668233991</td>\n",
       "    </tr>\n",
       "    <tr>\n",
       "      <th>3643</th>\n",
       "      <td>5621358</td>\n",
       "      <td>15</td>\n",
       "      <td>4.0</td>\n",
       "      <td>29.0</td>\n",
       "      <td>1.800000</td>\n",
       "      <td>16.0</td>\n",
       "      <td>15.0</td>\n",
       "      <td>6</td>\n",
       "      <td>10</td>\n",
       "      <td>66</td>\n",
       "      <td>0</td>\n",
       "      <td>1</td>\n",
       "      <td>14.0</td>\n",
       "      <td>0.137931</td>\n",
       "      <td>0.469697</td>\n",
       "      <td>0.212121</td>\n",
       "      <td>0.979796</td>\n",
       "      <td>4.445039</td>\n",
       "      <td>9115921938306212716</td>\n",
       "    </tr>\n",
       "  </tbody>\n",
       "</table>\n",
       "</div>"
      ],
      "text/plain": [
       "      item_id  max_consecutive_na  max_drop  max_v  mean_in_cluster  median_v  min_v  n_cluster  n_consecutive_na  n_days  n_jumps  n_unique_stock_id  range_v  ratio_drop  ratio_of_na  ratio_same_value  std_in_cluster     std_v              stock_id\n",
       "263   5621272                  10       1.0    7.0         6.142857       6.0    5.0          1                14      80        1                  1      2.0    0.142857     0.387500          0.212500        1.505093  0.709899  -2826405963195130335\n",
       "686   5621257                  10       1.0    7.0         7.416667       6.0    5.0          1                13      80        1                  1      2.0    0.142857     0.375000          0.262500        0.759203  0.721110  -5303229960599585150\n",
       "687   5621257                  10       2.0   14.0         2.500000      10.0    6.0          3                13      80        0                  1      8.0    0.142857     0.375000          0.175000        2.929733  2.336151  -5303229960599585402\n",
       "1561  5621794                   2       2.0   99.0         1.090909      86.0   74.0          2                 6      76        1                  1     25.0    0.020202     0.092105          0.131579        0.287480  7.157865   2658512032668233991\n",
       "3643  5621358                  15       4.0   29.0         1.800000      16.0   15.0          6                10      66        0                  1     14.0    0.137931     0.469697          0.212121        0.979796  4.445039   9115921938306212716"
      ]
     },
     "execution_count": 152,
     "metadata": {},
     "output_type": "execute_result"
    }
   ],
   "source": [
    "# filtered_df[~filtered_df.stock_id.isin(static_ids)]"
   ]
  },
  {
   "cell_type": "code",
   "execution_count": 138,
   "metadata": {},
   "outputs": [],
   "source": [
    "batch.loc[batch.STOCK_ID.isin(static_ids), 'Y'] = 'static'"
   ]
  },
  {
   "cell_type": "code",
   "execution_count": 139,
   "metadata": {},
   "outputs": [
    {
     "data": {
      "text/html": [
       "<div>\n",
       "<table border=\"1\" class=\"dataframe\">\n",
       "  <thead>\n",
       "    <tr style=\"text-align: right;\">\n",
       "      <th></th>\n",
       "      <th>ID</th>\n",
       "      <th>ITEM_ID</th>\n",
       "      <th>STOCK_ID</th>\n",
       "      <th>STOCK_AMOUNT</th>\n",
       "      <th>Y</th>\n",
       "    </tr>\n",
       "    <tr>\n",
       "      <th>REG_DT</th>\n",
       "      <th></th>\n",
       "      <th></th>\n",
       "      <th></th>\n",
       "      <th></th>\n",
       "      <th></th>\n",
       "    </tr>\n",
       "  </thead>\n",
       "  <tbody>\n",
       "    <tr>\n",
       "      <th>2017-11-04 14:45:43</th>\n",
       "      <td>1482089358</td>\n",
       "      <td>5621097</td>\n",
       "      <td>28256818001</td>\n",
       "      <td>5</td>\n",
       "      <td>static</td>\n",
       "    </tr>\n",
       "    <tr>\n",
       "      <th>2017-11-04 14:45:43</th>\n",
       "      <td>1482089359</td>\n",
       "      <td>5621097</td>\n",
       "      <td>28256818002</td>\n",
       "      <td>5</td>\n",
       "      <td>static</td>\n",
       "    </tr>\n",
       "    <tr>\n",
       "      <th>2017-11-04 14:45:43</th>\n",
       "      <td>1482089360</td>\n",
       "      <td>5621097</td>\n",
       "      <td>28256818003</td>\n",
       "      <td>5</td>\n",
       "      <td>static</td>\n",
       "    </tr>\n",
       "    <tr>\n",
       "      <th>2017-11-10 16:02:44</th>\n",
       "      <td>1582523490</td>\n",
       "      <td>5621097</td>\n",
       "      <td>28256818001</td>\n",
       "      <td>5</td>\n",
       "      <td>static</td>\n",
       "    </tr>\n",
       "    <tr>\n",
       "      <th>2017-11-10 16:02:44</th>\n",
       "      <td>1582523498</td>\n",
       "      <td>5621097</td>\n",
       "      <td>28256818002</td>\n",
       "      <td>5</td>\n",
       "      <td>static</td>\n",
       "    </tr>\n",
       "    <tr>\n",
       "      <th>...</th>\n",
       "      <td>...</td>\n",
       "      <td>...</td>\n",
       "      <td>...</td>\n",
       "      <td>...</td>\n",
       "      <td>...</td>\n",
       "    </tr>\n",
       "    <tr>\n",
       "      <th>2017-11-06 16:52:39</th>\n",
       "      <td>1516858662</td>\n",
       "      <td>5622095</td>\n",
       "      <td>-3748915529047864559</td>\n",
       "      <td>2</td>\n",
       "      <td>False</td>\n",
       "    </tr>\n",
       "    <tr>\n",
       "      <th>2017-11-06 16:52:39</th>\n",
       "      <td>1516858663</td>\n",
       "      <td>5622095</td>\n",
       "      <td>-1474635995056993671</td>\n",
       "      <td>2</td>\n",
       "      <td>False</td>\n",
       "    </tr>\n",
       "    <tr>\n",
       "      <th>2017-11-06 16:52:39</th>\n",
       "      <td>1516858664</td>\n",
       "      <td>5622095</td>\n",
       "      <td>-3748914407892971245</td>\n",
       "      <td>2</td>\n",
       "      <td>False</td>\n",
       "    </tr>\n",
       "    <tr>\n",
       "      <th>2017-11-06 16:52:39</th>\n",
       "      <td>1516858665</td>\n",
       "      <td>5622095</td>\n",
       "      <td>-1400584835508497285</td>\n",
       "      <td>2</td>\n",
       "      <td>False</td>\n",
       "    </tr>\n",
       "    <tr>\n",
       "      <th>2017-11-06 16:52:39</th>\n",
       "      <td>1516858666</td>\n",
       "      <td>5622095</td>\n",
       "      <td>-3748913286738077931</td>\n",
       "      <td>2</td>\n",
       "      <td>False</td>\n",
       "    </tr>\n",
       "  </tbody>\n",
       "</table>\n",
       "<p>178620 rows × 5 columns</p>\n",
       "</div>"
      ],
      "text/plain": [
       "                             ID  ITEM_ID              STOCK_ID  STOCK_AMOUNT       Y\n",
       "REG_DT                                                                              \n",
       "2017-11-04 14:45:43  1482089358  5621097           28256818001             5  static\n",
       "2017-11-04 14:45:43  1482089359  5621097           28256818002             5  static\n",
       "2017-11-04 14:45:43  1482089360  5621097           28256818003             5  static\n",
       "2017-11-10 16:02:44  1582523490  5621097           28256818001             5  static\n",
       "2017-11-10 16:02:44  1582523498  5621097           28256818002             5  static\n",
       "...                         ...      ...                   ...           ...     ...\n",
       "2017-11-06 16:52:39  1516858662  5622095  -3748915529047864559             2   False\n",
       "2017-11-06 16:52:39  1516858663  5622095  -1474635995056993671             2   False\n",
       "2017-11-06 16:52:39  1516858664  5622095  -3748914407892971245             2   False\n",
       "2017-11-06 16:52:39  1516858665  5622095  -1400584835508497285             2   False\n",
       "2017-11-06 16:52:39  1516858666  5622095  -3748913286738077931             2   False\n",
       "\n",
       "[178620 rows x 5 columns]"
      ]
     },
     "execution_count": 139,
     "metadata": {},
     "output_type": "execute_result"
    }
   ],
   "source": [
    "batch.loc[batch.STOCK_ID.isin(static_ids), 'Y'] = 'static'"
   ]
  },
  {
   "cell_type": "code",
   "execution_count": null,
   "metadata": {},
   "outputs": [],
   "source": []
  },
  {
   "cell_type": "code",
   "execution_count": 137,
   "metadata": {},
   "outputs": [
    {
     "data": {
      "text/plain": [
       "178620"
      ]
     },
     "execution_count": 137,
     "metadata": {},
     "output_type": "execute_result"
    }
   ],
   "source": [
    "len(batch)"
   ]
  },
  {
   "cell_type": "code",
   "execution_count": 135,
   "metadata": {},
   "outputs": [
    {
     "data": {
      "text/plain": [
       "54119"
      ]
     },
     "execution_count": 135,
     "metadata": {},
     "output_type": "execute_result"
    }
   ],
   "source": [
    "sum(batch.STOCK_ID.isin(static_ids))"
   ]
  },
  {
   "cell_type": "code",
   "execution_count": 103,
   "metadata": {},
   "outputs": [],
   "source": [
    "tmp_lst = list(batch.groupby('STOCK_ID'))"
   ]
  },
  {
   "cell_type": "code",
   "execution_count": 106,
   "metadata": {},
   "outputs": [],
   "source": [
    "stock_id, df = tmp_lst[0]"
   ]
  },
  {
   "cell_type": "code",
   "execution_count": 123,
   "metadata": {},
   "outputs": [],
   "source": [
    "\n",
    "fig = plt.figure()\n",
    "plt.plot(df.index, df.STOCK_AMOUNT, '.')\n",
    "plt.axis('off')\n",
    "\n",
    "if not df.Y[0]:\n",
    "    plt.savefig('images/dataset/correct/%s' % stock_id)\n",
    "else:\n",
    "    plt.savefig('images/dataset/incorrect/%s' % stock_id)\n",
    "plt.close(fig)\n",
    "    "
   ]
  },
  {
   "cell_type": "code",
   "execution_count": 100,
   "metadata": {},
   "outputs": [
    {
     "data": {
      "text/html": [
       "<div>\n",
       "<table border=\"1\" class=\"dataframe\">\n",
       "  <thead>\n",
       "    <tr style=\"text-align: right;\">\n",
       "      <th></th>\n",
       "      <th>ID</th>\n",
       "      <th>ITEM_ID</th>\n",
       "      <th>STOCK_ID</th>\n",
       "      <th>STOCK_AMOUNT</th>\n",
       "      <th>Y</th>\n",
       "    </tr>\n",
       "    <tr>\n",
       "      <th>REG_DT</th>\n",
       "      <th></th>\n",
       "      <th></th>\n",
       "      <th></th>\n",
       "      <th></th>\n",
       "      <th></th>\n",
       "    </tr>\n",
       "  </thead>\n",
       "  <tbody>\n",
       "    <tr>\n",
       "      <th>2017-11-04 14:45:43</th>\n",
       "      <td>1482089358</td>\n",
       "      <td>5621097</td>\n",
       "      <td>28256818001</td>\n",
       "      <td>5</td>\n",
       "      <td>False</td>\n",
       "    </tr>\n",
       "    <tr>\n",
       "      <th>2017-11-10 16:02:44</th>\n",
       "      <td>1582523490</td>\n",
       "      <td>5621097</td>\n",
       "      <td>28256818001</td>\n",
       "      <td>5</td>\n",
       "      <td>False</td>\n",
       "    </tr>\n",
       "    <tr>\n",
       "      <th>2017-11-17 12:16:22</th>\n",
       "      <td>1690619292</td>\n",
       "      <td>5621097</td>\n",
       "      <td>28256818001</td>\n",
       "      <td>5</td>\n",
       "      <td>False</td>\n",
       "    </tr>\n",
       "  </tbody>\n",
       "</table>\n",
       "</div>"
      ],
      "text/plain": [
       "                             ID  ITEM_ID     STOCK_ID  STOCK_AMOUNT      Y\n",
       "REG_DT                                                                    \n",
       "2017-11-04 14:45:43  1482089358  5621097  28256818001             5  False\n",
       "2017-11-10 16:02:44  1582523490  5621097  28256818001             5  False\n",
       "2017-11-17 12:16:22  1690619292  5621097  28256818001             5  False"
      ]
     },
     "execution_count": 100,
     "metadata": {},
     "output_type": "execute_result"
    }
   ],
   "source": [
    "batch[(batch.STOCK_ID == '28256818001') & (batch.Y == False)]"
   ]
  },
  {
   "cell_type": "code",
   "execution_count": 95,
   "metadata": {},
   "outputs": [
    {
     "data": {
      "text/plain": [
       "REG_DT\n",
       "2017-11-04 14:45:43    False\n",
       "2017-11-04 14:45:43    False\n",
       "2017-11-04 14:45:43    False\n",
       "2017-11-10 16:02:44    False\n",
       "2017-11-10 16:02:44    False\n",
       "                       ...  \n",
       "2017-11-06 16:52:39    False\n",
       "2017-11-06 16:52:39    False\n",
       "2017-11-06 16:52:39    False\n",
       "2017-11-06 16:52:39    False\n",
       "2017-11-06 16:52:39    False\n",
       "Name: Y, dtype: bool"
      ]
     },
     "execution_count": 95,
     "metadata": {},
     "output_type": "execute_result"
    }
   ],
   "source": [
    " batch.Y"
   ]
  },
  {
   "cell_type": "code",
   "execution_count": null,
   "metadata": {},
   "outputs": [],
   "source": []
  },
  {
   "cell_type": "code",
   "execution_count": null,
   "metadata": {},
   "outputs": [],
   "source": []
  },
  {
   "cell_type": "code",
   "execution_count": null,
   "metadata": {},
   "outputs": [],
   "source": []
  },
  {
   "cell_type": "code",
   "execution_count": null,
   "metadata": {},
   "outputs": [],
   "source": []
  },
  {
   "cell_type": "code",
   "execution_count": 2,
   "metadata": {},
   "outputs": [
    {
     "ename": "NameError",
     "evalue": "name 'files' is not defined",
     "output_type": "error",
     "traceback": [
      "\u001b[0;31m---------------------------------------------------------------------------\u001b[0m",
      "\u001b[0;31mNameError\u001b[0m                                 Traceback (most recent call last)",
      "\u001b[0;32m<ipython-input-2-c896cb706807>\u001b[0m in \u001b[0;36m<module>\u001b[0;34m()\u001b[0m\n\u001b[0;32m----> 1\u001b[0;31m \u001b[0mfiles\u001b[0m\u001b[0;34m.\u001b[0m\u001b[0msort\u001b[0m\u001b[0;34m(\u001b[0m\u001b[0;34m)\u001b[0m\u001b[0;34m\u001b[0m\u001b[0m\n\u001b[0m",
      "\u001b[0;31mNameError\u001b[0m: name 'files' is not defined"
     ]
    }
   ],
   "source": [
    "files.sort()"
   ]
  },
  {
   "cell_type": "code",
   "execution_count": 4,
   "metadata": {},
   "outputs": [],
   "source": [
    "files.sort()\n",
    "file_lst = []\n",
    "\n",
    "# for file in files:\n",
    "#     file_lst.append(pd.read_pickle(file))\n",
    "    \n",
    "def read_file(file):\n",
    "    logging.warn(file)\n",
    "    return pd.read_pickle(file)[['ITEM_ID', 'STOCK_ID', 'STOCK_AMOUNT', 'REG_DT']]\n",
    "file_lst = Parallel(n_jobs=-1)(map(delayed(read_file), files))    \n",
    "    \n",
    "# pd.concat([batch0, batch1])"
   ]
  },
  {
   "cell_type": "code",
   "execution_count": 6,
   "metadata": {},
   "outputs": [],
   "source": [
    "merged_df = pd.concat(file_lst)"
   ]
  },
  {
   "cell_type": "code",
   "execution_count": 8,
   "metadata": {},
   "outputs": [],
   "source": [
    "merged_df = merged_df.set_index('REG_DT')"
   ]
  },
  {
   "cell_type": "code",
   "execution_count": null,
   "metadata": {},
   "outputs": [],
   "source": [
    "group_list = list(merged_df.groupby('STOCK_ID'))"
   ]
  },
  {
   "cell_type": "code",
   "execution_count": null,
   "metadata": {},
   "outputs": [],
   "source": []
  }
 ],
 "metadata": {
  "kernelspec": {
   "display_name": "Python 2",
   "language": "python",
   "name": "python2"
  },
  "language_info": {
   "codemirror_mode": {
    "name": "ipython",
    "version": 2
   },
   "file_extension": ".py",
   "mimetype": "text/x-python",
   "name": "python",
   "nbconvert_exporter": "python",
   "pygments_lexer": "ipython2",
   "version": "2.7.14"
  }
 },
 "nbformat": 4,
 "nbformat_minor": 2
}
