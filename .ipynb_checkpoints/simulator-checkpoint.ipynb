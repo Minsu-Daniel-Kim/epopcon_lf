{
 "cells": [
  {
   "cell_type": "code",
   "execution_count": 1,
   "metadata": {
    "collapsed": true
   },
   "outputs": [],
   "source": [
    "%load_ext autoreload\n",
    "%autoreload 2"
   ]
  },
  {
   "cell_type": "code",
   "execution_count": null,
   "metadata": {
    "collapsed": true
   },
   "outputs": [],
   "source": [
    "from wallet import Wallet\n",
    "import datetime\n",
    "from pymongo import MongoClient\n",
    "import time\n",
    "import os\n",
    "import matplotlib.pyplot as plt\n",
    "import time\n",
    "import numpy as np\n",
    "import pandas as pd\n",
    "from coinoneTrader import get_orderbook, get_ticker"
   ]
  },
  {
   "cell_type": "code",
   "execution_count": 5,
   "metadata": {},
   "outputs": [
    {
     "data": {
      "text/plain": [
       "978290"
      ]
     },
     "execution_count": 5,
     "metadata": {},
     "output_type": "execute_result"
    }
   ],
   "source": [
    "client = MongoClient(\"mongodb://mongo-191809ff-1.673dca44.cont.dockerapp.io:32768\")\n",
    "db = client.coinone\n",
    "db.tickers.find().count()"
   ]
  },
  {
   "cell_type": "code",
   "execution_count": 6,
   "metadata": {
    "collapsed": true
   },
   "outputs": [],
   "source": [
    "tickers_bson = db.tickers.find().limit(3000)\n",
    "tickers_dic = list(tickers_bson)\n",
    "tickers_df = pd.DataFrame(tickers_dic)\n",
    "tickers_df = tickers_df[['datetime', 'last']]\n",
    "tickers_df['datetime'] = pd.to_datetime(tickers_df['datetime'], \"%Y-%m-%d %h:%m:%s\")\n",
    "tickers_df = tickers_df.set_index('datetime')"
   ]
  },
  {
   "cell_type": "code",
   "execution_count": 7,
   "metadata": {
    "collapsed": true
   },
   "outputs": [],
   "source": [
    "tickers_df['last'] = tickers_df['last'].astype(np.float)"
   ]
  },
  {
   "cell_type": "code",
   "execution_count": 29,
   "metadata": {
    "collapsed": true
   },
   "outputs": [],
   "source": [
    "# orderbooks_bson = db.orderbooks.find()\n",
    "# orderbooks_dic = list(orderbooks_bson)\n",
    "# orderbooks_df = pd.DataFrame(orderbooks_dic)"
   ]
  },
  {
   "cell_type": "code",
   "execution_count": 30,
   "metadata": {
    "collapsed": true
   },
   "outputs": [],
   "source": [
    "orderbooks_bson = db.orderbooks.find().limit(3000)"
   ]
  },
  {
   "cell_type": "code",
   "execution_count": 9,
   "metadata": {
    "collapsed": true
   },
   "outputs": [],
   "source": [
    "def simulate(n_iter=10):\n",
    "\n",
    "    dict_lst = []\n",
    "\n",
    "    for i in range(n_iter):\n",
    "        orderbook = orderbooks_bson[i]\n",
    "        bid_df = pd.DataFrame(orderbook['bid'])\n",
    "        ask_df = pd.DataFrame(orderbook['ask'])\n",
    "        selected_time = pd.to_datetime(orderbook['timestamp'], unit ='s')\n",
    "    \n",
    "        try:\n",
    "\n",
    "            market_price = tickers_df.loc[selected_time, 'last']\n",
    "            \n",
    "        except:\n",
    "            continue\n",
    "        if type(market_price) == np.float64:\n",
    "            position, price = get_position(bid_df, ask_df, delta=10)\n",
    "            dict_lst.append({\n",
    "                'datetime': selected_time,\n",
    "                'market_price': market_price,\n",
    "                'bid_ask_position': position,\n",
    "                'price': price\n",
    "            })\n",
    "\n",
    "\n",
    "\n",
    "    tmp_df = pd.DataFrame(dict_lst)\n",
    "    tmp_df = tmp_df.set_index('datetime')\n",
    "    return tmp_df"
   ]
  },
  {
   "cell_type": "code",
   "execution_count": 10,
   "metadata": {
    "collapsed": true
   },
   "outputs": [],
   "source": [
    "def bid_ask_ratio(series):\n",
    "    n_bid = np.sum(series == 'bid')\n",
    "    n_ask = np.sum(series == 'ask')\n",
    "    \n",
    "    if n_ask == 0:\n",
    "        return 0\n",
    "    else:\n",
    "        return n_bid / n_ask"
   ]
  },
  {
   "cell_type": "code",
   "execution_count": 237,
   "metadata": {},
   "outputs": [
    {
     "data": {
      "text/plain": [
       "<matplotlib.axes._subplots.AxesSubplot at 0x1278306d0>"
      ]
     },
     "execution_count": 237,
     "metadata": {},
     "output_type": "execute_result"
    },
    {
     "data": {
      "image/png": "[encoded data removed]",
      "text/plain": [
       "<matplotlib.figure.Figure at 0x128d4e710>"
      ]
     },
     "metadata": {},
     "output_type": "display_data"
    }
   ],
   "source": [
    "tmp_df = pd.read_csv(\"backst_90000.csv\", parse_dates=True, index_col='datetime')\n",
    "tmp_df.plot()"
   ]
  },
  {
   "cell_type": "code",
   "execution_count": 238,
   "metadata": {},
   "outputs": [
    {
     "data": {
      "text/plain": [
       "datetime\n",
       "2018-01-06 19:44:49    ask\n",
       "2018-01-06 19:44:50    ask\n",
       "2018-01-06 19:44:52    ask\n",
       "2018-01-06 19:44:53    ask\n",
       "2018-01-06 19:44:55    ask\n",
       "Name: bid_ask_position, dtype: object"
      ]
     },
     "execution_count": 238,
     "metadata": {},
     "output_type": "execute_result"
    }
   ],
   "source": [
    "tmp_df['bid_ask_position'].tail()"
   ]
  },
  {
   "cell_type": "code",
   "execution_count": 110,
   "metadata": {
    "collapsed": true
   },
   "outputs": [],
   "source": [
    "bid_ask_position = tmp_df['bid_ask_position'].resample('5S').apply(bid_ask_ratio)\n",
    "tmp_df = tmp_df.resample('5S').last()\n",
    "tmp_df['bid_ask_position'] = bid_ask_position"
   ]
  },
  {
   "cell_type": "code",
   "execution_count": 293,
   "metadata": {
    "collapsed": true
   },
   "outputs": [],
   "source": [
    "def run_simul():\n",
    "    from wallet import Wallet\n",
    "    wallet = Wallet(kw=1000000)\n",
    "    # wallet.get_balance()\n",
    "\n",
    "    for index in range(tmp_df.shape[0]):\n",
    "\n",
    "        position_ratio = tmp_df.iloc[index,0]\n",
    "        market_price = tmp_df.iloc[index,1]\n",
    "        price = tmp_df.iloc[index,2]\n",
    "\n",
    "        if market_price == price:\n",
    "            if position_ratio == 0:\n",
    "                continue\n",
    "            elif position_ratio < 0.5:\n",
    "                wallet.sell_qtum(-1, market_price)\n",
    "            elif position_ratio > 2:\n",
    "                wallet.buy_qtum(-1, market_price)\n",
    "    return wallet"
   ]
  },
  {
   "cell_type": "code",
   "execution_count": 113,
   "metadata": {},
   "outputs": [
    {
     "data": {
      "text/plain": [
       "{'kw': 0.0, 'qtum': 13.55184581976113}"
      ]
     },
     "execution_count": 113,
     "metadata": {},
     "output_type": "execute_result"
    }
   ],
   "source": [
    "wallet = run_simul()\n",
    "wallet.get_balance()"
   ]
  },
  {
   "cell_type": "code",
   "execution_count": 116,
   "metadata": {},
   "outputs": [
    {
     "data": {
      "text/plain": [
       "1055456.0260586319"
      ]
     },
     "execution_count": 116,
     "metadata": {},
     "output_type": "execute_result"
    }
   ],
   "source": [
    "wallet.get_balance_in_kw(78000.0)"
   ]
  },
  {
   "cell_type": "code",
   "execution_count": 100,
   "metadata": {},
   "outputs": [
    {
     "data": {
      "text/plain": [
       "0.020358306188925084"
      ]
     },
     "execution_count": 100,
     "metadata": {},
     "output_type": "execute_result"
    }
   ],
   "source": [
    "wallet.total_transanction_fee"
   ]
  },
  {
   "cell_type": "code",
   "execution_count": 101,
   "metadata": {},
   "outputs": [
    {
     "data": {
      "text/plain": [
       "1"
      ]
     },
     "execution_count": 101,
     "metadata": {},
     "output_type": "execute_result"
    }
   ],
   "source": [
    "wallet.get_trasanction_n()"
   ]
  },
  {
   "cell_type": "code",
   "execution_count": 8,
   "metadata": {
    "collapsed": true
   },
   "outputs": [],
   "source": [
    "from coinoneTrader import get_orderbook, get_ticker\n",
    "from wallet import Wallet"
   ]
  },
  {
   "cell_type": "code",
   "execution_count": 22,
   "metadata": {
    "collapsed": true
   },
   "outputs": [],
   "source": [
    "def get_position(bid_df, ask_df, delta = 0):\n",
    "    bid_df = bid_df.astype(np.float)\n",
    "    ask_df = ask_df.astype(np.float)\n",
    "    n_ask_influencer = ask_df[ask_df.qty > 50000]['price'].count()\n",
    "    n_bid_influencer = bid_df[bid_df.qty > 50000]['price'].count()\n",
    "\n",
    "    print('bid-ask-qty: ' + str(np.sum(bid_df.qty)) + ' / ' + str(np.sum(ask_df.qty)))\n",
    "    print('')\n",
    "    \n",
    "    print('bid front: ')\n",
    "    print(str(bid_df[['qty', 'price']].head(1)))\n",
    "    print('')\n",
    "    print('ask front: ')\n",
    "    print(str(ask_df[['qty', 'price']].head(1)))\n",
    "    print('')\n",
    "    \n",
    "    gap = abs(n_bid_influencer - n_ask_influencer)\n",
    "    print('bid-ask: ' + str(n_bid_influencer) + '/' + str(n_ask_influencer) + ' [' + str(gap) + ']')\n",
    "    \n",
    "    if n_bid_influencer > 1.1 * n_ask_influencer:\n",
    "        return (\"bid\", np.max(bid_df['price']) + delta)\n",
    "    elif n_bid_influencer * 1.1 < n_ask_influencer:\n",
    "        return (\"ask\", np.min(ask_df['price']) - delta)\n",
    "    else:\n",
    "        return (\"tied\", np.nan)\n"
   ]
  },
  {
   "cell_type": "code",
   "execution_count": null,
   "metadata": {
    "collapsed": true
   },
   "outputs": [],
   "source": [
    "COIN_NAME = 'xrp'\n",
    "wallet = Wallet(kw=1000000)\n",
    "while True:\n",
    "    try:\n",
    "        print(\"------------------\")\n",
    "        ticker = get_ticker(COIN_NAME)\n",
    "\n",
    "\n",
    "        market_price = float(ticker['last'])\n",
    "\n",
    "        orderbook = get_orderbook(COIN_NAME)\n",
    "        ask_pd = pd.DataFrame(orderbook['ask'])\n",
    "        ask_price = float(ask_pd.iloc[0, 0])\n",
    "\n",
    "        bid_pd = pd.DataFrame(orderbook['bid'])\n",
    "        bid_price = float(bid_pd.iloc[0, 0])\n",
    "    except:\n",
    "        continue\n",
    "    \n",
    "    position, price = get_position(bid_pd, ask_pd)\n",
    "    price = float(price)\n",
    "\n",
    "    print('')\n",
    "    print('market / price : ' + str(market_price) + ' / ' + str(price) + ' ['+ str(abs(market_price - price)) +']')\n",
    "    print('')\n",
    "\n",
    "\n",
    "    if position == 'ask' and ((ask_price == market_price) or (ask_price <= bid_price and bid_price - 20 <= ask_price)):\n",
    "#         if position == 'ask':\n",
    "#     if position == 'ask' and ((ask_price == market_price) or (ask_price == bid_price)):\n",
    "        print(position + ' sold')\n",
    "        print('')\n",
    "        wallet.sell_qtum(-1, market_price)\n",
    "\n",
    "#     if position == 'bid' and ((bid_price == market_price) or (bid_price == ask_price)): \n",
    "    if position == 'bid' and ((bid_price == market_price) or (bid_price >= ask_price and ask_price + 20 >= bid_price)):\n",
    "\n",
    "        print(position + ' bought')\n",
    "        print('')\n",
    "        wallet.buy_qtum(-1, market_price)\n",
    "\n",
    "\n",
    "    \n",
    "    print(wallet.get_balance())\n",
    "    print('')\n",
    "    print(wallet.get_balance_in_kw(market_price))\n",
    "    time.sleep(0.8)\n"
   ]
  },
  {
   "cell_type": "code",
   "execution_count": 266,
   "metadata": {},
   "outputs": [
    {
     "data": {
      "text/plain": [
       "72010"
      ]
     },
     "execution_count": 266,
     "metadata": {},
     "output_type": "execute_result"
    }
   ],
   "source": [
    "price"
   ]
  },
  {
   "cell_type": "code",
   "execution_count": 253,
   "metadata": {
    "collapsed": true
   },
   "outputs": [],
   "source": []
  },
  {
   "cell_type": "code",
   "execution_count": 254,
   "metadata": {
    "collapsed": true
   },
   "outputs": [],
   "source": []
  },
  {
   "cell_type": "code",
   "execution_count": null,
   "metadata": {
    "collapsed": true
   },
   "outputs": [],
   "source": []
  },
  {
   "cell_type": "code",
   "execution_count": null,
   "metadata": {
    "collapsed": true
   },
   "outputs": [],
   "source": []
  },
  {
   "cell_type": "code",
   "execution_count": null,
   "metadata": {
    "collapsed": true
   },
   "outputs": [],
   "source": []
  },
  {
   "cell_type": "code",
   "execution_count": null,
   "metadata": {
    "collapsed": true
   },
   "outputs": [],
   "source": []
  },
  {
   "cell_type": "code",
   "execution_count": null,
   "metadata": {
    "collapsed": true
   },
   "outputs": [],
   "source": []
  },
  {
   "cell_type": "code",
   "execution_count": 295,
   "metadata": {
    "collapsed": true
   },
   "outputs": [],
   "source": [
    "def transform(index):\n",
    "    tmp_selected = orderbooks_bson[index]\n",
    "    tmp_selected_ask = pd.DataFrame(tmp_selected['ask'])\n",
    "    tmp_selected_ask['timestamp'] = tmp_selected['timestamp']\n",
    "    tmp_selected_ask['bid_ask'] = 'ask'\n",
    "\n",
    "    tmp_selected_bid = pd.DataFrame(tmp_selected['bid'])\n",
    "    tmp_selected_bid['timestamp'] = tmp_selected['timestamp']\n",
    "    tmp_selected_bid['bid_ask'] = 'bid'\n",
    "    return (tmp_selected_ask, tmp_selected_bid)\n",
    "transformed_lst = []\n",
    "\n",
    "for i in range(10000):\n",
    "    transformed_ask, transformed_bid = transform(i)\n",
    "    transformed_lst.append(transformed_ask)\n",
    "    transformed_lst.append(transformed_bid)\n",
    "    \n",
    "transformed_df = pd.concat(transformed_lst)\n",
    "transformed_df.to_csv(\"../rawdata/tranformed_df.csv\")\n",
    "transformed_df.head(10)"
   ]
  }
 ],
 "metadata": {
  "kernelspec": {
   "display_name": "Python 2",
   "language": "python",
   "name": "python2"
  },
  "language_info": {
   "codemirror_mode": {
    "name": "ipython",
    "version": 2
   },
   "file_extension": ".py",
   "mimetype": "text/x-python",
   "name": "python",
   "nbconvert_exporter": "python",
   "pygments_lexer": "ipython2",
   "version": "2.7.14"
  }
 },
 "nbformat": 4,
 "nbformat_minor": 2
}
