{
 "cells": [
  {
   "cell_type": "code",
   "execution_count": 36,
   "metadata": {},
   "outputs": [
    {
     "name": "stderr",
     "output_type": "stream",
     "text": [
      "Using TensorFlow backend.\n"
     ]
    }
   ],
   "source": [
    "import boto3\n",
    "import logging\n",
    "from util import *\n",
    "import os\n",
    "from botocore.exceptions import ClientError"
   ]
  },
  {
   "cell_type": "code",
   "execution_count": 31,
   "metadata": {},
   "outputs": [],
   "source": [
    "class S3_uploader:\n",
    "    \n",
    "    def __init__(self, bucket_name):\n",
    "        self.s3 = boto3.client('s3')\n",
    "        self.bucket_name = bucket_name\n",
    "    \n",
    "    def upload(self, file, directory=''):\n",
    "        self.s3.upload_file(file, self.bucket_name, os.path.join(directory, file.split('/')[-1]))\n",
    "    "
   ]
  },
  {
   "cell_type": "code",
   "execution_count": 32,
   "metadata": {},
   "outputs": [],
   "source": [
    "s3_uploader = S3_uploader('epopcon-ds')"
   ]
  },
  {
   "cell_type": "code",
   "execution_count": 34,
   "metadata": {},
   "outputs": [],
   "source": [
    "s3_uploader.upload('data/testfile1.txt', 'wow')"
   ]
  },
  {
   "cell_type": "code",
   "execution_count": 39,
   "metadata": {},
   "outputs": [],
   "source": [
    "engine = Epopcon_db().get_engine()"
   ]
  },
  {
   "cell_type": "code",
   "execution_count": 7,
   "metadata": {},
   "outputs": [],
   "source": [
    "s3 = boto3.client('s3')\n",
    "bucket_name = 'epopcon-ds'\n",
    "s3.upload_file(filename, bucket_name, filename.split('/')[-1])"
   ]
  },
  {
   "cell_type": "code",
   "execution_count": 40,
   "metadata": {},
   "outputs": [],
   "source": [
    "\n",
    "\n",
    "tmp_df = pd.read_sql_query(\"SELECT * FROM MWS_COLT_ITEM_SELL_AMT_DEV WHERE UPT_DT > '2018-01-01'\", engine)"
   ]
  },
  {
   "cell_type": "code",
   "execution_count": 41,
   "metadata": {},
   "outputs": [
    {
     "data": {
      "text/html": [
       "<div>\n",
       "<style>\n",
       "    .dataframe thead tr:only-child th {\n",
       "        text-align: right;\n",
       "    }\n",
       "\n",
       "    .dataframe thead th {\n",
       "        text-align: left;\n",
       "    }\n",
       "\n",
       "    .dataframe tbody tr th {\n",
       "        vertical-align: top;\n",
       "    }\n",
       "</style>\n",
       "<table border=\"1\" class=\"dataframe\">\n",
       "  <thead>\n",
       "    <tr style=\"text-align: right;\">\n",
       "      <th></th>\n",
       "      <th>ID</th>\n",
       "      <th>ITEM_ID</th>\n",
       "      <th>STOCK_ID</th>\n",
       "      <th>COLLECT_DAY</th>\n",
       "      <th>SELL_AMOUNT</th>\n",
       "      <th>REG_ID</th>\n",
       "      <th>REG_DT</th>\n",
       "      <th>UPT_DT</th>\n",
       "      <th>UPT_ID</th>\n",
       "      <th>STOCK_AMOUNT_imputed</th>\n",
       "      <th>STOCK_AMOUNT</th>\n",
       "    </tr>\n",
       "  </thead>\n",
       "  <tbody>\n",
       "    <tr>\n",
       "      <th>0</th>\n",
       "      <td>1</td>\n",
       "      <td>6739928</td>\n",
       "      <td>53775269400471821</td>\n",
       "      <td>2018-01-02</td>\n",
       "      <td>0</td>\n",
       "      <td>SERVER</td>\n",
       "      <td>2018-01-02</td>\n",
       "      <td>2018-02-23 02:13:30</td>\n",
       "      <td>FILTER ALGO</td>\n",
       "      <td>100</td>\n",
       "      <td>100.0</td>\n",
       "    </tr>\n",
       "    <tr>\n",
       "      <th>1</th>\n",
       "      <td>2</td>\n",
       "      <td>6739928</td>\n",
       "      <td>53775269400471821</td>\n",
       "      <td>2018-01-03</td>\n",
       "      <td>0</td>\n",
       "      <td>SERVER</td>\n",
       "      <td>2018-01-03</td>\n",
       "      <td>2018-02-23 02:13:30</td>\n",
       "      <td>FILTER ALGO</td>\n",
       "      <td>83</td>\n",
       "      <td>83.0</td>\n",
       "    </tr>\n",
       "    <tr>\n",
       "      <th>2</th>\n",
       "      <td>3</td>\n",
       "      <td>6739928</td>\n",
       "      <td>53775269400471821</td>\n",
       "      <td>2018-01-04</td>\n",
       "      <td>0</td>\n",
       "      <td>SERVER</td>\n",
       "      <td>2018-01-04</td>\n",
       "      <td>2018-02-23 02:13:30</td>\n",
       "      <td>FILTER ALGO</td>\n",
       "      <td>73</td>\n",
       "      <td>73.0</td>\n",
       "    </tr>\n",
       "    <tr>\n",
       "      <th>3</th>\n",
       "      <td>4</td>\n",
       "      <td>6739928</td>\n",
       "      <td>53775269400471821</td>\n",
       "      <td>2018-01-05</td>\n",
       "      <td>1</td>\n",
       "      <td>SERVER</td>\n",
       "      <td>2018-01-05</td>\n",
       "      <td>2018-02-23 02:13:30</td>\n",
       "      <td>FILTER ALGO</td>\n",
       "      <td>72</td>\n",
       "      <td>72.0</td>\n",
       "    </tr>\n",
       "    <tr>\n",
       "      <th>4</th>\n",
       "      <td>5</td>\n",
       "      <td>6739928</td>\n",
       "      <td>53775269400471821</td>\n",
       "      <td>2018-01-06</td>\n",
       "      <td>0</td>\n",
       "      <td>SERVER</td>\n",
       "      <td>2018-01-06</td>\n",
       "      <td>2018-02-23 02:13:30</td>\n",
       "      <td>FILTER ALGO</td>\n",
       "      <td>72</td>\n",
       "      <td>72.0</td>\n",
       "    </tr>\n",
       "    <tr>\n",
       "      <th>...</th>\n",
       "      <td>...</td>\n",
       "      <td>...</td>\n",
       "      <td>...</td>\n",
       "      <td>...</td>\n",
       "      <td>...</td>\n",
       "      <td>...</td>\n",
       "      <td>...</td>\n",
       "      <td>...</td>\n",
       "      <td>...</td>\n",
       "      <td>...</td>\n",
       "      <td>...</td>\n",
       "    </tr>\n",
       "    <tr>\n",
       "      <th>446</th>\n",
       "      <td>447</td>\n",
       "      <td>6740463</td>\n",
       "      <td>28996185001</td>\n",
       "      <td>2018-01-25</td>\n",
       "      <td>0</td>\n",
       "      <td>SERVER</td>\n",
       "      <td>2018-01-25</td>\n",
       "      <td>2018-02-23 02:13:33</td>\n",
       "      <td>FILTER ALGO</td>\n",
       "      <td>4</td>\n",
       "      <td>NaN</td>\n",
       "    </tr>\n",
       "    <tr>\n",
       "      <th>447</th>\n",
       "      <td>448</td>\n",
       "      <td>6740463</td>\n",
       "      <td>28996185001</td>\n",
       "      <td>2018-01-26</td>\n",
       "      <td>0</td>\n",
       "      <td>SERVER</td>\n",
       "      <td>2018-01-26</td>\n",
       "      <td>2018-02-23 02:13:33</td>\n",
       "      <td>FILTER ALGO</td>\n",
       "      <td>4</td>\n",
       "      <td>4.0</td>\n",
       "    </tr>\n",
       "    <tr>\n",
       "      <th>448</th>\n",
       "      <td>449</td>\n",
       "      <td>6740463</td>\n",
       "      <td>28996185001</td>\n",
       "      <td>2018-01-27</td>\n",
       "      <td>0</td>\n",
       "      <td>SERVER</td>\n",
       "      <td>2018-01-27</td>\n",
       "      <td>2018-02-23 02:13:33</td>\n",
       "      <td>FILTER ALGO</td>\n",
       "      <td>4</td>\n",
       "      <td>NaN</td>\n",
       "    </tr>\n",
       "    <tr>\n",
       "      <th>449</th>\n",
       "      <td>450</td>\n",
       "      <td>6740463</td>\n",
       "      <td>28996185001</td>\n",
       "      <td>2018-01-28</td>\n",
       "      <td>0</td>\n",
       "      <td>SERVER</td>\n",
       "      <td>2018-01-28</td>\n",
       "      <td>2018-02-23 02:13:33</td>\n",
       "      <td>FILTER ALGO</td>\n",
       "      <td>4</td>\n",
       "      <td>NaN</td>\n",
       "    </tr>\n",
       "    <tr>\n",
       "      <th>450</th>\n",
       "      <td>451</td>\n",
       "      <td>6740463</td>\n",
       "      <td>28996185001</td>\n",
       "      <td>2018-01-29</td>\n",
       "      <td>0</td>\n",
       "      <td>SERVER</td>\n",
       "      <td>2018-01-29</td>\n",
       "      <td>2018-02-23 02:13:33</td>\n",
       "      <td>FILTER ALGO</td>\n",
       "      <td>4</td>\n",
       "      <td>4.0</td>\n",
       "    </tr>\n",
       "  </tbody>\n",
       "</table>\n",
       "<p>451 rows × 11 columns</p>\n",
       "</div>"
      ],
      "text/plain": [
       "      ID  ITEM_ID           STOCK_ID COLLECT_DAY  SELL_AMOUNT  REG_ID     REG_DT              UPT_DT       UPT_ID  STOCK_AMOUNT_imputed  STOCK_AMOUNT\n",
       "0      1  6739928  53775269400471821  2018-01-02            0  SERVER 2018-01-02 2018-02-23 02:13:30  FILTER ALGO                   100         100.0\n",
       "1      2  6739928  53775269400471821  2018-01-03            0  SERVER 2018-01-03 2018-02-23 02:13:30  FILTER ALGO                    83          83.0\n",
       "2      3  6739928  53775269400471821  2018-01-04            0  SERVER 2018-01-04 2018-02-23 02:13:30  FILTER ALGO                    73          73.0\n",
       "3      4  6739928  53775269400471821  2018-01-05            1  SERVER 2018-01-05 2018-02-23 02:13:30  FILTER ALGO                    72          72.0\n",
       "4      5  6739928  53775269400471821  2018-01-06            0  SERVER 2018-01-06 2018-02-23 02:13:30  FILTER ALGO                    72          72.0\n",
       "..   ...      ...                ...         ...          ...     ...        ...                 ...          ...                   ...           ...\n",
       "446  447  6740463        28996185001  2018-01-25            0  SERVER 2018-01-25 2018-02-23 02:13:33  FILTER ALGO                     4           NaN\n",
       "447  448  6740463        28996185001  2018-01-26            0  SERVER 2018-01-26 2018-02-23 02:13:33  FILTER ALGO                     4           4.0\n",
       "448  449  6740463        28996185001  2018-01-27            0  SERVER 2018-01-27 2018-02-23 02:13:33  FILTER ALGO                     4           NaN\n",
       "449  450  6740463        28996185001  2018-01-28            0  SERVER 2018-01-28 2018-02-23 02:13:33  FILTER ALGO                     4           NaN\n",
       "450  451  6740463        28996185001  2018-01-29            0  SERVER 2018-01-29 2018-02-23 02:13:33  FILTER ALGO                     4           4.0\n",
       "\n",
       "[451 rows x 11 columns]"
      ]
     },
     "execution_count": 41,
     "metadata": {},
     "output_type": "execute_result"
    }
   ],
   "source": [
    "tmp_df"
   ]
  },
  {
   "cell_type": "code",
   "execution_count": 9,
   "metadata": {},
   "outputs": [
    {
     "data": {
      "text/plain": [
       "{u'Buckets': [{u'CreationDate': datetime.datetime(2018, 2, 19, 5, 14, 14, tzinfo=tzlocal()),\n",
       "   u'Name': 'epopcon-ds'}],\n",
       " u'Owner': {u'DisplayName': 'daniel.kim',\n",
       "  u'ID': 'db11f709f8ffe4b8d451b306e3ea577bb97c14b3def1e598e5b4b499093ef439'},\n",
       " 'ResponseMetadata': {'HTTPHeaders': {'content-type': 'application/xml',\n",
       "   'date': 'Fri, 23 Feb 2018 02:38:59 GMT',\n",
       "   'server': 'AmazonS3',\n",
       "   'transfer-encoding': 'chunked',\n",
       "   'x-amz-id-2': 'LF7/XhZZTogO4/uX+FxzFUyKhNkbpxxvNwC7gC7NOV/CVuJfMb5JXObIHVdSrXFrEys4K0uGtnU=',\n",
       "   'x-amz-request-id': '7D152873970A6519'},\n",
       "  'HTTPStatusCode': 200,\n",
       "  'HostId': 'LF7/XhZZTogO4/uX+FxzFUyKhNkbpxxvNwC7gC7NOV/CVuJfMb5JXObIHVdSrXFrEys4K0uGtnU=',\n",
       "  'RequestId': '7D152873970A6519',\n",
       "  'RetryAttempts': 0}}"
      ]
     },
     "execution_count": 9,
     "metadata": {},
     "output_type": "execute_result"
    }
   ],
   "source": [
    "response = s3.list_buckets()\n",
    "\n",
    "response"
   ]
  },
  {
   "cell_type": "code",
   "execution_count": 114,
   "metadata": {},
   "outputs": [
    {
     "ename": "TypeError",
     "evalue": "string indices must be integers",
     "output_type": "error",
     "traceback": [
      "\u001b[0;31m---------------------------------------------------------------------------\u001b[0m",
      "\u001b[0;31mTypeError\u001b[0m                                 Traceback (most recent call last)",
      "\u001b[0;32m<ipython-input-114-5e88dac74582>\u001b[0m in \u001b[0;36m<module>\u001b[0;34m()\u001b[0m\n\u001b[0;32m----> 1\u001b[0;31m \u001b[0;34m[\u001b[0m\u001b[0mbucket\u001b[0m\u001b[0;34m[\u001b[0m\u001b[0;34m'Name'\u001b[0m\u001b[0;34m]\u001b[0m \u001b[0;32mfor\u001b[0m \u001b[0mbucket\u001b[0m \u001b[0;32min\u001b[0m \u001b[0mresponse\u001b[0m\u001b[0;34m]\u001b[0m\u001b[0;34m\u001b[0m\u001b[0m\n\u001b[0m",
      "\u001b[0;31mTypeError\u001b[0m: string indices must be integers"
     ]
    }
   ],
   "source": [
    "[bucket['Name'] for bucket in response]"
   ]
  },
  {
   "cell_type": "code",
   "execution_count": 7,
   "metadata": {},
   "outputs": [],
   "source": [
    "# s3 = session.client('s3', region_name=\"us-east-1\")"
   ]
  },
  {
   "cell_type": "code",
   "execution_count": 8,
   "metadata": {},
   "outputs": [
    {
     "ename": "BucketAlreadyExists",
     "evalue": "An error occurred (BucketAlreadyExists) when calling the CreateBucket operation: The requested bucket name is not available. The bucket namespace is shared by all users of the system. Please select a different name and try again.",
     "output_type": "error",
     "traceback": [
      "\u001b[0;31m---------------------------------------------------------------------------\u001b[0m",
      "\u001b[0;31mBucketAlreadyExists\u001b[0m                       Traceback (most recent call last)",
      "\u001b[0;32m<ipython-input-8-e0eaaa9bbb19>\u001b[0m in \u001b[0;36m<module>\u001b[0;34m()\u001b[0m\n\u001b[0;32m----> 1\u001b[0;31m \u001b[0ms3\u001b[0m\u001b[0;34m.\u001b[0m\u001b[0mcreate_bucket\u001b[0m\u001b[0;34m(\u001b[0m\u001b[0mBucket\u001b[0m\u001b[0;34m=\u001b[0m\u001b[0;34m'gc-1'\u001b[0m\u001b[0;34m,\u001b[0m \u001b[0mACL\u001b[0m\u001b[0;34m=\u001b[0m\u001b[0;34m'private'\u001b[0m\u001b[0;34m)\u001b[0m\u001b[0;34m\u001b[0m\u001b[0m\n\u001b[0m",
      "\u001b[0;32m/Users/Daniel/anaconda3/envs/carnegie/lib/python2.7/site-packages/botocore/client.pyc\u001b[0m in \u001b[0;36m_api_call\u001b[0;34m(self, *args, **kwargs)\u001b[0m\n\u001b[1;32m    322\u001b[0m                     \"%s() only accepts keyword arguments.\" % py_operation_name)\n\u001b[1;32m    323\u001b[0m             \u001b[0;31m# The \"self\" in this scope is referring to the BaseClient.\u001b[0m\u001b[0;34m\u001b[0m\u001b[0;34m\u001b[0m\u001b[0m\n\u001b[0;32m--> 324\u001b[0;31m             \u001b[0;32mreturn\u001b[0m \u001b[0mself\u001b[0m\u001b[0;34m.\u001b[0m\u001b[0m_make_api_call\u001b[0m\u001b[0;34m(\u001b[0m\u001b[0moperation_name\u001b[0m\u001b[0;34m,\u001b[0m \u001b[0mkwargs\u001b[0m\u001b[0;34m)\u001b[0m\u001b[0;34m\u001b[0m\u001b[0m\n\u001b[0m\u001b[1;32m    325\u001b[0m \u001b[0;34m\u001b[0m\u001b[0m\n\u001b[1;32m    326\u001b[0m         \u001b[0m_api_call\u001b[0m\u001b[0;34m.\u001b[0m\u001b[0m__name__\u001b[0m \u001b[0;34m=\u001b[0m \u001b[0mstr\u001b[0m\u001b[0;34m(\u001b[0m\u001b[0mpy_operation_name\u001b[0m\u001b[0;34m)\u001b[0m\u001b[0;34m\u001b[0m\u001b[0m\n",
      "\u001b[0;32m/Users/Daniel/anaconda3/envs/carnegie/lib/python2.7/site-packages/botocore/client.pyc\u001b[0m in \u001b[0;36m_make_api_call\u001b[0;34m(self, operation_name, api_params)\u001b[0m\n\u001b[1;32m    620\u001b[0m             \u001b[0merror_code\u001b[0m \u001b[0;34m=\u001b[0m \u001b[0mparsed_response\u001b[0m\u001b[0;34m.\u001b[0m\u001b[0mget\u001b[0m\u001b[0;34m(\u001b[0m\u001b[0;34m\"Error\"\u001b[0m\u001b[0;34m,\u001b[0m \u001b[0;34m{\u001b[0m\u001b[0;34m}\u001b[0m\u001b[0;34m)\u001b[0m\u001b[0;34m.\u001b[0m\u001b[0mget\u001b[0m\u001b[0;34m(\u001b[0m\u001b[0;34m\"Code\"\u001b[0m\u001b[0;34m)\u001b[0m\u001b[0;34m\u001b[0m\u001b[0m\n\u001b[1;32m    621\u001b[0m             \u001b[0merror_class\u001b[0m \u001b[0;34m=\u001b[0m \u001b[0mself\u001b[0m\u001b[0;34m.\u001b[0m\u001b[0mexceptions\u001b[0m\u001b[0;34m.\u001b[0m\u001b[0mfrom_code\u001b[0m\u001b[0;34m(\u001b[0m\u001b[0merror_code\u001b[0m\u001b[0;34m)\u001b[0m\u001b[0;34m\u001b[0m\u001b[0m\n\u001b[0;32m--> 622\u001b[0;31m             \u001b[0;32mraise\u001b[0m \u001b[0merror_class\u001b[0m\u001b[0;34m(\u001b[0m\u001b[0mparsed_response\u001b[0m\u001b[0;34m,\u001b[0m \u001b[0moperation_name\u001b[0m\u001b[0;34m)\u001b[0m\u001b[0;34m\u001b[0m\u001b[0m\n\u001b[0m\u001b[1;32m    623\u001b[0m         \u001b[0;32melse\u001b[0m\u001b[0;34m:\u001b[0m\u001b[0;34m\u001b[0m\u001b[0m\n\u001b[1;32m    624\u001b[0m             \u001b[0;32mreturn\u001b[0m \u001b[0mparsed_response\u001b[0m\u001b[0;34m\u001b[0m\u001b[0m\n",
      "\u001b[0;31mBucketAlreadyExists\u001b[0m: An error occurred (BucketAlreadyExists) when calling the CreateBucket operation: The requested bucket name is not available. The bucket namespace is shared by all users of the system. Please select a different name and try again."
     ]
    }
   ],
   "source": [
    "# s3.create_bucket(Bucket='gc-1', ACL='private')"
   ]
  },
  {
   "cell_type": "code",
   "execution_count": 37,
   "metadata": {},
   "outputs": [],
   "source": [
    "try:\n",
    "    response = s3.put_object(Bucket=bucket_name, Key='second_level/')\n",
    "    logging.info(\"  %s\", response)\n",
    "except Exception as e:\n",
    "    logging.warn(\"Bucket error %s\", e)"
   ]
  },
  {
   "cell_type": "code",
   "execution_count": 47,
   "metadata": {},
   "outputs": [
    {
     "ename": "TypeError",
     "evalue": "upload_file() got multiple values for keyword argument 'Key'",
     "output_type": "error",
     "traceback": [
      "\u001b[0;31m---------------------------------------------------------------------------\u001b[0m",
      "\u001b[0;31mTypeError\u001b[0m                                 Traceback (most recent call last)",
      "\u001b[0;32m<ipython-input-47-157b9beea83c>\u001b[0m in \u001b[0;36m<module>\u001b[0;34m()\u001b[0m\n\u001b[0;32m----> 1\u001b[0;31m \u001b[0ms3\u001b[0m\u001b[0;34m.\u001b[0m\u001b[0mupload_file\u001b[0m\u001b[0;34m(\u001b[0m\u001b[0mfilename\u001b[0m\u001b[0;34m,\u001b[0m \u001b[0mbucket_name\u001b[0m\u001b[0;34m,\u001b[0m \u001b[0mfilename\u001b[0m\u001b[0;34m,\u001b[0m \u001b[0mKey\u001b[0m\u001b[0;34m=\u001b[0m\u001b[0;34m'second_level'\u001b[0m\u001b[0;34m)\u001b[0m\u001b[0;34m\u001b[0m\u001b[0m\n\u001b[0m",
      "\u001b[0;31mTypeError\u001b[0m: upload_file() got multiple values for keyword argument 'Key'"
     ]
    }
   ],
   "source": [
    "s3.upload_file(filename, bucket_name, filename, Key='second_level')"
   ]
  },
  {
   "cell_type": "code",
   "execution_count": 49,
   "metadata": {},
   "outputs": [],
   "source": [
    "s3.upload_file(filename, bucket_name, 'second_level/' + filename)"
   ]
  },
  {
   "cell_type": "code",
   "execution_count": 102,
   "metadata": {},
   "outputs": [
    {
     "data": {
      "text/plain": [
       "{u'ETag': '\"432aba8518d14edc7aa09117eba55799\"',\n",
       " 'ResponseMetadata': {'HTTPHeaders': {'content-length': '0',\n",
       "   'date': 'Mon, 19 Feb 2018 11:37:58 GMT',\n",
       "   'etag': '\"432aba8518d14edc7aa09117eba55799\"',\n",
       "   'server': 'AmazonS3',\n",
       "   'x-amz-id-2': 'WnNzaM7lZAi1/SqKUpIV+EyaqDl91vCOKBYWNBqFhUvUuI+w0AqO/uqqTYVo4BXK92pVVr5wMeA=',\n",
       "   'x-amz-request-id': '742513E3C716AC35'},\n",
       "  'HTTPStatusCode': 200,\n",
       "  'HostId': 'WnNzaM7lZAi1/SqKUpIV+EyaqDl91vCOKBYWNBqFhUvUuI+w0AqO/uqqTYVo4BXK92pVVr5wMeA=',\n",
       "  'RequestId': '742513E3C716AC35',\n",
       "  'RetryAttempts': 0}}"
      ]
     },
     "execution_count": 102,
     "metadata": {},
     "output_type": "execute_result"
    }
   ],
   "source": [
    "s3 = boto3.resource('s3')\n",
    "s3.Object(bucket_name, 'hello.txt').put(Body=open(filename, 'rb'))"
   ]
  },
  {
   "cell_type": "code",
   "execution_count": 169,
   "metadata": {},
   "outputs": [],
   "source": [
    "ec2 = boto3.resource('ec2')\n",
    "ec2_client = boto3.client('ec2')"
   ]
  },
  {
   "cell_type": "code",
   "execution_count": 155,
   "metadata": {},
   "outputs": [
    {
     "data": {
      "text/plain": [
       "'i-0e5e68c7b2bf89d90'"
      ]
     },
     "execution_count": 155,
     "metadata": {},
     "output_type": "execute_result"
    }
   ],
   "source": [
    "ids[0].id"
   ]
  },
  {
   "cell_type": "code",
   "execution_count": 174,
   "metadata": {},
   "outputs": [],
   "source": [
    "INSTANCE_ID = 'i-08ecff19526beca62'"
   ]
  },
  {
   "cell_type": "code",
   "execution_count": 157,
   "metadata": {},
   "outputs": [
    {
     "data": {
      "text/plain": [
       "[{'ResponseMetadata': {'HTTPHeaders': {'content-length': '580',\n",
       "    'content-type': 'text/xml;charset=UTF-8',\n",
       "    'date': 'Wed, 21 Feb 2018 01:16:12 GMT',\n",
       "    'server': 'AmazonEC2'},\n",
       "   'HTTPStatusCode': 200,\n",
       "   'RequestId': 'a11a7530-5f32-4439-a945-4b637dbe95dd',\n",
       "   'RetryAttempts': 0},\n",
       "  u'StartingInstances': [{u'CurrentState': {u'Code': 16, u'Name': 'running'},\n",
       "    u'InstanceId': 'i-0e5e68c7b2bf89d90',\n",
       "    u'PreviousState': {u'Code': 16, u'Name': 'running'}}]}]"
      ]
     },
     "execution_count": 157,
     "metadata": {},
     "output_type": "execute_result"
    }
   ],
   "source": [
    "ec2.instances.filter(InstanceIds=[instance_id]).start()"
   ]
  },
  {
   "cell_type": "code",
   "execution_count": 175,
   "metadata": {},
   "outputs": [],
   "source": [
    "# ec2.instances.filter(InstanceIds=['i-004983fe75c38d607']).stop()\n",
    "ALLOCATION_ID = 'eipalloc-ea9fcdc4'\n"
   ]
  },
  {
   "cell_type": "code",
   "execution_count": 176,
   "metadata": {},
   "outputs": [
    {
     "name": "stdout",
     "output_type": "stream",
     "text": [
      "{u'AssociationId': 'eipassoc-6b48bd97', 'ResponseMetadata': {'RetryAttempts': 0, 'HTTPStatusCode': 200, 'RequestId': 'c107e969-33a1-481a-94cd-bb0913e63815', 'HTTPHeaders': {'transfer-encoding': 'chunked', 'vary': 'Accept-Encoding', 'server': 'AmazonEC2', 'content-type': 'text/xml;charset=UTF-8', 'date': 'Wed, 21 Feb 2018 02:28:32 GMT'}}}\n"
     ]
    }
   ],
   "source": [
    "try:\n",
    "    allocation = ec2_client.allocate_address(Domain='vpc')\n",
    "    response = ec2_client.associate_address(AllocationId=ALLOCATION_ID,\n",
    "                                     InstanceId=INSTANCE_ID)\n",
    "    print(response)\n",
    "except ClientError as e:\n",
    "    print(e) "
   ]
  },
  {
   "cell_type": "code",
   "execution_count": null,
   "metadata": {},
   "outputs": [],
   "source": []
  }
 ],
 "metadata": {
  "kernelspec": {
   "display_name": "Python 2",
   "language": "python",
   "name": "python2"
  },
  "language_info": {
   "codemirror_mode": {
    "name": "ipython",
    "version": 2
   },
   "file_extension": ".py",
   "mimetype": "text/x-python",
   "name": "python",
   "nbconvert_exporter": "python",
   "pygments_lexer": "ipython2",
   "version": "2.7.14"
  }
 },
 "nbformat": 4,
 "nbformat_minor": 2
}
