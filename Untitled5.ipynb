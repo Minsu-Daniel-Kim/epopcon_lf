{
 "cells": [
  {
   "cell_type": "code",
   "execution_count": 1,
   "metadata": {},
   "outputs": [
    {
     "name": "stdout",
     "output_type": "stream",
     "text": [
      "[2018-03-12 12:39:19,024] {__init__.py:57} INFO - Using executor SequentialExecutor\n"
     ]
    },
    {
     "name": "stderr",
     "output_type": "stream",
     "text": [
      "Using TensorFlow backend.\n"
     ]
    },
    {
     "name": "stdout",
     "output_type": "stream",
     "text": [
      "height has been deprecated.\n",
      "\n"
     ]
    }
   ],
   "source": [
    "from __future__ import print_function\n",
    "from airflow.operators.python_operator import PythonOperator\n",
    "from airflow.operators.email_operator import EmailOperator\n",
    "from airflow.operators.dummy_operator import DummyOperator\n",
    "from airflow.operators.mysql_operator import MySqlOperator\n",
    "from airflow.models import DAG\n",
    "from datetime import datetime, timedelta\n",
    "from airflow.hooks.mysql_hook import MySqlHook\n",
    "import time\n",
    "from util import *\n",
    "from time import gmtime, strftime\n",
    "from pytz import timezone\n",
    "from datetime import datetime\n",
    "from sqlalchemy import ForeignKey, Table, Column, String, Integer, Float, Boolean, MetaData, select\n",
    "from joblib import Parallel, delayed\n",
    "from impala.dbapi import connect\n",
    "from impala.util import as_pandas\n"
   ]
  },
  {
   "cell_type": "code",
   "execution_count": 79,
   "metadata": {},
   "outputs": [],
   "source": [
    "epopcon_db = Epopcon_db()\n",
    "\n",
    "wspider_engine = epopcon_db.get_engine(production=True)\n",
    "wspider_temp_engine = epopcon_db.get_engine(production=False)"
   ]
  },
  {
   "cell_type": "code",
   "execution_count": 209,
   "metadata": {},
   "outputs": [],
   "source": [
    "not_clean = pd.read_sql_query(\"SELECT item_id FROM MWS_COLT_ITEM_EXTRACTED_FEATURE WHERE condition_clean = 0 LIMIT 3\", wspider_temp_engine)"
   ]
  },
  {
   "cell_type": "code",
   "execution_count": 210,
   "metadata": {},
   "outputs": [
    {
     "data": {
      "text/plain": [
       "array([425, 428, 434])"
      ]
     },
     "execution_count": 210,
     "metadata": {},
     "output_type": "execute_result"
    }
   ],
   "source": [
    "not_clean.item_id.values"
   ]
  },
  {
   "cell_type": "code",
   "execution_count": 84,
   "metadata": {},
   "outputs": [],
   "source": [
    "result = pd.read_sql_query(\"SELECT * FROM MWS_COLT_ITEM_IVT LIMIT 300\", wspider_engine)\n",
    "\n",
    "\n",
    "# result_dict = {a: b.ID.values for (a, b) in list(result.groupby('SITE_NAME'))}\n",
    "# BATCH_SIZE = 100"
   ]
  },
  {
   "cell_type": "code",
   "execution_count": 90,
   "metadata": {},
   "outputs": [
    {
     "data": {
      "text/plain": [
       "0       1\n",
       "1       1\n",
       "2       1\n",
       "3       2\n",
       "4       2\n",
       "       ..\n",
       "295    45\n",
       "296    45\n",
       "297    45\n",
       "298    45\n",
       "299    45\n",
       "Name: ITEM_ID, Length: 300, dtype: int64"
      ]
     },
     "execution_count": 90,
     "metadata": {},
     "output_type": "execute_result"
    }
   ],
   "source": [
    "result['ITEM_ID']"
   ]
  },
  {
   "cell_type": "code",
   "execution_count": 92,
   "metadata": {},
   "outputs": [],
   "source": [
    "cond1 = pd.notnull(result['ITEM_ID'])"
   ]
  },
  {
   "cell_type": "code",
   "execution_count": 93,
   "metadata": {},
   "outputs": [],
   "source": [
    "cond2 = pd.notnull(result['STOCK_ID']) & (result['STOCK_ID'] == '')"
   ]
  },
  {
   "cell_type": "code",
   "execution_count": 96,
   "metadata": {},
   "outputs": [
    {
     "data": {
      "text/plain": [
       "0      False\n",
       "1      False\n",
       "2      False\n",
       "3      False\n",
       "4      False\n",
       "       ...  \n",
       "295    False\n",
       "296    False\n",
       "297    False\n",
       "298    False\n",
       "299    False\n",
       "Length: 300, dtype: bool"
      ]
     },
     "execution_count": 96,
     "metadata": {},
     "output_type": "execute_result"
    }
   ],
   "source": [
    "cond1 & cond2"
   ]
  },
  {
   "cell_type": "code",
   "execution_count": 69,
   "metadata": {},
   "outputs": [
    {
     "data": {
      "text/plain": [
       "REG_DT\n",
       "2017-08-01 16:04:32    1\n",
       "Name: ITEM_ID, dtype: int64"
      ]
     },
     "execution_count": 69,
     "metadata": {},
     "output_type": "execute_result"
    }
   ],
   "source": [
    "result2['ITEM_ID']"
   ]
  },
  {
   "cell_type": "code",
   "execution_count": 68,
   "metadata": {},
   "outputs": [
    {
     "ename": "TypeError",
     "evalue": "invalid type comparison",
     "output_type": "error",
     "traceback": [
      "\u001b[0;31m\u001b[0m",
      "\u001b[0;31mTypeError\u001b[0mTraceback (most recent call last)",
      "\u001b[0;32m<ipython-input-68-505235f534fd>\u001b[0m in \u001b[0;36m<module>\u001b[0;34m()\u001b[0m\n\u001b[0;32m----> 1\u001b[0;31m \u001b[0mcond2\u001b[0m \u001b[0;34m=\u001b[0m \u001b[0mpd\u001b[0m\u001b[0;34m.\u001b[0m\u001b[0mnotnull\u001b[0m\u001b[0;34m(\u001b[0m\u001b[0mresult2\u001b[0m\u001b[0;34m[\u001b[0m\u001b[0;34m'ITEM_ID'\u001b[0m\u001b[0;34m]\u001b[0m\u001b[0;34m)\u001b[0m \u001b[0;34m&\u001b[0m \u001b[0;34m(\u001b[0m\u001b[0mresult2\u001b[0m\u001b[0;34m[\u001b[0m\u001b[0;34m'ITEM_ID'\u001b[0m\u001b[0;34m]\u001b[0m \u001b[0;34m==\u001b[0m \u001b[0;34m''\u001b[0m\u001b[0;34m)\u001b[0m\u001b[0;34m\u001b[0m\u001b[0m\n\u001b[0m",
      "\u001b[0;32m/opt/conda/lib/python2.7/site-packages/pandas/core/ops.pyc\u001b[0m in \u001b[0;36mwrapper\u001b[0;34m(self, other, axis)\u001b[0m\n\u001b[1;32m    859\u001b[0m \u001b[0;34m\u001b[0m\u001b[0m\n\u001b[1;32m    860\u001b[0m             \u001b[0;32mwith\u001b[0m \u001b[0mnp\u001b[0m\u001b[0;34m.\u001b[0m\u001b[0merrstate\u001b[0m\u001b[0;34m(\u001b[0m\u001b[0mall\u001b[0m\u001b[0;34m=\u001b[0m\u001b[0;34m'ignore'\u001b[0m\u001b[0;34m)\u001b[0m\u001b[0;34m:\u001b[0m\u001b[0;34m\u001b[0m\u001b[0m\n\u001b[0;32m--> 861\u001b[0;31m                 \u001b[0mres\u001b[0m \u001b[0;34m=\u001b[0m \u001b[0mna_op\u001b[0m\u001b[0;34m(\u001b[0m\u001b[0mvalues\u001b[0m\u001b[0;34m,\u001b[0m \u001b[0mother\u001b[0m\u001b[0;34m)\u001b[0m\u001b[0;34m\u001b[0m\u001b[0m\n\u001b[0m\u001b[1;32m    862\u001b[0m             \u001b[0;32mif\u001b[0m \u001b[0mis_scalar\u001b[0m\u001b[0;34m(\u001b[0m\u001b[0mres\u001b[0m\u001b[0;34m)\u001b[0m\u001b[0;34m:\u001b[0m\u001b[0;34m\u001b[0m\u001b[0m\n\u001b[1;32m    863\u001b[0m                 raise TypeError('Could not compare %s type with Series' %\n",
      "\u001b[0;32m/opt/conda/lib/python2.7/site-packages/pandas/core/ops.pyc\u001b[0m in \u001b[0;36mna_op\u001b[0;34m(x, y)\u001b[0m\n\u001b[1;32m    798\u001b[0m                     \u001b[0mresult\u001b[0m \u001b[0;34m=\u001b[0m \u001b[0mgetattr\u001b[0m\u001b[0;34m(\u001b[0m\u001b[0mx\u001b[0m\u001b[0;34m,\u001b[0m \u001b[0mname\u001b[0m\u001b[0;34m)\u001b[0m\u001b[0;34m(\u001b[0m\u001b[0my\u001b[0m\u001b[0;34m)\u001b[0m\u001b[0;34m\u001b[0m\u001b[0m\n\u001b[1;32m    799\u001b[0m                 \u001b[0;32mif\u001b[0m \u001b[0mresult\u001b[0m \u001b[0;32mis\u001b[0m \u001b[0mNotImplemented\u001b[0m\u001b[0;34m:\u001b[0m\u001b[0;34m\u001b[0m\u001b[0m\n\u001b[0;32m--> 800\u001b[0;31m                     \u001b[0;32mraise\u001b[0m \u001b[0mTypeError\u001b[0m\u001b[0;34m(\u001b[0m\u001b[0;34m\"invalid type comparison\"\u001b[0m\u001b[0;34m)\u001b[0m\u001b[0;34m\u001b[0m\u001b[0m\n\u001b[0m\u001b[1;32m    801\u001b[0m             \u001b[0;32mexcept\u001b[0m \u001b[0mAttributeError\u001b[0m\u001b[0;34m:\u001b[0m\u001b[0;34m\u001b[0m\u001b[0m\n\u001b[1;32m    802\u001b[0m                 \u001b[0mresult\u001b[0m \u001b[0;34m=\u001b[0m \u001b[0mop\u001b[0m\u001b[0;34m(\u001b[0m\u001b[0mx\u001b[0m\u001b[0;34m,\u001b[0m \u001b[0my\u001b[0m\u001b[0;34m)\u001b[0m\u001b[0;34m\u001b[0m\u001b[0m\n",
      "\u001b[0;31mTypeError\u001b[0m: invalid type comparison"
     ]
    }
   ],
   "source": [
    "cond2 = pd.notnull(result2['ITEM_ID']) & (result2['ITEM_ID'] == '')"
   ]
  },
  {
   "cell_type": "code",
   "execution_count": 61,
   "metadata": {},
   "outputs": [],
   "source": [
    "result2 = result2.head(2)"
   ]
  },
  {
   "cell_type": "code",
   "execution_count": 62,
   "metadata": {},
   "outputs": [],
   "source": [
    "rows = tuple([tuple(x) for x in result2.values])"
   ]
  },
  {
   "cell_type": "code",
   "execution_count": 65,
   "metadata": {},
   "outputs": [
    {
     "data": {
      "text/plain": [
       "14"
      ]
     },
     "execution_count": 65,
     "metadata": {},
     "output_type": "execute_result"
    }
   ],
   "source": [
    "len(rows[0])"
   ]
  },
  {
   "cell_type": "code",
   "execution_count": 31,
   "metadata": {},
   "outputs": [],
   "source": [
    "rows = tuple([tuple(x) for x in result2.values])"
   ]
  },
  {
   "cell_type": "code",
   "execution_count": 32,
   "metadata": {},
   "outputs": [
    {
     "data": {
      "text/plain": [
       "((1,\n",
       "  1,\n",
       "  '26824625001',\n",
       "  '??',\n",
       "  '55',\n",
       "  None,\n",
       "  None,\n",
       "  '??/55',\n",
       "  931,\n",
       "  0,\n",
       "  '20170801',\n",
       "  'SERVER',\n",
       "  Timestamp('2017-08-01 16:04:32'),\n",
       "  2),\n",
       " (2,\n",
       "  1,\n",
       "  '26824625002',\n",
       "  '??',\n",
       "  '66',\n",
       "  None,\n",
       "  None,\n",
       "  '??/66',\n",
       "  880,\n",
       "  0,\n",
       "  '20170801',\n",
       "  'SERVER',\n",
       "  Timestamp('2017-08-01 16:04:32'),\n",
       "  2),\n",
       " (3,\n",
       "  1,\n",
       "  '26824625003',\n",
       "  '??',\n",
       "  '77',\n",
       "  None,\n",
       "  None,\n",
       "  '??/77',\n",
       "  389,\n",
       "  0,\n",
       "  '20170801',\n",
       "  'SERVER',\n",
       "  Timestamp('2017-08-01 16:04:32'),\n",
       "  2),\n",
       " (4,\n",
       "  2,\n",
       "  '26824626001',\n",
       "  '??',\n",
       "  '55',\n",
       "  None,\n",
       "  None,\n",
       "  '??/55',\n",
       "  884,\n",
       "  0,\n",
       "  '20170801',\n",
       "  'SERVER',\n",
       "  Timestamp('2017-08-01 16:04:32'),\n",
       "  2),\n",
       " (5,\n",
       "  2,\n",
       "  '26824626002',\n",
       "  '??',\n",
       "  '66',\n",
       "  None,\n",
       "  None,\n",
       "  '??/66',\n",
       "  846,\n",
       "  0,\n",
       "  '20170801',\n",
       "  'SERVER',\n",
       "  Timestamp('2017-08-01 16:04:32'),\n",
       "  2),\n",
       " (6,\n",
       "  2,\n",
       "  '26824626003',\n",
       "  '??',\n",
       "  '77',\n",
       "  None,\n",
       "  None,\n",
       "  '??/77',\n",
       "  380,\n",
       "  0,\n",
       "  '20170801',\n",
       "  'SERVER',\n",
       "  Timestamp('2017-08-01 16:04:32'),\n",
       "  2),\n",
       " (7,\n",
       "  3,\n",
       "  '26824923001',\n",
       "  '??',\n",
       "  '55',\n",
       "  None,\n",
       "  None,\n",
       "  '??/55',\n",
       "  894,\n",
       "  0,\n",
       "  '20170801',\n",
       "  'SERVER',\n",
       "  Timestamp('2017-08-01 16:04:32'),\n",
       "  2),\n",
       " (8,\n",
       "  3,\n",
       "  '26824923002',\n",
       "  '??',\n",
       "  '66',\n",
       "  None,\n",
       "  None,\n",
       "  '??/66',\n",
       "  354,\n",
       "  0,\n",
       "  '20170801',\n",
       "  'SERVER',\n",
       "  Timestamp('2017-08-01 16:04:32'),\n",
       "  2),\n",
       " (9,\n",
       "  3,\n",
       "  '26824923003',\n",
       "  '??',\n",
       "  '77',\n",
       "  None,\n",
       "  None,\n",
       "  '??/77',\n",
       "  223,\n",
       "  0,\n",
       "  '20170801',\n",
       "  'SERVER',\n",
       "  Timestamp('2017-08-01 16:04:32'),\n",
       "  2),\n",
       " (10,\n",
       "  3,\n",
       "  '26824923004',\n",
       "  '??',\n",
       "  '88',\n",
       "  None,\n",
       "  None,\n",
       "  '??/88',\n",
       "  1,\n",
       "  0,\n",
       "  '20170801',\n",
       "  'SERVER',\n",
       "  Timestamp('2017-08-01 16:04:32'),\n",
       "  2))"
      ]
     },
     "execution_count": 32,
     "metadata": {},
     "output_type": "execute_result"
    }
   ],
   "source": [
    "rows"
   ]
  },
  {
   "cell_type": "code",
   "execution_count": 21,
   "metadata": {},
   "outputs": [],
   "source": [
    "result2[['wow']] = 2"
   ]
  },
  {
   "cell_type": "code",
   "execution_count": 24,
   "metadata": {},
   "outputs": [],
   "source": [
    "result2 = result2.set_index(result2.REG_DT)"
   ]
  },
  {
   "cell_type": "code",
   "execution_count": 29,
   "metadata": {},
   "outputs": [
    {
     "data": {
      "text/html": [
       "<div>\n",
       "<style>\n",
       "    .dataframe thead tr:only-child th {\n",
       "        text-align: right;\n",
       "    }\n",
       "\n",
       "    .dataframe thead th {\n",
       "        text-align: left;\n",
       "    }\n",
       "\n",
       "    .dataframe tbody tr th {\n",
       "        vertical-align: top;\n",
       "    }\n",
       "</style>\n",
       "<table border=\"1\" class=\"dataframe\">\n",
       "  <thead>\n",
       "    <tr style=\"text-align: right;\">\n",
       "      <th></th>\n",
       "      <th>ID</th>\n",
       "      <th>ITEM_ID</th>\n",
       "      <th>STOCK_ID</th>\n",
       "      <th>COLOR_OPTION</th>\n",
       "      <th>SIZE_OPTION</th>\n",
       "      <th>STYLE_OPTION</th>\n",
       "      <th>GIFT_OPTION</th>\n",
       "      <th>OPTION</th>\n",
       "      <th>STOCK_AMOUNT</th>\n",
       "      <th>ADD_PRICE</th>\n",
       "      <th>COLLECT_DAY</th>\n",
       "      <th>REG_ID</th>\n",
       "      <th>REG_DT</th>\n",
       "      <th>wow</th>\n",
       "    </tr>\n",
       "    <tr>\n",
       "      <th>REG_DT</th>\n",
       "      <th></th>\n",
       "      <th></th>\n",
       "      <th></th>\n",
       "      <th></th>\n",
       "      <th></th>\n",
       "      <th></th>\n",
       "      <th></th>\n",
       "      <th></th>\n",
       "      <th></th>\n",
       "      <th></th>\n",
       "      <th></th>\n",
       "      <th></th>\n",
       "      <th></th>\n",
       "      <th></th>\n",
       "    </tr>\n",
       "  </thead>\n",
       "  <tbody>\n",
       "  </tbody>\n",
       "</table>\n",
       "</div>"
      ],
      "text/plain": [
       "Empty DataFrame\n",
       "Columns: [ID, ITEM_ID, STOCK_ID, COLOR_OPTION, SIZE_OPTION, STYLE_OPTION, GIFT_OPTION, OPTION, STOCK_AMOUNT, ADD_PRICE, COLLECT_DAY, REG_ID, REG_DT, wow]\n",
       "Index: []"
      ]
     },
     "execution_count": 29,
     "metadata": {},
     "output_type": "execute_result"
    }
   ],
   "source": [
    "result2.drop(result2.index)\n"
   ]
  },
  {
   "cell_type": "code",
   "execution_count": 3,
   "metadata": {},
   "outputs": [],
   "source": [
    "result2 = pd.read_sql_query(\"SELECT * FROM MWS_COLT_ITEM_IVT LIMIT 10\", wspider_engine)"
   ]
  },
  {
   "cell_type": "code",
   "execution_count": 13,
   "metadata": {},
   "outputs": [],
   "source": [
    "filter_set = set(np.array([3,8]))"
   ]
  },
  {
   "cell_type": "code",
   "execution_count": 9,
   "metadata": {},
   "outputs": [],
   "source": [
    "tmp_lst = np.array([1,3,4, 8, 11, 14])"
   ]
  },
  {
   "cell_type": "code",
   "execution_count": 17,
   "metadata": {},
   "outputs": [
    {
     "data": {
      "text/plain": [
       "array([ 1,  4, 11, 14])"
      ]
     },
     "execution_count": 17,
     "metadata": {},
     "output_type": "execute_result"
    }
   ],
   "source": [
    "np.array([item for item in tmp_lst if item not in filter_set])"
   ]
  },
  {
   "cell_type": "code",
   "execution_count": 14,
   "metadata": {},
   "outputs": [
    {
     "data": {
      "text/plain": [
       "{3, 8}"
      ]
     },
     "execution_count": 14,
     "metadata": {},
     "output_type": "execute_result"
    }
   ],
   "source": [
    "filter_set"
   ]
  },
  {
   "cell_type": "code",
   "execution_count": 8,
   "metadata": {},
   "outputs": [
    {
     "data": {
      "text/plain": [
       "array([1, 3, 4])"
      ]
     },
     "execution_count": 8,
     "metadata": {},
     "output_type": "execute_result"
    }
   ],
   "source": [
    "np.delete(tmp_lst, 3)"
   ]
  },
  {
   "cell_type": "code",
   "execution_count": 182,
   "metadata": {},
   "outputs": [
    {
     "data": {
      "text/plain": [
       "True"
      ]
     },
     "execution_count": 182,
     "metadata": {},
     "output_type": "execute_result"
    }
   ],
   "source": [
    "'a' in ['a', 'b']"
   ]
  },
  {
   "cell_type": "code",
   "execution_count": 181,
   "metadata": {},
   "outputs": [
    {
     "data": {
      "text/plain": [
       "array(['HMALL', 'lotte.com', 'DESCENTE', 'GSSHOP', 'nbkorea', 'NIKE'], dtype=object)"
      ]
     },
     "execution_count": 181,
     "metadata": {},
     "output_type": "execute_result"
    }
   ],
   "source": [
    "result.SITE_NAME.unique()"
   ]
  },
  {
   "cell_type": "code",
   "execution_count": 115,
   "metadata": {},
   "outputs": [],
   "source": [
    "splitted_input = []\n",
    "for key, value in result_dict.iteritems():\n",
    "    n_split = math.ceil(len(value) / float(BATCH_SIZE))\n",
    "    splitted_lsts = np.array_split(value, n_split)\n",
    "    for splitted_lst in splitted_lsts:\n",
    "        splitted_input.append({'SIZE_NAME': key, 'ITEM_IDS': splitted_lst})"
   ]
  },
  {
   "cell_type": "code",
   "execution_count": 120,
   "metadata": {},
   "outputs": [],
   "source": [
    "dataset = splitted_input[0]"
   ]
  },
  {
   "cell_type": "code",
   "execution_count": 172,
   "metadata": {},
   "outputs": [],
   "source": [
    "\n",
    "item_ids = str(tuple([item_id for item_id in dataset['ITEM_IDS']]))\n",
    "sql = \"SELECT ITEM_ID, STOCK_ID, STOCK_AMOUNT, COLLECT_DAY, REG_ID, REG_DT FROM MWS_COLT_ITEM_IVT WHERE ITEM_ID IN %s\" % item_ids"
   ]
  },
  {
   "cell_type": "code",
   "execution_count": 173,
   "metadata": {},
   "outputs": [],
   "source": [
    "results = pd.read_sql_query(sql, wspider_engine)"
   ]
  },
  {
   "cell_type": "code",
   "execution_count": 184,
   "metadata": {},
   "outputs": [],
   "source": [
    "tmp = results.head(10)"
   ]
  },
  {
   "cell_type": "code",
   "execution_count": 189,
   "metadata": {},
   "outputs": [],
   "source": [
    "tuples = tuple([tuple(x) for x in tmp.values])"
   ]
  },
  {
   "cell_type": "code",
   "execution_count": 191,
   "metadata": {},
   "outputs": [],
   "source": [
    "import MySQLdb\n",
    "import MySQLdb.cursors\n"
   ]
  },
  {
   "cell_type": "code",
   "execution_count": 186,
   "metadata": {},
   "outputs": [
    {
     "data": {
      "text/plain": [
       "[Pandas(ITEM_ID=6739976, STOCK_ID='5509409554175882274', STOCK_AMOUNT=300, COLLECT_DAY='20180102', REG_ID='SERVER', REG_DT=Timestamp('2018-01-02 11:02:42')),\n",
       " Pandas(ITEM_ID=6739976, STOCK_ID='5509409554175882274', STOCK_AMOUNT=299, COLLECT_DAY='20180103', REG_ID='SERVER', REG_DT=Timestamp('2018-01-03 03:10:05')),\n",
       " Pandas(ITEM_ID=6739976, STOCK_ID='5509409554175882274', STOCK_AMOUNT=299, COLLECT_DAY='20180103', REG_ID='SERVER', REG_DT=Timestamp('2018-01-03 10:53:39')),\n",
       " Pandas(ITEM_ID=6739976, STOCK_ID='5509409554175882274', STOCK_AMOUNT=299, COLLECT_DAY='20180103', REG_ID='SERVER', REG_DT=Timestamp('2018-01-03 18:29:23')),\n",
       " Pandas(ITEM_ID=6739976, STOCK_ID='5509409554175882274', STOCK_AMOUNT=299, COLLECT_DAY='20180104', REG_ID='SERVER', REG_DT=Timestamp('2018-01-04 10:36:26')),\n",
       " Pandas(ITEM_ID=6739976, STOCK_ID='5509409554175882274', STOCK_AMOUNT=299, COLLECT_DAY='20180105', REG_ID='SERVER', REG_DT=Timestamp('2018-01-05 13:39:20')),\n",
       " Pandas(ITEM_ID=6739976, STOCK_ID='5509409554175882274', STOCK_AMOUNT=299, COLLECT_DAY='20180106', REG_ID='SERVER', REG_DT=Timestamp('2018-01-06 13:07:52')),\n",
       " Pandas(ITEM_ID=6739976, STOCK_ID='5509409554175882274', STOCK_AMOUNT=299, COLLECT_DAY='20180107', REG_ID='SERVER', REG_DT=Timestamp('2018-01-07 12:37:34')),\n",
       " Pandas(ITEM_ID=6739976, STOCK_ID='5509409554175882274', STOCK_AMOUNT=299, COLLECT_DAY='20180108', REG_ID='SERVER', REG_DT=Timestamp('2018-01-08 12:14:12')),\n",
       " Pandas(ITEM_ID=6739976, STOCK_ID='5509409554175882274', STOCK_AMOUNT=299, COLLECT_DAY='20180109', REG_ID='SERVER', REG_DT=Timestamp('2018-01-09 11:32:34'))]"
      ]
     },
     "execution_count": 186,
     "metadata": {},
     "output_type": "execute_result"
    }
   ],
   "source": [
    "list(tmp.itertuples(index=False))"
   ]
  },
  {
   "cell_type": "code",
   "execution_count": 174,
   "metadata": {},
   "outputs": [
    {
     "data": {
      "text/html": [
       "<div>\n",
       "<style>\n",
       "    .dataframe thead tr:only-child th {\n",
       "        text-align: right;\n",
       "    }\n",
       "\n",
       "    .dataframe thead th {\n",
       "        text-align: left;\n",
       "    }\n",
       "\n",
       "    .dataframe tbody tr th {\n",
       "        vertical-align: top;\n",
       "    }\n",
       "</style>\n",
       "<table border=\"1\" class=\"dataframe\">\n",
       "  <thead>\n",
       "    <tr style=\"text-align: right;\">\n",
       "      <th></th>\n",
       "      <th>ITEM_ID</th>\n",
       "      <th>STOCK_ID</th>\n",
       "      <th>STOCK_AMOUNT</th>\n",
       "      <th>COLLECT_DAY</th>\n",
       "      <th>REG_ID</th>\n",
       "      <th>REG_DT</th>\n",
       "    </tr>\n",
       "  </thead>\n",
       "  <tbody>\n",
       "    <tr>\n",
       "      <th>0</th>\n",
       "      <td>6739976</td>\n",
       "      <td>5509409554175882274</td>\n",
       "      <td>300</td>\n",
       "      <td>20180102</td>\n",
       "      <td>SERVER</td>\n",
       "      <td>2018-01-02 11:02:42</td>\n",
       "    </tr>\n",
       "    <tr>\n",
       "      <th>1</th>\n",
       "      <td>6739976</td>\n",
       "      <td>5509409554175882274</td>\n",
       "      <td>299</td>\n",
       "      <td>20180103</td>\n",
       "      <td>SERVER</td>\n",
       "      <td>2018-01-03 03:10:05</td>\n",
       "    </tr>\n",
       "    <tr>\n",
       "      <th>2</th>\n",
       "      <td>6739976</td>\n",
       "      <td>5509409554175882274</td>\n",
       "      <td>299</td>\n",
       "      <td>20180103</td>\n",
       "      <td>SERVER</td>\n",
       "      <td>2018-01-03 10:53:39</td>\n",
       "    </tr>\n",
       "    <tr>\n",
       "      <th>3</th>\n",
       "      <td>6739976</td>\n",
       "      <td>5509409554175882274</td>\n",
       "      <td>299</td>\n",
       "      <td>20180103</td>\n",
       "      <td>SERVER</td>\n",
       "      <td>2018-01-03 18:29:23</td>\n",
       "    </tr>\n",
       "    <tr>\n",
       "      <th>4</th>\n",
       "      <td>6739976</td>\n",
       "      <td>5509409554175882274</td>\n",
       "      <td>299</td>\n",
       "      <td>20180104</td>\n",
       "      <td>SERVER</td>\n",
       "      <td>2018-01-04 10:36:26</td>\n",
       "    </tr>\n",
       "    <tr>\n",
       "      <th>...</th>\n",
       "      <td>...</td>\n",
       "      <td>...</td>\n",
       "      <td>...</td>\n",
       "      <td>...</td>\n",
       "      <td>...</td>\n",
       "      <td>...</td>\n",
       "    </tr>\n",
       "    <tr>\n",
       "      <th>8180</th>\n",
       "      <td>6749576</td>\n",
       "      <td>4755077369539950068</td>\n",
       "      <td>438</td>\n",
       "      <td>20180104</td>\n",
       "      <td>SERVER</td>\n",
       "      <td>2018-01-04 18:33:33</td>\n",
       "    </tr>\n",
       "    <tr>\n",
       "      <th>8181</th>\n",
       "      <td>6749576</td>\n",
       "      <td>4755077369539950068</td>\n",
       "      <td>437</td>\n",
       "      <td>20180106</td>\n",
       "      <td>SERVER</td>\n",
       "      <td>2018-01-06 12:57:28</td>\n",
       "    </tr>\n",
       "    <tr>\n",
       "      <th>8182</th>\n",
       "      <td>6749576</td>\n",
       "      <td>4755077369539950068</td>\n",
       "      <td>437</td>\n",
       "      <td>20180107</td>\n",
       "      <td>SERVER</td>\n",
       "      <td>2018-01-07 12:03:49</td>\n",
       "    </tr>\n",
       "    <tr>\n",
       "      <th>8183</th>\n",
       "      <td>6749576</td>\n",
       "      <td>4755077369539950068</td>\n",
       "      <td>435</td>\n",
       "      <td>20180108</td>\n",
       "      <td>SERVER</td>\n",
       "      <td>2018-01-08 12:00:26</td>\n",
       "    </tr>\n",
       "    <tr>\n",
       "      <th>8184</th>\n",
       "      <td>6749576</td>\n",
       "      <td>4755077369539950068</td>\n",
       "      <td>434</td>\n",
       "      <td>20180110</td>\n",
       "      <td>SERVER</td>\n",
       "      <td>2018-01-10 10:55:00</td>\n",
       "    </tr>\n",
       "  </tbody>\n",
       "</table>\n",
       "<p>8185 rows × 6 columns</p>\n",
       "</div>"
      ],
      "text/plain": [
       "      ITEM_ID             STOCK_ID  STOCK_AMOUNT COLLECT_DAY  REG_ID              REG_DT\n",
       "0     6739976  5509409554175882274           300    20180102  SERVER 2018-01-02 11:02:42\n",
       "1     6739976  5509409554175882274           299    20180103  SERVER 2018-01-03 03:10:05\n",
       "2     6739976  5509409554175882274           299    20180103  SERVER 2018-01-03 10:53:39\n",
       "3     6739976  5509409554175882274           299    20180103  SERVER 2018-01-03 18:29:23\n",
       "4     6739976  5509409554175882274           299    20180104  SERVER 2018-01-04 10:36:26\n",
       "...       ...                  ...           ...         ...     ...                 ...\n",
       "8180  6749576  4755077369539950068           438    20180104  SERVER 2018-01-04 18:33:33\n",
       "8181  6749576  4755077369539950068           437    20180106  SERVER 2018-01-06 12:57:28\n",
       "8182  6749576  4755077369539950068           437    20180107  SERVER 2018-01-07 12:03:49\n",
       "8183  6749576  4755077369539950068           435    20180108  SERVER 2018-01-08 12:00:26\n",
       "8184  6749576  4755077369539950068           434    20180110  SERVER 2018-01-10 10:55:00\n",
       "\n",
       "[8185 rows x 6 columns]"
      ]
     },
     "execution_count": 174,
     "metadata": {},
     "output_type": "execute_result"
    }
   ],
   "source": [
    "results"
   ]
  },
  {
   "cell_type": "code",
   "execution_count": 128,
   "metadata": {},
   "outputs": [
    {
     "data": {
      "text/plain": [
       "(6739976,\n",
       " 6739977,\n",
       " 6739978,\n",
       " 6739979,\n",
       " 6739980,\n",
       " 6739981,\n",
       " 6739982,\n",
       " 6739983,\n",
       " 6739984,\n",
       " 6739985,\n",
       " 6739986,\n",
       " 6739987,\n",
       " 6739988,\n",
       " 6739989,\n",
       " 6739990,\n",
       " 6739991,\n",
       " 6739992,\n",
       " 6739993,\n",
       " 6740377,\n",
       " 6740378,\n",
       " 6740379,\n",
       " 6740380,\n",
       " 6740381,\n",
       " 6740382,\n",
       " 6740383,\n",
       " 6740384,\n",
       " 6740385,\n",
       " 6740386,\n",
       " 6740387,\n",
       " 6740388,\n",
       " 6740389,\n",
       " 6740390,\n",
       " 6740391,\n",
       " 6740392,\n",
       " 6740393,\n",
       " 6740394,\n",
       " 6740395,\n",
       " 6740396,\n",
       " 6740397,\n",
       " 6740398,\n",
       " 6740399,\n",
       " 6740400,\n",
       " 6740401,\n",
       " 6740402,\n",
       " 6740403,\n",
       " 6740404,\n",
       " 6740405,\n",
       " 6740406,\n",
       " 6740407,\n",
       " 6740408,\n",
       " 6740409,\n",
       " 6740410,\n",
       " 6740411,\n",
       " 6740412,\n",
       " 6740413,\n",
       " 6740414,\n",
       " 6740415,\n",
       " 6740416,\n",
       " 6740417,\n",
       " 6740418,\n",
       " 6740419,\n",
       " 6740420,\n",
       " 6740421,\n",
       " 6740929,\n",
       " 6740930,\n",
       " 6740931,\n",
       " 6740932,\n",
       " 6740933,\n",
       " 6740934,\n",
       " 6740935,\n",
       " 6740936,\n",
       " 6740937,\n",
       " 6740938,\n",
       " 6740939,\n",
       " 6740940,\n",
       " 6740941,\n",
       " 6740942,\n",
       " 6740943,\n",
       " 6748414,\n",
       " 6748415,\n",
       " 6748416,\n",
       " 6748417,\n",
       " 6748418,\n",
       " 6748422,\n",
       " 6748423,\n",
       " 6748424,\n",
       " 6748425,\n",
       " 6748426,\n",
       " 6749569,\n",
       " 6749570,\n",
       " 6749571,\n",
       " 6749572,\n",
       " 6749573,\n",
       " 6749574,\n",
       " 6749575,\n",
       " 6749576)"
      ]
     },
     "execution_count": 128,
     "metadata": {},
     "output_type": "execute_result"
    }
   ],
   "source": [
    "tuple([item_id for item_id in item_ids])"
   ]
  },
  {
   "cell_type": "code",
   "execution_count": null,
   "metadata": {},
   "outputs": [],
   "source": []
  },
  {
   "cell_type": "code",
   "execution_count": null,
   "metadata": {},
   "outputs": [],
   "source": []
  },
  {
   "cell_type": "code",
   "execution_count": null,
   "metadata": {},
   "outputs": [],
   "source": []
  },
  {
   "cell_type": "code",
   "execution_count": null,
   "metadata": {},
   "outputs": [],
   "source": []
  },
  {
   "cell_type": "raw",
   "metadata": {},
   "source": [
    "hook = MySqlHook(mysql_conn_id='mysql_wspider')\n",
    "result = hook.get_pandas_df(sql='SELECT ID, SITE_NAME FROM wspider.MWS_COLT_ITEM_IVT LIMIT 10')\n",
    "item_ids = result.ID.values\n",
    "print(item_ids)"
   ]
  },
  {
   "cell_type": "code",
   "execution_count": null,
   "metadata": {},
   "outputs": [],
   "source": []
  }
 ],
 "metadata": {
  "kernelspec": {
   "display_name": "Python 2",
   "language": "python",
   "name": "python2"
  },
  "language_info": {
   "codemirror_mode": {
    "name": "ipython",
    "version": 2
   },
   "file_extension": ".py",
   "mimetype": "text/x-python",
   "name": "python",
   "nbconvert_exporter": "python",
   "pygments_lexer": "ipython2",
   "version": "2.7.14"
  }
 },
 "nbformat": 4,
 "nbformat_minor": 2
}
