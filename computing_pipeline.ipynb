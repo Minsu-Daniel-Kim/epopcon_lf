{
 "cells": [
  {
   "cell_type": "code",
   "execution_count": 192,
   "metadata": {},
   "outputs": [],
   "source": [
    "# %load_ext autoreload\n",
    "# # from ggplot import *\n",
    "# %autoreload 3\n",
    "from util import *"
   ]
  },
  {
   "cell_type": "code",
   "execution_count": 185,
   "metadata": {},
   "outputs": [],
   "source": [
    "# item = glob.glob('data/pickle/ivt_item/ivt_item_1.pkl')\n",
    "\n",
    "def process_batch(file):\n",
    "    \n",
    "    batch = pd.read_pickle(file)\n",
    "    \n",
    "    result_lst = []\n",
    "    for idx, group_by_item_id in batch.groupby('ITEM_ID'):\n",
    "        tmp = list(group_by_item_id.groupby('STOCK_ID'))[0][1]    \n",
    "        result_lst.append(get_feature_engineered_bundle(tmp))\n",
    "\n",
    "\n",
    "    results = [result for result in result_lst if result != None]\n",
    "    result_df = pd.DataFrame(results)\n",
    "\n",
    "    # filter dataframe\n",
    "    filtered_df = get_filtered_fg_df(result_df)\n",
    "    \n",
    "    cleaned_item_ids = filtered_df.item_id.values\n",
    "    cleaned_df = batch[batch['ITEM_ID'].isin(cleaned_item_ids)]\n",
    "    df_lst =[]\n",
    "\n",
    "    for idx, group in list(cleaned_df.groupby('ITEM_ID')):\n",
    "        try:\n",
    "            df_lst.append(get_sell_amount_by_item_id(group)['result'])\n",
    "        except:\n",
    "            continue\n",
    "            \n",
    "    if len(df_lst) > 0:\n",
    "            \n",
    "        result = pd.concat(df_lst)\n",
    "        result.to_sql(con=engine, name='MWS_COLT_ITEM_SELL_AMT', if_exists='append', flavor='mysql')\n",
    "        logging.warning('done with %s' % str(file))"
   ]
  },
  {
   "cell_type": "code",
   "execution_count": 186,
   "metadata": {},
   "outputs": [],
   "source": [
    "if __name__ == '__main__':\n",
    "    files = glob.glob('data/pickle/ivt_item/*.pkl')\n",
    "    engine = get_engine()\n",
    "    add_engine_pidguard(engine)    \n",
    "    Parallel(n_jobs=-1)(map(delayed(process_batch), files))"
   ]
  },
  {
   "cell_type": "code",
   "execution_count": 189,
   "metadata": {},
   "outputs": [],
   "source": [
    "# engine = get_engine()\n",
    "# data = pd.read_sql_query(\"SELECT * FROM MWS_COLT_ITEM_SELL_AMT\", engine)"
   ]
  }
 ],
 "metadata": {
  "kernelspec": {
   "display_name": "Python 2",
   "language": "python",
   "name": "python2"
  },
  "language_info": {
   "codemirror_mode": {
    "name": "ipython",
    "version": 2
   },
   "file_extension": ".py",
   "mimetype": "text/x-python",
   "name": "python",
   "nbconvert_exporter": "python",
   "pygments_lexer": "ipython2",
   "version": "2.7.14"
  }
 },
 "nbformat": 4,
 "nbformat_minor": 2
}
