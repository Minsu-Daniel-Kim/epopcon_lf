{
 "cells": [
  {
   "cell_type": "code",
   "execution_count": 2,
   "metadata": {},
   "outputs": [
    {
     "name": "stderr",
     "output_type": "stream",
     "text": [
      "Using TensorFlow backend.\n"
     ]
    }
   ],
   "source": [
    "from sqlalchemy import ForeignKey, Table, Column, String, Integer, Float, Boolean, MetaData\n",
    "from util import *\n",
    "from sqlalchemy.sql import select\n"
   ]
  },
  {
   "cell_type": "code",
   "execution_count": 3,
   "metadata": {},
   "outputs": [],
   "source": [
    "epopcon_db = Epopcon_db()\n",
    "\n",
    "wspider_engine = epopcon_db.get_engine(production=True)\n",
    "wspider_temp_engine = epopcon_db.get_engine(production=False)"
   ]
  },
  {
   "cell_type": "code",
   "execution_count": 8,
   "metadata": {},
   "outputs": [],
   "source": [
    "metadata = MetaData()\n",
    "\n",
    "extract_feature_df = Table('MWS_COLT_ITEM_EXTRACTED_FEATURE', metadata,\n",
    "                Column('item_id', Integer, primary_key=True),\n",
    "                Column('max_consecutive_na', Integer),\n",
    "                Column('max_drop', Integer),\n",
    "                Column('max_v', Integer),\n",
    "                Column('mean_in_cluster', Integer),\n",
    "                Column('median_v', Integer),\n",
    "                Column('min_v', Integer),\n",
    "                Column('n_cluster', Integer),\n",
    "                Column('n_consecutive_na', Integer),\n",
    "                Column('n_days', Integer),\n",
    "                Column('n_jumps', Integer),\n",
    "                Column('n_unique_stock_id', Integer),\n",
    "                Column('range_v', Integer),\n",
    "                Column('ratio_drop', Integer),\n",
    "                Column('ratio_of_na', Integer),              \n",
    "                Column('ratio_same_value', Integer),\n",
    "                Column('std_in_cluster', Integer),\n",
    "                Column('std_v', Integer),\n",
    "                Column('stock_id', Integer),\n",
    "                Column('condition_clean', Integer)\n",
    "                          )\n",
    "metadata.create_all(wspider_temp_engine)"
   ]
  },
  {
   "cell_type": "code",
   "execution_count": 7,
   "metadata": {},
   "outputs": [],
   "source": [
    "extract_feature_df.drop(wspider_temp_engine)"
   ]
  },
  {
   "cell_type": "code",
   "execution_count": 10,
   "metadata": {},
   "outputs": [
    {
     "data": {
      "text/plain": [
       "['MWS_COLT_ITEM_EXTRACTED_FEATURE']"
      ]
     },
     "execution_count": 10,
     "metadata": {},
     "output_type": "execute_result"
    }
   ],
   "source": [
    "metadata.tables.keys()"
   ]
  },
  {
   "cell_type": "code",
   "execution_count": null,
   "metadata": {},
   "outputs": [],
   "source": [
    "sell_amountr = Table('MWS_COLT_ITEM_EXTRACTED_FEATURE', metadata,\n",
    "                Column('ID', Integer, primary_key=True),\n",
    "                Column('ITEM_ID', Integer),\n",
    "                Column('STOCK_ID', Integer),\n",
    "                Column('COLLECT_DAY', D),\n",
    "                Column('mean_in_cluster', Integer),\n",
    "                Column('median_v', Integer),\n",
    "                Column('min_v', Integer),\n",
    "                Column('n_cluster', Integer),\n",
    "                Column('n_consecutive_na', Integer),\n",
    "                Column('n_days', Integer),\n",
    "                Column('n_jumps', Integer),\n",
    "                Column('n_unique_stock_id', Integer),\n",
    "                Column('range_v', Integer),\n",
    "                Column('ratio_drop', Integer),\n",
    "                Column('ratio_of_na', Integer),              \n",
    "                Column('ratio_same_value', Integer),\n",
    "                Column('std_in_cluster', Integer),\n",
    "                Column('std_v', Integer),\n",
    "                Column('stock_id', Integer),\n",
    "                Column('condition_clean', Integer)\n",
    "                          )"
   ]
  },
  {
   "cell_type": "code",
   "execution_count": null,
   "metadata": {},
   "outputs": [],
   "source": []
  },
  {
   "cell_type": "code",
   "execution_count": null,
   "metadata": {},
   "outputs": [],
   "source": []
  },
  {
   "cell_type": "code",
   "execution_count": null,
   "metadata": {},
   "outputs": [],
   "source": []
  }
 ],
 "metadata": {
  "kernelspec": {
   "display_name": "Python 2",
   "language": "python",
   "name": "python2"
  },
  "language_info": {
   "codemirror_mode": {
    "name": "ipython",
    "version": 2
   },
   "file_extension": ".py",
   "mimetype": "text/x-python",
   "name": "python",
   "nbconvert_exporter": "python",
   "pygments_lexer": "ipython2",
   "version": "2.7.14"
  }
 },
 "nbformat": 4,
 "nbformat_minor": 2
}
