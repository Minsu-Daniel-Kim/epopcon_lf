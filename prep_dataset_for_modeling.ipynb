{
 "cells": [
  {
   "cell_type": "code",
   "execution_count": 1,
   "metadata": {},
   "outputs": [
    {
     "name": "stderr",
     "output_type": "stream",
     "text": [
      "Using TensorFlow backend.\n"
     ]
    }
   ],
   "source": [
    "from util import *\n",
    "%load_ext autoreload\n",
    "# # from ggplot import *\n",
    "%autoreload 2"
   ]
  },
  {
   "cell_type": "code",
   "execution_count": 47,
   "metadata": {},
   "outputs": [],
   "source": [
    "def process_batch(file, save_db=False):\n",
    "    \n",
    "    batch = pd.read_pickle(file)\n",
    "    \n",
    "    result_lst = []\n",
    "    for idx, group_by_item_id in batch.groupby('ITEM_ID'):\n",
    "        tmp = list(group_by_item_id.groupby('STOCK_ID'))[0][1]    \n",
    "        result_lst.append(get_feature_engineered_bundle(tmp))\n",
    "\n",
    "\n",
    "    results = [result for result in result_lst if result != None]\n",
    "    result_df = pd.DataFrame(results)\n",
    "    \n",
    "    # save feature engineered df\n",
    "    result_df.to_pickle('data/pickle/ivt_item_feature_engineered/%s' % str(file.split('/')[-1]))\n",
    "    \n",
    "    # filter dataframe\n",
    "    filtered_df = get_filtered_fg_df(result_df)\n",
    "\n",
    "    \n",
    "    cleaned_item_ids = filtered_df.item_id.values\n",
    "    cleaned_df = batch[batch['ITEM_ID'].isin(cleaned_item_ids)]\n",
    "    \n",
    "    \n",
    "    \n",
    "    df_lst =[]\n",
    "    \n",
    "#     save images\n",
    "    save_img(cleaned_df)\n",
    "\n",
    "    if save_db:\n",
    "\n",
    "        for idx, group in cleaned_df.groupby('ITEM_ID'):\n",
    "            try:\n",
    "                df_lst.append(get_sell_amount_by_item_id(group))\n",
    "\n",
    "            except:\n",
    "                continue\n",
    "\n",
    "\n",
    "        if len(df_lst) > 0:\n",
    "\n",
    "            result = pd.concat(df_lst)\n",
    "            result[['COLLECT_DAY']] = result.index\n",
    "\n",
    "            del result['STOCK_AMOUNT_imputed']\n",
    "            del result['STOCK_AMOUNT']\n",
    "\n",
    "            result.to_sql(con=engine2, name='MWS_COLT_ITEM_SELL_AMT', if_exists='append', flavor='mysql')\n",
    "\n",
    "            logging.warning('done with %s' % str(file))\n",
    "\n"
   ]
  },
  {
   "cell_type": "code",
   "execution_count": 55,
   "metadata": {},
   "outputs": [],
   "source": [
    "def save_img(cleaned_df, label):\n",
    "\n",
    "    for idx, group in cleaned_df.groupby('STOCK_ID'):\n",
    "        fig = plt.figure(figsize=(2, 1))\n",
    "        plt.axis('off')\n",
    "        plt.plot(group.index, group.STOCK_AMOUNT, '.')\n",
    "        if label == 'dirty':\n",
    "            \n",
    "            plt.savefig('images/dataset/dirty/%s' % idx)\n",
    "        elif label == 'clean':\n",
    "            pass\n",
    "        elif label == 'static':\n",
    "            plt.savefig('images/dataset/static/%s' % idx)\n",
    "        plt.close(fig)"
   ]
  },
  {
   "cell_type": "code",
   "execution_count": 2,
   "metadata": {},
   "outputs": [],
   "source": [
    "feature_engineered_files = glob.glob(\"data/pickle/ivt_item_feature_engineered/*.pkl\")"
   ]
  },
  {
   "cell_type": "code",
   "execution_count": 5,
   "metadata": {},
   "outputs": [],
   "source": [
    "file = feature_engineered_files[0]"
   ]
  },
  {
   "cell_type": "code",
   "execution_count": 18,
   "metadata": {},
   "outputs": [],
   "source": [
    "ivt_item_fe_df = pd.read_pickle(file)\n",
    "filename = file.split('/')[-1]\n",
    "ivt_item_df = pd.read_pickle(glob.glob(\"data/pickle/ivt_item/%s\" % filename)[0])"
   ]
  },
  {
   "cell_type": "code",
   "execution_count": null,
   "metadata": {},
   "outputs": [],
   "source": []
  },
  {
   "cell_type": "code",
   "execution_count": 19,
   "metadata": {},
   "outputs": [],
   "source": [
    "feature_engineered_df = ivt_item_fe_df"
   ]
  },
  {
   "cell_type": "code",
   "execution_count": 20,
   "metadata": {},
   "outputs": [],
   "source": [
    "item_ids_static = feature_engineered_df.item_id[(feature_engineered_df.std_in_cluster == 0.0)].values\n",
    "data_df_cleaned = feature_engineered_df[feature_engineered_df.mean_in_cluster.notnull()]\n",
    "purified_df = data_df_cleaned[(data_df_cleaned.ratio_drop < 0.2)\n",
    "                      & (data_df_cleaned.ratio_same_value < 0.3)\n",
    "                      & (data_df_cleaned.n_jumps < 2)\n",
    "                      & (data_df_cleaned.n_days > 20)\n",
    "                      & (data_df_cleaned.std_in_cluster > 0.2)\n",
    "                      & (data_df_cleaned.std_in_cluster < 4)\n",
    "                      & (data_df_cleaned.ratio_of_na < 0.5)\n",
    "                      & (data_df_cleaned.n_unique_stock_id < 10)]"
   ]
  },
  {
   "cell_type": "code",
   "execution_count": 31,
   "metadata": {},
   "outputs": [],
   "source": [
    "item_ids = feature_engineered_df.item_id.values\n",
    "data_dict = {ITEM_ID: df  for ITEM_ID, df in ivt_item_df.groupby('ITEM_ID')}"
   ]
  },
  {
   "cell_type": "code",
   "execution_count": 39,
   "metadata": {},
   "outputs": [],
   "source": [
    "static_ids = item_ids_static\n",
    "clean_ids = purified_df.item_id\n",
    "dirty_ids = np.setdiff1d(np.setdiff1d(item_ids, static_ids), clean_ids)"
   ]
  },
  {
   "cell_type": "code",
   "execution_count": 56,
   "metadata": {},
   "outputs": [],
   "source": [
    "for static_id in static_ids:\n",
    "    \n",
    "    save_img(data_dict[static_id], 'static')\n",
    "    \n"
   ]
  },
  {
   "cell_type": "code",
   "execution_count": 57,
   "metadata": {},
   "outputs": [],
   "source": [
    "for dirty_id in dirty_ids:\n",
    "    \n",
    "    save_img(data_dict[dirty_id], 'dirty')\n",
    "    "
   ]
  },
  {
   "cell_type": "code",
   "execution_count": null,
   "metadata": {},
   "outputs": [],
   "source": []
  },
  {
   "cell_type": "code",
   "execution_count": null,
   "metadata": {},
   "outputs": [],
   "source": []
  },
  {
   "cell_type": "code",
   "execution_count": null,
   "metadata": {},
   "outputs": [],
   "source": []
  },
  {
   "cell_type": "code",
   "execution_count": null,
   "metadata": {},
   "outputs": [],
   "source": []
  },
  {
   "cell_type": "code",
   "execution_count": null,
   "metadata": {},
   "outputs": [],
   "source": []
  },
  {
   "cell_type": "code",
   "execution_count": 50,
   "metadata": {},
   "outputs": [],
   "source": [
    "files = glob.glob(\"data/pickle/ivt_item/*.pkl\")"
   ]
  },
  {
   "cell_type": "code",
   "execution_count": 195,
   "metadata": {},
   "outputs": [],
   "source": [
    "file = files[0]"
   ]
  },
  {
   "cell_type": "code",
   "execution_count": 203,
   "metadata": {},
   "outputs": [],
   "source": [
    "batch = pd.read_pickle(file)[['ID', 'ITEM_ID', 'STOCK_ID', 'STOCK_AMOUNT', 'REG_DT']]\n",
    "# batch = batch.set_index('REG_DT')\n"
   ]
  },
  {
   "cell_type": "code",
   "execution_count": 185,
   "metadata": {},
   "outputs": [],
   "source": [
    "# tmp_lst = list(batch.groupby(['ITEM_ID', 'STOCK_ID']))\n",
    "_, group = tmp_lst[11]\n",
    "group[['STOCK_AMOUNT']].resample('1D').first()"
   ]
  },
  {
   "cell_type": "code",
   "execution_count": 190,
   "metadata": {},
   "outputs": [],
   "source": []
  },
  {
   "cell_type": "code",
   "execution_count": 193,
   "metadata": {},
   "outputs": [
    {
     "data": {
      "text/html": [
       "<div>\n",
       "<table border=\"1\" class=\"dataframe\">\n",
       "  <thead>\n",
       "    <tr style=\"text-align: right;\">\n",
       "      <th></th>\n",
       "      <th>STOCK_AMOUNT</th>\n",
       "    </tr>\n",
       "    <tr>\n",
       "      <th>REG_DT</th>\n",
       "      <th></th>\n",
       "    </tr>\n",
       "  </thead>\n",
       "  <tbody>\n",
       "    <tr>\n",
       "      <th>2017-11-04</th>\n",
       "      <td>3.0</td>\n",
       "    </tr>\n",
       "    <tr>\n",
       "      <th>2017-11-05</th>\n",
       "      <td>NaN</td>\n",
       "    </tr>\n",
       "    <tr>\n",
       "      <th>2017-11-06</th>\n",
       "      <td>NaN</td>\n",
       "    </tr>\n",
       "    <tr>\n",
       "      <th>2017-11-07</th>\n",
       "      <td>NaN</td>\n",
       "    </tr>\n",
       "    <tr>\n",
       "      <th>2017-11-08</th>\n",
       "      <td>NaN</td>\n",
       "    </tr>\n",
       "    <tr>\n",
       "      <th>...</th>\n",
       "      <td>...</td>\n",
       "    </tr>\n",
       "    <tr>\n",
       "      <th>2018-02-03</th>\n",
       "      <td>NaN</td>\n",
       "    </tr>\n",
       "    <tr>\n",
       "      <th>2018-02-04</th>\n",
       "      <td>NaN</td>\n",
       "    </tr>\n",
       "    <tr>\n",
       "      <th>2018-02-05</th>\n",
       "      <td>NaN</td>\n",
       "    </tr>\n",
       "    <tr>\n",
       "      <th>2018-02-06</th>\n",
       "      <td>NaN</td>\n",
       "    </tr>\n",
       "    <tr>\n",
       "      <th>2018-02-07</th>\n",
       "      <td>3.0</td>\n",
       "    </tr>\n",
       "  </tbody>\n",
       "</table>\n",
       "<p>96 rows × 1 columns</p>\n",
       "</div>"
      ],
      "text/plain": [
       "            STOCK_AMOUNT\n",
       "REG_DT                  \n",
       "2017-11-04           3.0\n",
       "2017-11-05           NaN\n",
       "2017-11-06           NaN\n",
       "2017-11-07           NaN\n",
       "2017-11-08           NaN\n",
       "...                  ...\n",
       "2018-02-03           NaN\n",
       "2018-02-04           NaN\n",
       "2018-02-05           NaN\n",
       "2018-02-06           NaN\n",
       "2018-02-07           3.0\n",
       "\n",
       "[96 rows x 1 columns]"
      ]
     },
     "execution_count": 193,
     "metadata": {},
     "output_type": "execute_result"
    }
   ],
   "source": []
  },
  {
   "cell_type": "code",
   "execution_count": 205,
   "metadata": {},
   "outputs": [],
   "source": [
    "result_lst = []\n",
    "for _, group in list(batch.groupby(['ITEM_ID', 'STOCK_ID'])):\n",
    "    result_lst.append(get_feature_engineered_bundle(group))\n"
   ]
  },
  {
   "cell_type": "code",
   "execution_count": 206,
   "metadata": {},
   "outputs": [],
   "source": [
    "results = [result for result in result_lst if result != None]\n",
    "result_df = pd.DataFrame(results)\n",
    "static_ids, filtered_df = get_filtered_fg_df2(result_df)\n",
    "batch['Y'] = batch.STOCK_ID.isin(filtered_df.stock_id)\n",
    "batch.loc[batch.STOCK_ID.isin(static_ids), 'Y'] = 'static'"
   ]
  },
  {
   "cell_type": "code",
   "execution_count": 209,
   "metadata": {},
   "outputs": [
    {
     "ename": "KeyboardInterrupt",
     "evalue": "",
     "output_type": "error",
     "traceback": [
      "\u001b[0;31m---------------------------------------------------------------------------\u001b[0m",
      "\u001b[0;31mKeyboardInterrupt\u001b[0m                         Traceback (most recent call last)",
      "\u001b[0;32m<ipython-input-209-f2f888a4f322>\u001b[0m in \u001b[0;36m<module>\u001b[0;34m()\u001b[0m\n\u001b[1;32m     23\u001b[0m         \u001b[0mplt\u001b[0m\u001b[0;34m.\u001b[0m\u001b[0msavefig\u001b[0m\u001b[0;34m(\u001b[0m\u001b[0;34m'images/dataset/correct/%s'\u001b[0m \u001b[0;34m%\u001b[0m \u001b[0midx\u001b[0m\u001b[0;34m[\u001b[0m\u001b[0;36m1\u001b[0m\u001b[0;34m]\u001b[0m\u001b[0;34m)\u001b[0m\u001b[0;34m\u001b[0m\u001b[0m\n\u001b[1;32m     24\u001b[0m     \u001b[0;32melif\u001b[0m \u001b[0mdf\u001b[0m\u001b[0;34m.\u001b[0m\u001b[0mY\u001b[0m\u001b[0;34m[\u001b[0m\u001b[0;36m0\u001b[0m\u001b[0;34m]\u001b[0m \u001b[0;34m==\u001b[0m \u001b[0;34m'static'\u001b[0m\u001b[0;34m:\u001b[0m\u001b[0;34m\u001b[0m\u001b[0m\n\u001b[0;32m---> 25\u001b[0;31m         \u001b[0mplt\u001b[0m\u001b[0;34m.\u001b[0m\u001b[0msavefig\u001b[0m\u001b[0;34m(\u001b[0m\u001b[0;34m'images/dataset/incorrect_static/%s'\u001b[0m \u001b[0;34m%\u001b[0m \u001b[0midx\u001b[0m\u001b[0;34m[\u001b[0m\u001b[0;36m1\u001b[0m\u001b[0;34m]\u001b[0m\u001b[0;34m)\u001b[0m\u001b[0;34m\u001b[0m\u001b[0m\n\u001b[0m\u001b[1;32m     26\u001b[0m     \u001b[0;32melse\u001b[0m\u001b[0;34m:\u001b[0m\u001b[0;34m\u001b[0m\u001b[0m\n\u001b[1;32m     27\u001b[0m         \u001b[0mplt\u001b[0m\u001b[0;34m.\u001b[0m\u001b[0msavefig\u001b[0m\u001b[0;34m(\u001b[0m\u001b[0;34m'images/dataset/incorrect/%s'\u001b[0m \u001b[0;34m%\u001b[0m \u001b[0midx\u001b[0m\u001b[0;34m[\u001b[0m\u001b[0;36m1\u001b[0m\u001b[0;34m]\u001b[0m\u001b[0;34m)\u001b[0m\u001b[0;34m\u001b[0m\u001b[0m\n",
      "\u001b[0;32m/Users/Daniel/anaconda3/envs/carnegie/lib/python2.7/site-packages/matplotlib/pyplot.pyc\u001b[0m in \u001b[0;36msavefig\u001b[0;34m(*args, **kwargs)\u001b[0m\n\u001b[1;32m    699\u001b[0m \u001b[0;32mdef\u001b[0m \u001b[0msavefig\u001b[0m\u001b[0;34m(\u001b[0m\u001b[0;34m*\u001b[0m\u001b[0margs\u001b[0m\u001b[0;34m,\u001b[0m \u001b[0;34m**\u001b[0m\u001b[0mkwargs\u001b[0m\u001b[0;34m)\u001b[0m\u001b[0;34m:\u001b[0m\u001b[0;34m\u001b[0m\u001b[0m\n\u001b[1;32m    700\u001b[0m     \u001b[0mfig\u001b[0m \u001b[0;34m=\u001b[0m \u001b[0mgcf\u001b[0m\u001b[0;34m(\u001b[0m\u001b[0;34m)\u001b[0m\u001b[0;34m\u001b[0m\u001b[0m\n\u001b[0;32m--> 701\u001b[0;31m     \u001b[0mres\u001b[0m \u001b[0;34m=\u001b[0m \u001b[0mfig\u001b[0m\u001b[0;34m.\u001b[0m\u001b[0msavefig\u001b[0m\u001b[0;34m(\u001b[0m\u001b[0;34m*\u001b[0m\u001b[0margs\u001b[0m\u001b[0;34m,\u001b[0m \u001b[0;34m**\u001b[0m\u001b[0mkwargs\u001b[0m\u001b[0;34m)\u001b[0m\u001b[0;34m\u001b[0m\u001b[0m\n\u001b[0m\u001b[1;32m    702\u001b[0m     \u001b[0mfig\u001b[0m\u001b[0;34m.\u001b[0m\u001b[0mcanvas\u001b[0m\u001b[0;34m.\u001b[0m\u001b[0mdraw_idle\u001b[0m\u001b[0;34m(\u001b[0m\u001b[0;34m)\u001b[0m   \u001b[0;31m# need this if 'transparent=True' to reset colors\u001b[0m\u001b[0;34m\u001b[0m\u001b[0m\n\u001b[1;32m    703\u001b[0m     \u001b[0;32mreturn\u001b[0m \u001b[0mres\u001b[0m\u001b[0;34m\u001b[0m\u001b[0m\n",
      "\u001b[0;32m/Users/Daniel/anaconda3/envs/carnegie/lib/python2.7/site-packages/matplotlib/figure.pyc\u001b[0m in \u001b[0;36msavefig\u001b[0;34m(self, fname, **kwargs)\u001b[0m\n\u001b[1;32m   1832\u001b[0m             \u001b[0mself\u001b[0m\u001b[0;34m.\u001b[0m\u001b[0mset_frameon\u001b[0m\u001b[0;34m(\u001b[0m\u001b[0mframeon\u001b[0m\u001b[0;34m)\u001b[0m\u001b[0;34m\u001b[0m\u001b[0m\n\u001b[1;32m   1833\u001b[0m \u001b[0;34m\u001b[0m\u001b[0m\n\u001b[0;32m-> 1834\u001b[0;31m         \u001b[0mself\u001b[0m\u001b[0;34m.\u001b[0m\u001b[0mcanvas\u001b[0m\u001b[0;34m.\u001b[0m\u001b[0mprint_figure\u001b[0m\u001b[0;34m(\u001b[0m\u001b[0mfname\u001b[0m\u001b[0;34m,\u001b[0m \u001b[0;34m**\u001b[0m\u001b[0mkwargs\u001b[0m\u001b[0;34m)\u001b[0m\u001b[0;34m\u001b[0m\u001b[0m\n\u001b[0m\u001b[1;32m   1835\u001b[0m \u001b[0;34m\u001b[0m\u001b[0m\n\u001b[1;32m   1836\u001b[0m         \u001b[0;32mif\u001b[0m \u001b[0mframeon\u001b[0m\u001b[0;34m:\u001b[0m\u001b[0;34m\u001b[0m\u001b[0m\n",
      "\u001b[0;32m/Users/Daniel/anaconda3/envs/carnegie/lib/python2.7/site-packages/matplotlib/backend_bases.pyc\u001b[0m in \u001b[0;36mprint_figure\u001b[0;34m(self, filename, dpi, facecolor, edgecolor, orientation, format, **kwargs)\u001b[0m\n\u001b[1;32m   2265\u001b[0m                 \u001b[0morientation\u001b[0m\u001b[0;34m=\u001b[0m\u001b[0morientation\u001b[0m\u001b[0;34m,\u001b[0m\u001b[0;34m\u001b[0m\u001b[0m\n\u001b[1;32m   2266\u001b[0m                 \u001b[0mbbox_inches_restore\u001b[0m\u001b[0;34m=\u001b[0m\u001b[0m_bbox_inches_restore\u001b[0m\u001b[0;34m,\u001b[0m\u001b[0;34m\u001b[0m\u001b[0m\n\u001b[0;32m-> 2267\u001b[0;31m                 **kwargs)\n\u001b[0m\u001b[1;32m   2268\u001b[0m         \u001b[0;32mfinally\u001b[0m\u001b[0;34m:\u001b[0m\u001b[0;34m\u001b[0m\u001b[0m\n\u001b[1;32m   2269\u001b[0m             \u001b[0;32mif\u001b[0m \u001b[0mbbox_inches\u001b[0m \u001b[0;32mand\u001b[0m \u001b[0mrestore_bbox\u001b[0m\u001b[0;34m:\u001b[0m\u001b[0;34m\u001b[0m\u001b[0m\n",
      "\u001b[0;32m/Users/Daniel/anaconda3/envs/carnegie/lib/python2.7/site-packages/matplotlib/backends/backend_agg.pyc\u001b[0m in \u001b[0;36mprint_png\u001b[0;34m(self, filename_or_obj, *args, **kwargs)\u001b[0m\n\u001b[1;32m    524\u001b[0m         \u001b[0;32mtry\u001b[0m\u001b[0;34m:\u001b[0m\u001b[0;34m\u001b[0m\u001b[0m\n\u001b[1;32m    525\u001b[0m             _png.write_png(renderer._renderer, filename_or_obj,\n\u001b[0;32m--> 526\u001b[0;31m                            self.figure.dpi, metadata=metadata)\n\u001b[0m\u001b[1;32m    527\u001b[0m         \u001b[0;32mfinally\u001b[0m\u001b[0;34m:\u001b[0m\u001b[0;34m\u001b[0m\u001b[0m\n\u001b[1;32m    528\u001b[0m             \u001b[0;32mif\u001b[0m \u001b[0mclose\u001b[0m\u001b[0;34m:\u001b[0m\u001b[0;34m\u001b[0m\u001b[0m\n",
      "\u001b[0;31mKeyboardInterrupt\u001b[0m: "
     ]
    },
    {
     "data": {
      "image/png": "[encoded data removed]",
      "text/plain": [
       "<matplotlib.figure.Figure at 0x1ac28f590>"
      ]
     },
     "metadata": {},
     "output_type": "display_data"
    }
   ],
   "source": [
    "\n",
    "\n",
    "# results = [result for result in result_lst if result != None]\n",
    "# result_df = pd.DataFrame(results)\n",
    "# static_ids, filtered_df = get_filtered_fg_df2(result_df)\n",
    "# batch['Y'] = batch.STOCK_ID.isin(filtered_df.stock_id)\n",
    "# batch.loc[batch.STOCK_ID.isin(static_ids), 'Y'] = 'static'\n",
    "# result_df.to_pickle('data/pickle/ivt_item_feature_engineered/%s' % str(file.split('/')[-1]))\n",
    "\n",
    "\n",
    "\n",
    "# for stock_id, df in batch.groupby('STOCK_ID'):\n",
    "\n",
    "for idx, group in list(batch.groupby(['ITEM_ID', 'STOCK_ID'])):\n",
    "    group = group.set_index('REG_DT')\n",
    "    df = group[['STOCK_AMOUNT', 'Y']].resample('1D').first()\n",
    "\n",
    "    fig = plt.figure()\n",
    "    plt.plot(df.index, df.STOCK_AMOUNT, '.')\n",
    "    plt.axis('off')\n",
    "\n",
    "    if df.Y[0] == True:\n",
    "        plt.savefig('images/dataset/correct/%s' % idx[1])\n",
    "    elif df.Y[0] == 'static':\n",
    "        plt.savefig('images/dataset/incorrect_static/%s' % idx[1])\n",
    "    else:\n",
    "        plt.savefig('images/dataset/incorrect/%s' % idx[1])\n",
    "    plt.close(fig)"
   ]
  },
  {
   "cell_type": "code",
   "execution_count": 178,
   "metadata": {},
   "outputs": [],
   "source": [
    "batch = pd.read_pickle(file)\n",
    "# batch = batch.set_index('REG_DT')\n",
    "result_lst = []\n",
    "for idx, group_by_item_id in batch.groupby('ITEM_ID'):\n",
    "    tmp = list(group_by_item_id.groupby('STOCK_ID'))[0][1]    \n",
    "    result_lst.append(get_feature_engineered_bundle(tmp))\n",
    "\n",
    "\n",
    "results = [result for result in result_lst if result != None]\n",
    "result_df = pd.DataFrame(results)\n",
    "\n",
    "# filter dataframe\n",
    "filtered_df = get_filtered_fg_df(result_df)\n",
    "\n",
    "cleaned_item_ids = filtered_df.item_id.values\n",
    "cleaned_df = batch[batch['ITEM_ID'].isin(cleaned_item_ids)]\n",
    "df_lst =[]"
   ]
  },
  {
   "cell_type": "code",
   "execution_count": 179,
   "metadata": {},
   "outputs": [],
   "source": [
    "cleaned_df = cleaned_df.set_index('REG_DT')\n"
   ]
  },
  {
   "cell_type": "code",
   "execution_count": 180,
   "metadata": {},
   "outputs": [
    {
     "data": {
      "text/html": [
       "<div>\n",
       "<table border=\"1\" class=\"dataframe\">\n",
       "  <thead>\n",
       "    <tr style=\"text-align: right;\">\n",
       "      <th></th>\n",
       "      <th>ID</th>\n",
       "      <th>ITEM_ID</th>\n",
       "      <th>STOCK_ID</th>\n",
       "      <th>COLOR_OPTION</th>\n",
       "      <th>SIZE_OPTION</th>\n",
       "      <th>STYLE_OPTION</th>\n",
       "      <th>GIFT_OPTION</th>\n",
       "      <th>OPTION</th>\n",
       "      <th>STOCK_AMOUNT</th>\n",
       "      <th>ADD_PRICE</th>\n",
       "      <th>COLLECT_DAY</th>\n",
       "      <th>REG_ID</th>\n",
       "    </tr>\n",
       "    <tr>\n",
       "      <th>REG_DT</th>\n",
       "      <th></th>\n",
       "      <th></th>\n",
       "      <th></th>\n",
       "      <th></th>\n",
       "      <th></th>\n",
       "      <th></th>\n",
       "      <th></th>\n",
       "      <th></th>\n",
       "      <th></th>\n",
       "      <th></th>\n",
       "      <th></th>\n",
       "      <th></th>\n",
       "    </tr>\n",
       "  </thead>\n",
       "  <tbody>\n",
       "    <tr>\n",
       "      <th>2017-11-04 15:03:49</th>\n",
       "      <td>1482210203</td>\n",
       "      <td>5621257</td>\n",
       "      <td>-5303229960599649138</td>\n",
       "      <td>노란색</td>\n",
       "      <td>095</td>\n",
       "      <td>None</td>\n",
       "      <td>None</td>\n",
       "      <td></td>\n",
       "      <td>18</td>\n",
       "      <td>0</td>\n",
       "      <td>20171104</td>\n",
       "      <td>SERVER</td>\n",
       "    </tr>\n",
       "    <tr>\n",
       "      <th>2017-11-04 15:03:49</th>\n",
       "      <td>1482210204</td>\n",
       "      <td>5621257</td>\n",
       "      <td>-5303229960599585407</td>\n",
       "      <td>노란색</td>\n",
       "      <td>100</td>\n",
       "      <td>None</td>\n",
       "      <td>None</td>\n",
       "      <td></td>\n",
       "      <td>26</td>\n",
       "      <td>0</td>\n",
       "      <td>20171104</td>\n",
       "      <td>SERVER</td>\n",
       "    </tr>\n",
       "    <tr>\n",
       "      <th>2017-11-04 15:03:49</th>\n",
       "      <td>1482210205</td>\n",
       "      <td>5621257</td>\n",
       "      <td>-5303229960599585402</td>\n",
       "      <td>노란색</td>\n",
       "      <td>105</td>\n",
       "      <td>None</td>\n",
       "      <td>None</td>\n",
       "      <td></td>\n",
       "      <td>14</td>\n",
       "      <td>0</td>\n",
       "      <td>20171104</td>\n",
       "      <td>SERVER</td>\n",
       "    </tr>\n",
       "    <tr>\n",
       "      <th>2017-11-04 15:03:49</th>\n",
       "      <td>1482210206</td>\n",
       "      <td>5621257</td>\n",
       "      <td>-5303229960599585150</td>\n",
       "      <td>노란색</td>\n",
       "      <td>110</td>\n",
       "      <td>None</td>\n",
       "      <td>None</td>\n",
       "      <td></td>\n",
       "      <td>7</td>\n",
       "      <td>0</td>\n",
       "      <td>20171104</td>\n",
       "      <td>SERVER</td>\n",
       "    </tr>\n",
       "    <tr>\n",
       "      <th>2017-11-05 17:51:16</th>\n",
       "      <td>1500768962</td>\n",
       "      <td>5621257</td>\n",
       "      <td>-5303229960599649138</td>\n",
       "      <td>노란색</td>\n",
       "      <td>095</td>\n",
       "      <td>None</td>\n",
       "      <td>None</td>\n",
       "      <td></td>\n",
       "      <td>18</td>\n",
       "      <td>0</td>\n",
       "      <td>20171105</td>\n",
       "      <td>SERVER</td>\n",
       "    </tr>\n",
       "    <tr>\n",
       "      <th>...</th>\n",
       "      <td>...</td>\n",
       "      <td>...</td>\n",
       "      <td>...</td>\n",
       "      <td>...</td>\n",
       "      <td>...</td>\n",
       "      <td>...</td>\n",
       "      <td>...</td>\n",
       "      <td>...</td>\n",
       "      <td>...</td>\n",
       "      <td>...</td>\n",
       "      <td>...</td>\n",
       "      <td>...</td>\n",
       "    </tr>\n",
       "    <tr>\n",
       "      <th>2018-01-21 21:03:33</th>\n",
       "      <td>2654485836</td>\n",
       "      <td>5621257</td>\n",
       "      <td>-5303229960599585150</td>\n",
       "      <td>노란색</td>\n",
       "      <td>110</td>\n",
       "      <td>None</td>\n",
       "      <td>None</td>\n",
       "      <td></td>\n",
       "      <td>5</td>\n",
       "      <td>0</td>\n",
       "      <td>20180121</td>\n",
       "      <td>SERVER</td>\n",
       "    </tr>\n",
       "    <tr>\n",
       "      <th>2018-01-22 21:13:23</th>\n",
       "      <td>2670023342</td>\n",
       "      <td>5621257</td>\n",
       "      <td>-5303229960599649138</td>\n",
       "      <td>노란색</td>\n",
       "      <td>095</td>\n",
       "      <td>None</td>\n",
       "      <td>None</td>\n",
       "      <td></td>\n",
       "      <td>10</td>\n",
       "      <td>0</td>\n",
       "      <td>20180122</td>\n",
       "      <td>SERVER</td>\n",
       "    </tr>\n",
       "    <tr>\n",
       "      <th>2018-01-22 21:13:23</th>\n",
       "      <td>2670023343</td>\n",
       "      <td>5621257</td>\n",
       "      <td>-5303229960599585407</td>\n",
       "      <td>노란색</td>\n",
       "      <td>100</td>\n",
       "      <td>None</td>\n",
       "      <td>None</td>\n",
       "      <td></td>\n",
       "      <td>12</td>\n",
       "      <td>0</td>\n",
       "      <td>20180122</td>\n",
       "      <td>SERVER</td>\n",
       "    </tr>\n",
       "    <tr>\n",
       "      <th>2018-01-22 21:13:23</th>\n",
       "      <td>2670023344</td>\n",
       "      <td>5621257</td>\n",
       "      <td>-5303229960599585402</td>\n",
       "      <td>노란색</td>\n",
       "      <td>105</td>\n",
       "      <td>None</td>\n",
       "      <td>None</td>\n",
       "      <td></td>\n",
       "      <td>6</td>\n",
       "      <td>0</td>\n",
       "      <td>20180122</td>\n",
       "      <td>SERVER</td>\n",
       "    </tr>\n",
       "    <tr>\n",
       "      <th>2018-01-22 21:13:23</th>\n",
       "      <td>2670023345</td>\n",
       "      <td>5621257</td>\n",
       "      <td>-5303229960599585150</td>\n",
       "      <td>노란색</td>\n",
       "      <td>110</td>\n",
       "      <td>None</td>\n",
       "      <td>None</td>\n",
       "      <td></td>\n",
       "      <td>5</td>\n",
       "      <td>0</td>\n",
       "      <td>20180122</td>\n",
       "      <td>SERVER</td>\n",
       "    </tr>\n",
       "  </tbody>\n",
       "</table>\n",
       "<p>256 rows × 12 columns</p>\n",
       "</div>"
      ],
      "text/plain": [
       "                             ID  ITEM_ID              STOCK_ID COLOR_OPTION SIZE_OPTION STYLE_OPTION GIFT_OPTION OPTION  STOCK_AMOUNT  ADD_PRICE COLLECT_DAY  REG_ID\n",
       "REG_DT                                                                                                                                                              \n",
       "2017-11-04 15:03:49  1482210203  5621257  -5303229960599649138          노란색         095         None        None                   18          0    20171104  SERVER\n",
       "2017-11-04 15:03:49  1482210204  5621257  -5303229960599585407          노란색         100         None        None                   26          0    20171104  SERVER\n",
       "2017-11-04 15:03:49  1482210205  5621257  -5303229960599585402          노란색         105         None        None                   14          0    20171104  SERVER\n",
       "2017-11-04 15:03:49  1482210206  5621257  -5303229960599585150          노란색         110         None        None                    7          0    20171104  SERVER\n",
       "2017-11-05 17:51:16  1500768962  5621257  -5303229960599649138          노란색         095         None        None                   18          0    20171105  SERVER\n",
       "...                         ...      ...                   ...          ...         ...          ...         ...    ...           ...        ...         ...     ...\n",
       "2018-01-21 21:03:33  2654485836  5621257  -5303229960599585150          노란색         110         None        None                    5          0    20180121  SERVER\n",
       "2018-01-22 21:13:23  2670023342  5621257  -5303229960599649138          노란색         095         None        None                   10          0    20180122  SERVER\n",
       "2018-01-22 21:13:23  2670023343  5621257  -5303229960599585407          노란색         100         None        None                   12          0    20180122  SERVER\n",
       "2018-01-22 21:13:23  2670023344  5621257  -5303229960599585402          노란색         105         None        None                    6          0    20180122  SERVER\n",
       "2018-01-22 21:13:23  2670023345  5621257  -5303229960599585150          노란색         110         None        None                    5          0    20180122  SERVER\n",
       "\n",
       "[256 rows x 12 columns]"
      ]
     },
     "execution_count": 180,
     "metadata": {},
     "output_type": "execute_result"
    }
   ],
   "source": [
    "cleaned_df"
   ]
  },
  {
   "cell_type": "code",
   "execution_count": null,
   "metadata": {},
   "outputs": [],
   "source": []
  },
  {
   "cell_type": "code",
   "execution_count": 152,
   "metadata": {},
   "outputs": [
    {
     "data": {
      "text/html": [
       "<div>\n",
       "<table border=\"1\" class=\"dataframe\">\n",
       "  <thead>\n",
       "    <tr style=\"text-align: right;\">\n",
       "      <th></th>\n",
       "      <th>item_id</th>\n",
       "      <th>max_consecutive_na</th>\n",
       "      <th>max_drop</th>\n",
       "      <th>max_v</th>\n",
       "      <th>mean_in_cluster</th>\n",
       "      <th>median_v</th>\n",
       "      <th>min_v</th>\n",
       "      <th>n_cluster</th>\n",
       "      <th>n_consecutive_na</th>\n",
       "      <th>n_days</th>\n",
       "      <th>n_jumps</th>\n",
       "      <th>n_unique_stock_id</th>\n",
       "      <th>range_v</th>\n",
       "      <th>ratio_drop</th>\n",
       "      <th>ratio_of_na</th>\n",
       "      <th>ratio_same_value</th>\n",
       "      <th>std_in_cluster</th>\n",
       "      <th>std_v</th>\n",
       "      <th>stock_id</th>\n",
       "    </tr>\n",
       "  </thead>\n",
       "  <tbody>\n",
       "    <tr>\n",
       "      <th>263</th>\n",
       "      <td>5621272</td>\n",
       "      <td>10</td>\n",
       "      <td>1.0</td>\n",
       "      <td>7.0</td>\n",
       "      <td>6.142857</td>\n",
       "      <td>6.0</td>\n",
       "      <td>5.0</td>\n",
       "      <td>1</td>\n",
       "      <td>14</td>\n",
       "      <td>80</td>\n",
       "      <td>1</td>\n",
       "      <td>1</td>\n",
       "      <td>2.0</td>\n",
       "      <td>0.142857</td>\n",
       "      <td>0.387500</td>\n",
       "      <td>0.212500</td>\n",
       "      <td>1.505093</td>\n",
       "      <td>0.709899</td>\n",
       "      <td>-2826405963195130335</td>\n",
       "    </tr>\n",
       "    <tr>\n",
       "      <th>686</th>\n",
       "      <td>5621257</td>\n",
       "      <td>10</td>\n",
       "      <td>1.0</td>\n",
       "      <td>7.0</td>\n",
       "      <td>7.416667</td>\n",
       "      <td>6.0</td>\n",
       "      <td>5.0</td>\n",
       "      <td>1</td>\n",
       "      <td>13</td>\n",
       "      <td>80</td>\n",
       "      <td>1</td>\n",
       "      <td>1</td>\n",
       "      <td>2.0</td>\n",
       "      <td>0.142857</td>\n",
       "      <td>0.375000</td>\n",
       "      <td>0.262500</td>\n",
       "      <td>0.759203</td>\n",
       "      <td>0.721110</td>\n",
       "      <td>-5303229960599585150</td>\n",
       "    </tr>\n",
       "    <tr>\n",
       "      <th>687</th>\n",
       "      <td>5621257</td>\n",
       "      <td>10</td>\n",
       "      <td>2.0</td>\n",
       "      <td>14.0</td>\n",
       "      <td>2.500000</td>\n",
       "      <td>10.0</td>\n",
       "      <td>6.0</td>\n",
       "      <td>3</td>\n",
       "      <td>13</td>\n",
       "      <td>80</td>\n",
       "      <td>0</td>\n",
       "      <td>1</td>\n",
       "      <td>8.0</td>\n",
       "      <td>0.142857</td>\n",
       "      <td>0.375000</td>\n",
       "      <td>0.175000</td>\n",
       "      <td>2.929733</td>\n",
       "      <td>2.336151</td>\n",
       "      <td>-5303229960599585402</td>\n",
       "    </tr>\n",
       "    <tr>\n",
       "      <th>1561</th>\n",
       "      <td>5621794</td>\n",
       "      <td>2</td>\n",
       "      <td>2.0</td>\n",
       "      <td>99.0</td>\n",
       "      <td>1.090909</td>\n",
       "      <td>86.0</td>\n",
       "      <td>74.0</td>\n",
       "      <td>2</td>\n",
       "      <td>6</td>\n",
       "      <td>76</td>\n",
       "      <td>1</td>\n",
       "      <td>1</td>\n",
       "      <td>25.0</td>\n",
       "      <td>0.020202</td>\n",
       "      <td>0.092105</td>\n",
       "      <td>0.131579</td>\n",
       "      <td>0.287480</td>\n",
       "      <td>7.157865</td>\n",
       "      <td>2658512032668233991</td>\n",
       "    </tr>\n",
       "    <tr>\n",
       "      <th>3643</th>\n",
       "      <td>5621358</td>\n",
       "      <td>15</td>\n",
       "      <td>4.0</td>\n",
       "      <td>29.0</td>\n",
       "      <td>1.800000</td>\n",
       "      <td>16.0</td>\n",
       "      <td>15.0</td>\n",
       "      <td>6</td>\n",
       "      <td>10</td>\n",
       "      <td>66</td>\n",
       "      <td>0</td>\n",
       "      <td>1</td>\n",
       "      <td>14.0</td>\n",
       "      <td>0.137931</td>\n",
       "      <td>0.469697</td>\n",
       "      <td>0.212121</td>\n",
       "      <td>0.979796</td>\n",
       "      <td>4.445039</td>\n",
       "      <td>9115921938306212716</td>\n",
       "    </tr>\n",
       "  </tbody>\n",
       "</table>\n",
       "</div>"
      ],
      "text/plain": [
       "      item_id  max_consecutive_na  max_drop  max_v  mean_in_cluster  median_v  min_v  n_cluster  n_consecutive_na  n_days  n_jumps  n_unique_stock_id  range_v  ratio_drop  ratio_of_na  ratio_same_value  std_in_cluster     std_v              stock_id\n",
       "263   5621272                  10       1.0    7.0         6.142857       6.0    5.0          1                14      80        1                  1      2.0    0.142857     0.387500          0.212500        1.505093  0.709899  -2826405963195130335\n",
       "686   5621257                  10       1.0    7.0         7.416667       6.0    5.0          1                13      80        1                  1      2.0    0.142857     0.375000          0.262500        0.759203  0.721110  -5303229960599585150\n",
       "687   5621257                  10       2.0   14.0         2.500000      10.0    6.0          3                13      80        0                  1      8.0    0.142857     0.375000          0.175000        2.929733  2.336151  -5303229960599585402\n",
       "1561  5621794                   2       2.0   99.0         1.090909      86.0   74.0          2                 6      76        1                  1     25.0    0.020202     0.092105          0.131579        0.287480  7.157865   2658512032668233991\n",
       "3643  5621358                  15       4.0   29.0         1.800000      16.0   15.0          6                10      66        0                  1     14.0    0.137931     0.469697          0.212121        0.979796  4.445039   9115921938306212716"
      ]
     },
     "execution_count": 152,
     "metadata": {},
     "output_type": "execute_result"
    }
   ],
   "source": [
    "# filtered_df[~filtered_df.stock_id.isin(static_ids)]"
   ]
  },
  {
   "cell_type": "code",
   "execution_count": 138,
   "metadata": {},
   "outputs": [],
   "source": [
    "batch.loc[batch.STOCK_ID.isin(static_ids), 'Y'] = 'static'"
   ]
  },
  {
   "cell_type": "code",
   "execution_count": 139,
   "metadata": {},
   "outputs": [
    {
     "data": {
      "text/html": [
       "<div>\n",
       "<table border=\"1\" class=\"dataframe\">\n",
       "  <thead>\n",
       "    <tr style=\"text-align: right;\">\n",
       "      <th></th>\n",
       "      <th>ID</th>\n",
       "      <th>ITEM_ID</th>\n",
       "      <th>STOCK_ID</th>\n",
       "      <th>STOCK_AMOUNT</th>\n",
       "      <th>Y</th>\n",
       "    </tr>\n",
       "    <tr>\n",
       "      <th>REG_DT</th>\n",
       "      <th></th>\n",
       "      <th></th>\n",
       "      <th></th>\n",
       "      <th></th>\n",
       "      <th></th>\n",
       "    </tr>\n",
       "  </thead>\n",
       "  <tbody>\n",
       "    <tr>\n",
       "      <th>2017-11-04 14:45:43</th>\n",
       "      <td>1482089358</td>\n",
       "      <td>5621097</td>\n",
       "      <td>28256818001</td>\n",
       "      <td>5</td>\n",
       "      <td>static</td>\n",
       "    </tr>\n",
       "    <tr>\n",
       "      <th>2017-11-04 14:45:43</th>\n",
       "      <td>1482089359</td>\n",
       "      <td>5621097</td>\n",
       "      <td>28256818002</td>\n",
       "      <td>5</td>\n",
       "      <td>static</td>\n",
       "    </tr>\n",
       "    <tr>\n",
       "      <th>2017-11-04 14:45:43</th>\n",
       "      <td>1482089360</td>\n",
       "      <td>5621097</td>\n",
       "      <td>28256818003</td>\n",
       "      <td>5</td>\n",
       "      <td>static</td>\n",
       "    </tr>\n",
       "    <tr>\n",
       "      <th>2017-11-10 16:02:44</th>\n",
       "      <td>1582523490</td>\n",
       "      <td>5621097</td>\n",
       "      <td>28256818001</td>\n",
       "      <td>5</td>\n",
       "      <td>static</td>\n",
       "    </tr>\n",
       "    <tr>\n",
       "      <th>2017-11-10 16:02:44</th>\n",
       "      <td>1582523498</td>\n",
       "      <td>5621097</td>\n",
       "      <td>28256818002</td>\n",
       "      <td>5</td>\n",
       "      <td>static</td>\n",
       "    </tr>\n",
       "    <tr>\n",
       "      <th>...</th>\n",
       "      <td>...</td>\n",
       "      <td>...</td>\n",
       "      <td>...</td>\n",
       "      <td>...</td>\n",
       "      <td>...</td>\n",
       "    </tr>\n",
       "    <tr>\n",
       "      <th>2017-11-06 16:52:39</th>\n",
       "      <td>1516858662</td>\n",
       "      <td>5622095</td>\n",
       "      <td>-3748915529047864559</td>\n",
       "      <td>2</td>\n",
       "      <td>False</td>\n",
       "    </tr>\n",
       "    <tr>\n",
       "      <th>2017-11-06 16:52:39</th>\n",
       "      <td>1516858663</td>\n",
       "      <td>5622095</td>\n",
       "      <td>-1474635995056993671</td>\n",
       "      <td>2</td>\n",
       "      <td>False</td>\n",
       "    </tr>\n",
       "    <tr>\n",
       "      <th>2017-11-06 16:52:39</th>\n",
       "      <td>1516858664</td>\n",
       "      <td>5622095</td>\n",
       "      <td>-3748914407892971245</td>\n",
       "      <td>2</td>\n",
       "      <td>False</td>\n",
       "    </tr>\n",
       "    <tr>\n",
       "      <th>2017-11-06 16:52:39</th>\n",
       "      <td>1516858665</td>\n",
       "      <td>5622095</td>\n",
       "      <td>-1400584835508497285</td>\n",
       "      <td>2</td>\n",
       "      <td>False</td>\n",
       "    </tr>\n",
       "    <tr>\n",
       "      <th>2017-11-06 16:52:39</th>\n",
       "      <td>1516858666</td>\n",
       "      <td>5622095</td>\n",
       "      <td>-3748913286738077931</td>\n",
       "      <td>2</td>\n",
       "      <td>False</td>\n",
       "    </tr>\n",
       "  </tbody>\n",
       "</table>\n",
       "<p>178620 rows × 5 columns</p>\n",
       "</div>"
      ],
      "text/plain": [
       "                             ID  ITEM_ID              STOCK_ID  STOCK_AMOUNT       Y\n",
       "REG_DT                                                                              \n",
       "2017-11-04 14:45:43  1482089358  5621097           28256818001             5  static\n",
       "2017-11-04 14:45:43  1482089359  5621097           28256818002             5  static\n",
       "2017-11-04 14:45:43  1482089360  5621097           28256818003             5  static\n",
       "2017-11-10 16:02:44  1582523490  5621097           28256818001             5  static\n",
       "2017-11-10 16:02:44  1582523498  5621097           28256818002             5  static\n",
       "...                         ...      ...                   ...           ...     ...\n",
       "2017-11-06 16:52:39  1516858662  5622095  -3748915529047864559             2   False\n",
       "2017-11-06 16:52:39  1516858663  5622095  -1474635995056993671             2   False\n",
       "2017-11-06 16:52:39  1516858664  5622095  -3748914407892971245             2   False\n",
       "2017-11-06 16:52:39  1516858665  5622095  -1400584835508497285             2   False\n",
       "2017-11-06 16:52:39  1516858666  5622095  -3748913286738077931             2   False\n",
       "\n",
       "[178620 rows x 5 columns]"
      ]
     },
     "execution_count": 139,
     "metadata": {},
     "output_type": "execute_result"
    }
   ],
   "source": [
    "batch.loc[batch.STOCK_ID.isin(static_ids), 'Y'] = 'static'"
   ]
  },
  {
   "cell_type": "code",
   "execution_count": null,
   "metadata": {},
   "outputs": [],
   "source": []
  },
  {
   "cell_type": "code",
   "execution_count": 137,
   "metadata": {},
   "outputs": [
    {
     "data": {
      "text/plain": [
       "178620"
      ]
     },
     "execution_count": 137,
     "metadata": {},
     "output_type": "execute_result"
    }
   ],
   "source": [
    "len(batch)"
   ]
  },
  {
   "cell_type": "code",
   "execution_count": 135,
   "metadata": {},
   "outputs": [
    {
     "data": {
      "text/plain": [
       "54119"
      ]
     },
     "execution_count": 135,
     "metadata": {},
     "output_type": "execute_result"
    }
   ],
   "source": [
    "sum(batch.STOCK_ID.isin(static_ids))"
   ]
  },
  {
   "cell_type": "code",
   "execution_count": 103,
   "metadata": {},
   "outputs": [],
   "source": [
    "tmp_lst = list(batch.groupby('STOCK_ID'))"
   ]
  },
  {
   "cell_type": "code",
   "execution_count": 106,
   "metadata": {},
   "outputs": [],
   "source": [
    "stock_id, df = tmp_lst[0]"
   ]
  },
  {
   "cell_type": "code",
   "execution_count": 123,
   "metadata": {},
   "outputs": [],
   "source": [
    "\n",
    "fig = plt.figure()\n",
    "plt.plot(df.index, df.STOCK_AMOUNT, '.')\n",
    "plt.axis('off')\n",
    "\n",
    "if not df.Y[0]:\n",
    "    plt.savefig('images/dataset/correct/%s' % stock_id)\n",
    "else:\n",
    "    plt.savefig('images/dataset/incorrect/%s' % stock_id)\n",
    "plt.close(fig)\n",
    "    "
   ]
  },
  {
   "cell_type": "code",
   "execution_count": 100,
   "metadata": {},
   "outputs": [
    {
     "data": {
      "text/html": [
       "<div>\n",
       "<table border=\"1\" class=\"dataframe\">\n",
       "  <thead>\n",
       "    <tr style=\"text-align: right;\">\n",
       "      <th></th>\n",
       "      <th>ID</th>\n",
       "      <th>ITEM_ID</th>\n",
       "      <th>STOCK_ID</th>\n",
       "      <th>STOCK_AMOUNT</th>\n",
       "      <th>Y</th>\n",
       "    </tr>\n",
       "    <tr>\n",
       "      <th>REG_DT</th>\n",
       "      <th></th>\n",
       "      <th></th>\n",
       "      <th></th>\n",
       "      <th></th>\n",
       "      <th></th>\n",
       "    </tr>\n",
       "  </thead>\n",
       "  <tbody>\n",
       "    <tr>\n",
       "      <th>2017-11-04 14:45:43</th>\n",
       "      <td>1482089358</td>\n",
       "      <td>5621097</td>\n",
       "      <td>28256818001</td>\n",
       "      <td>5</td>\n",
       "      <td>False</td>\n",
       "    </tr>\n",
       "    <tr>\n",
       "      <th>2017-11-10 16:02:44</th>\n",
       "      <td>1582523490</td>\n",
       "      <td>5621097</td>\n",
       "      <td>28256818001</td>\n",
       "      <td>5</td>\n",
       "      <td>False</td>\n",
       "    </tr>\n",
       "    <tr>\n",
       "      <th>2017-11-17 12:16:22</th>\n",
       "      <td>1690619292</td>\n",
       "      <td>5621097</td>\n",
       "      <td>28256818001</td>\n",
       "      <td>5</td>\n",
       "      <td>False</td>\n",
       "    </tr>\n",
       "  </tbody>\n",
       "</table>\n",
       "</div>"
      ],
      "text/plain": [
       "                             ID  ITEM_ID     STOCK_ID  STOCK_AMOUNT      Y\n",
       "REG_DT                                                                    \n",
       "2017-11-04 14:45:43  1482089358  5621097  28256818001             5  False\n",
       "2017-11-10 16:02:44  1582523490  5621097  28256818001             5  False\n",
       "2017-11-17 12:16:22  1690619292  5621097  28256818001             5  False"
      ]
     },
     "execution_count": 100,
     "metadata": {},
     "output_type": "execute_result"
    }
   ],
   "source": [
    "batch[(batch.STOCK_ID == '28256818001') & (batch.Y == False)]"
   ]
  },
  {
   "cell_type": "code",
   "execution_count": 95,
   "metadata": {},
   "outputs": [
    {
     "data": {
      "text/plain": [
       "REG_DT\n",
       "2017-11-04 14:45:43    False\n",
       "2017-11-04 14:45:43    False\n",
       "2017-11-04 14:45:43    False\n",
       "2017-11-10 16:02:44    False\n",
       "2017-11-10 16:02:44    False\n",
       "                       ...  \n",
       "2017-11-06 16:52:39    False\n",
       "2017-11-06 16:52:39    False\n",
       "2017-11-06 16:52:39    False\n",
       "2017-11-06 16:52:39    False\n",
       "2017-11-06 16:52:39    False\n",
       "Name: Y, dtype: bool"
      ]
     },
     "execution_count": 95,
     "metadata": {},
     "output_type": "execute_result"
    }
   ],
   "source": [
    " batch.Y"
   ]
  },
  {
   "cell_type": "code",
   "execution_count": null,
   "metadata": {},
   "outputs": [],
   "source": []
  },
  {
   "cell_type": "code",
   "execution_count": null,
   "metadata": {},
   "outputs": [],
   "source": []
  },
  {
   "cell_type": "code",
   "execution_count": null,
   "metadata": {},
   "outputs": [],
   "source": []
  },
  {
   "cell_type": "code",
   "execution_count": null,
   "metadata": {},
   "outputs": [],
   "source": []
  },
  {
   "cell_type": "code",
   "execution_count": 2,
   "metadata": {},
   "outputs": [
    {
     "ename": "NameError",
     "evalue": "name 'files' is not defined",
     "output_type": "error",
     "traceback": [
      "\u001b[0;31m---------------------------------------------------------------------------\u001b[0m",
      "\u001b[0;31mNameError\u001b[0m                                 Traceback (most recent call last)",
      "\u001b[0;32m<ipython-input-2-c896cb706807>\u001b[0m in \u001b[0;36m<module>\u001b[0;34m()\u001b[0m\n\u001b[0;32m----> 1\u001b[0;31m \u001b[0mfiles\u001b[0m\u001b[0;34m.\u001b[0m\u001b[0msort\u001b[0m\u001b[0;34m(\u001b[0m\u001b[0;34m)\u001b[0m\u001b[0;34m\u001b[0m\u001b[0m\n\u001b[0m",
      "\u001b[0;31mNameError\u001b[0m: name 'files' is not defined"
     ]
    }
   ],
   "source": [
    "files.sort()"
   ]
  },
  {
   "cell_type": "code",
   "execution_count": 4,
   "metadata": {},
   "outputs": [],
   "source": [
    "files.sort()\n",
    "file_lst = []\n",
    "\n",
    "# for file in files:\n",
    "#     file_lst.append(pd.read_pickle(file))\n",
    "    \n",
    "def read_file(file):\n",
    "    logging.warn(file)\n",
    "    return pd.read_pickle(file)[['ITEM_ID', 'STOCK_ID', 'STOCK_AMOUNT', 'REG_DT']]\n",
    "file_lst = Parallel(n_jobs=-1)(map(delayed(read_file), files))    \n",
    "    \n",
    "# pd.concat([batch0, batch1])"
   ]
  },
  {
   "cell_type": "code",
   "execution_count": 6,
   "metadata": {},
   "outputs": [],
   "source": [
    "merged_df = pd.concat(file_lst)"
   ]
  },
  {
   "cell_type": "code",
   "execution_count": 8,
   "metadata": {},
   "outputs": [],
   "source": [
    "merged_df = merged_df.set_index('REG_DT')"
   ]
  },
  {
   "cell_type": "code",
   "execution_count": null,
   "metadata": {},
   "outputs": [],
   "source": [
    "group_list = list(merged_df.groupby('STOCK_ID'))"
   ]
  },
  {
   "cell_type": "code",
   "execution_count": null,
   "metadata": {},
   "outputs": [],
   "source": []
  }
 ],
 "metadata": {
  "kernelspec": {
   "display_name": "Python 2",
   "language": "python",
   "name": "python2"
  },
  "language_info": {
   "codemirror_mode": {
    "name": "ipython",
    "version": 2
   },
   "file_extension": ".py",
   "mimetype": "text/x-python",
   "name": "python",
   "nbconvert_exporter": "python",
   "pygments_lexer": "ipython2",
   "version": "2.7.14"
  }
 },
 "nbformat": 4,
 "nbformat_minor": 2
}
